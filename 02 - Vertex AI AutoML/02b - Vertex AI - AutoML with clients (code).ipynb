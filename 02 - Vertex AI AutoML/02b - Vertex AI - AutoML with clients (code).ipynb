{
 "cells": [
  {
   "cell_type": "markdown",
   "id": "1ad2b88b",
   "metadata": {},
   "source": [
    "![ga4](https://www.google-analytics.com/collect?v=2&tid=G-6VDTYWLKX6&cid=1&en=page_view&sid=1&dl=statmike%2Fvertex-ai-mlops%2F02+-+Vertex+AI+AutoML&dt=02b+-+Vertex+AI+-+AutoML+with+clients+%28code%29.ipynb)\n",
    "\n",
    "# 02b - Vertex AI - AutoML with clients (code)\n",
    "\n",
    "Use the Vertex AI Python Client to recreate the no-code approach of (02a) with code (Python).  This builds a custom model with AutoML and deploys it to an Endpoint for predictions and explanations. \n",
    "\n",
    "### Prerequisites:\n",
    "-  01 - BigQuery - Table Data Source\n",
    "\n",
    "### Resources:\n",
    "-  [Python Client for Vertex AI](https://googleapis.dev/python/aiplatform/latest/aiplatform.html)\n",
    "-  [AutoML Tabular Training Job With Python Client](https://cloud.google.com/vertex-ai/docs/training/automl-api#aiplatform_create_training_pipeline_tabular_classification_sample-python)\n",
    "-  [Interpreting Explanations](https://cloud.google.com/vertex-ai/docs/predictions/interpreting-results-automl#tabular)\n",
    "\n",
    "### Conceptual Flow & Workflow\n",
    "<p align=\"center\">\n",
    "  <img alt=\"Conceptual Flow\" src=\"../architectures/slides/02b_arch.png\" width=\"45%\">\n",
    "&nbsp; &nbsp; &nbsp; &nbsp;\n",
    "  <img alt=\"Workflow\" src=\"../architectures/slides/02b_console.png\" width=\"45%\">\n",
    "</p>"
   ]
  },
  {
   "cell_type": "markdown",
   "id": "274e9220",
   "metadata": {},
   "source": [
    "---\n",
    "## Setup"
   ]
  },
  {
   "cell_type": "markdown",
   "id": "f5ecbc2a",
   "metadata": {},
   "source": [
    "inputs:"
   ]
  },
  {
   "cell_type": "code",
   "execution_count": 4,
   "id": "7bf0314c-770c-41fe-be57-f41eb17bf48a",
   "metadata": {},
   "outputs": [],
   "source": [
    "project = !gcloud config get-value project\n",
    "#PROJECT_ID = project[0]\n",
    "PROJECT_ID = 'vertexai-demo1'"
   ]
  },
  {
   "cell_type": "code",
   "execution_count": 5,
   "id": "2c876ea3",
   "metadata": {},
   "outputs": [],
   "source": [
    "REGION = 'us-central1'\n",
    "DATANAME = 'fraud'\n",
    "NOTEBOOK = '02b'\n",
    "\n",
    "# Resources\n",
    "DEPLOY_COMPUTE = 'n1-standard-4'\n",
    "\n",
    "# Model Training\n",
    "VAR_TARGET = 'Class'\n",
    "VAR_OMIT = 'transaction_id' # add more variables to the string with space delimiters"
   ]
  },
  {
   "cell_type": "markdown",
   "id": "766af32d",
   "metadata": {},
   "source": [
    "packages:"
   ]
  },
  {
   "cell_type": "code",
   "execution_count": 23,
   "id": "37cc8f31",
   "metadata": {},
   "outputs": [],
   "source": [
    "from google.cloud import aiplatform\n",
    "from datetime import datetime\n",
    "\n",
    "from google.cloud import bigquery\n",
    "from google.protobuf import json_format\n",
    "from google.protobuf.struct_pb2 import Value\n",
    "import json\n",
    "import numpy as np"
   ]
  },
  {
   "cell_type": "markdown",
   "id": "8eb5d30a",
   "metadata": {},
   "source": [
    "clients:"
   ]
  },
  {
   "cell_type": "code",
   "execution_count": 24,
   "id": "e6ea1163",
   "metadata": {},
   "outputs": [],
   "source": [
    "aiplatform.init(project=PROJECT_ID, location=REGION)\n",
    "bigquery = bigquery.Client()"
   ]
  },
  {
   "cell_type": "markdown",
   "id": "3bc72990",
   "metadata": {},
   "source": [
    "parameters:"
   ]
  },
  {
   "cell_type": "code",
   "execution_count": 25,
   "id": "0aa6724c",
   "metadata": {},
   "outputs": [],
   "source": [
    "TIMESTAMP = datetime.now().strftime(\"%Y%m%d%H%M%S\")\n",
    "DIR = f\"temp/{NOTEBOOK}\""
   ]
  },
  {
   "cell_type": "markdown",
   "id": "6e7aa5a4",
   "metadata": {},
   "source": [
    "environment:"
   ]
  },
  {
   "cell_type": "code",
   "execution_count": 8,
   "id": "839f366e",
   "metadata": {},
   "outputs": [],
   "source": [
    "!rm -rf {DIR}\n",
    "!mkdir -p {DIR}"
   ]
  },
  {
   "cell_type": "markdown",
   "id": "d5815579",
   "metadata": {},
   "source": [
    "---\n",
    "## Create Dataset (link to BigQuery table)"
   ]
  },
  {
   "cell_type": "code",
   "execution_count": 9,
   "id": "8ef3b1e3",
   "metadata": {},
   "outputs": [
    {
     "name": "stdout",
     "output_type": "stream",
     "text": [
      "Creating TabularDataset\n",
      "Create TabularDataset backing LRO: projects/31483342705/locations/us-central1/datasets/9116299395518693376/operations/3879614477821280256\n",
      "TabularDataset created. Resource name: projects/31483342705/locations/us-central1/datasets/9116299395518693376\n",
      "To use this TabularDataset in another session:\n",
      "ds = aiplatform.TabularDataset('projects/31483342705/locations/us-central1/datasets/9116299395518693376')\n"
     ]
    }
   ],
   "source": [
    "dataset = aiplatform.TabularDataset.create(\n",
    "    display_name = f'{NOTEBOOK}_{DATANAME}_{TIMESTAMP}', \n",
    "    bq_source = f'bq://{PROJECT_ID}.{DATANAME}.{DATANAME}_prepped',\n",
    "    labels = {'notebook':f'{NOTEBOOK}'}\n",
    ")"
   ]
  },
  {
   "cell_type": "markdown",
   "id": "46b48275",
   "metadata": {},
   "source": [
    "---\n",
    "## Train Model with AutoML"
   ]
  },
  {
   "cell_type": "code",
   "execution_count": 18,
   "id": "51634455",
   "metadata": {},
   "outputs": [],
   "source": [
    "column_specs = list(set(dataset.column_names) - set(VAR_OMIT.split()) - set([VAR_TARGET, 'splits']))"
   ]
  },
  {
   "cell_type": "code",
   "execution_count": 19,
   "id": "3115cad7",
   "metadata": {},
   "outputs": [],
   "source": [
    "column_specs = dict.fromkeys(column_specs, 'auto')"
   ]
  },
  {
   "cell_type": "markdown",
   "id": "da9ce943",
   "metadata": {},
   "source": [
    "Define a Job:\n",
    "- Consider Weighting\n",
    "- Model Type\n",
    "- Optimization Objective\n",
    "\n",
    "https://googleapis.dev/python/aiplatform/latest/aiplatform.html#google.cloud.aiplatform.AutoMLTabularTrainingJob"
   ]
  },
  {
   "cell_type": "code",
   "execution_count": 21,
   "id": "2ada2e66",
   "metadata": {},
   "outputs": [],
   "source": [
    "tabular_classification_job = aiplatform.AutoMLTabularTrainingJob(\n",
    "    display_name = f'{NOTEBOOK}_{DATANAME}_{TIMESTAMP}',\n",
    "    optimization_prediction_type = 'classification',\n",
    "    optimization_objective = 'maximize-au-prc',\n",
    "    column_specs = column_specs,\n",
    "    labels = {'notebook':f'{NOTEBOOK}'}\n",
    ")"
   ]
  },
  {
   "cell_type": "code",
   "execution_count": 22,
   "id": "d3c1a2f4",
   "metadata": {
    "scrolled": true,
    "tags": []
   },
   "outputs": [
    {
     "name": "stdout",
     "output_type": "stream",
     "text": [
      "View Training:\n",
      "https://console.cloud.google.com/ai/platform/locations/us-central1/training/3966445453687390208?project=31483342705\n",
      "AutoMLTabularTrainingJob projects/31483342705/locations/us-central1/trainingPipelines/3966445453687390208 current state:\n",
      "PipelineState.PIPELINE_STATE_RUNNING\n",
      "AutoMLTabularTrainingJob projects/31483342705/locations/us-central1/trainingPipelines/3966445453687390208 current state:\n",
      "PipelineState.PIPELINE_STATE_RUNNING\n",
      "AutoMLTabularTrainingJob projects/31483342705/locations/us-central1/trainingPipelines/3966445453687390208 current state:\n",
      "PipelineState.PIPELINE_STATE_RUNNING\n",
      "AutoMLTabularTrainingJob projects/31483342705/locations/us-central1/trainingPipelines/3966445453687390208 current state:\n",
      "PipelineState.PIPELINE_STATE_RUNNING\n",
      "AutoMLTabularTrainingJob projects/31483342705/locations/us-central1/trainingPipelines/3966445453687390208 current state:\n",
      "PipelineState.PIPELINE_STATE_RUNNING\n",
      "AutoMLTabularTrainingJob projects/31483342705/locations/us-central1/trainingPipelines/3966445453687390208 current state:\n",
      "PipelineState.PIPELINE_STATE_RUNNING\n",
      "AutoMLTabularTrainingJob projects/31483342705/locations/us-central1/trainingPipelines/3966445453687390208 current state:\n",
      "PipelineState.PIPELINE_STATE_RUNNING\n",
      "AutoMLTabularTrainingJob projects/31483342705/locations/us-central1/trainingPipelines/3966445453687390208 current state:\n",
      "PipelineState.PIPELINE_STATE_RUNNING\n",
      "AutoMLTabularTrainingJob projects/31483342705/locations/us-central1/trainingPipelines/3966445453687390208 current state:\n",
      "PipelineState.PIPELINE_STATE_RUNNING\n",
      "AutoMLTabularTrainingJob projects/31483342705/locations/us-central1/trainingPipelines/3966445453687390208 current state:\n",
      "PipelineState.PIPELINE_STATE_RUNNING\n",
      "AutoMLTabularTrainingJob projects/31483342705/locations/us-central1/trainingPipelines/3966445453687390208 current state:\n",
      "PipelineState.PIPELINE_STATE_RUNNING\n",
      "AutoMLTabularTrainingJob projects/31483342705/locations/us-central1/trainingPipelines/3966445453687390208 current state:\n",
      "PipelineState.PIPELINE_STATE_RUNNING\n",
      "AutoMLTabularTrainingJob projects/31483342705/locations/us-central1/trainingPipelines/3966445453687390208 current state:\n",
      "PipelineState.PIPELINE_STATE_RUNNING\n",
      "AutoMLTabularTrainingJob projects/31483342705/locations/us-central1/trainingPipelines/3966445453687390208 current state:\n",
      "PipelineState.PIPELINE_STATE_RUNNING\n",
      "AutoMLTabularTrainingJob projects/31483342705/locations/us-central1/trainingPipelines/3966445453687390208 current state:\n",
      "PipelineState.PIPELINE_STATE_RUNNING\n",
      "AutoMLTabularTrainingJob projects/31483342705/locations/us-central1/trainingPipelines/3966445453687390208 current state:\n",
      "PipelineState.PIPELINE_STATE_RUNNING\n",
      "AutoMLTabularTrainingJob projects/31483342705/locations/us-central1/trainingPipelines/3966445453687390208 current state:\n",
      "PipelineState.PIPELINE_STATE_RUNNING\n",
      "AutoMLTabularTrainingJob projects/31483342705/locations/us-central1/trainingPipelines/3966445453687390208 current state:\n",
      "PipelineState.PIPELINE_STATE_RUNNING\n",
      "AutoMLTabularTrainingJob projects/31483342705/locations/us-central1/trainingPipelines/3966445453687390208 current state:\n",
      "PipelineState.PIPELINE_STATE_RUNNING\n",
      "AutoMLTabularTrainingJob projects/31483342705/locations/us-central1/trainingPipelines/3966445453687390208 current state:\n",
      "PipelineState.PIPELINE_STATE_RUNNING\n",
      "AutoMLTabularTrainingJob projects/31483342705/locations/us-central1/trainingPipelines/3966445453687390208 current state:\n",
      "PipelineState.PIPELINE_STATE_RUNNING\n",
      "AutoMLTabularTrainingJob projects/31483342705/locations/us-central1/trainingPipelines/3966445453687390208 current state:\n",
      "PipelineState.PIPELINE_STATE_RUNNING\n",
      "AutoMLTabularTrainingJob projects/31483342705/locations/us-central1/trainingPipelines/3966445453687390208 current state:\n",
      "PipelineState.PIPELINE_STATE_RUNNING\n",
      "AutoMLTabularTrainingJob projects/31483342705/locations/us-central1/trainingPipelines/3966445453687390208 current state:\n",
      "PipelineState.PIPELINE_STATE_RUNNING\n",
      "AutoMLTabularTrainingJob projects/31483342705/locations/us-central1/trainingPipelines/3966445453687390208 current state:\n",
      "PipelineState.PIPELINE_STATE_RUNNING\n",
      "AutoMLTabularTrainingJob projects/31483342705/locations/us-central1/trainingPipelines/3966445453687390208 current state:\n",
      "PipelineState.PIPELINE_STATE_RUNNING\n",
      "AutoMLTabularTrainingJob projects/31483342705/locations/us-central1/trainingPipelines/3966445453687390208 current state:\n",
      "PipelineState.PIPELINE_STATE_RUNNING\n",
      "AutoMLTabularTrainingJob projects/31483342705/locations/us-central1/trainingPipelines/3966445453687390208 current state:\n",
      "PipelineState.PIPELINE_STATE_RUNNING\n",
      "AutoMLTabularTrainingJob run completed. Resource name: projects/31483342705/locations/us-central1/trainingPipelines/3966445453687390208\n",
      "Model available at projects/31483342705/locations/us-central1/models/8351822154865573888\n"
     ]
    }
   ],
   "source": [
    "model = tabular_classification_job.run(\n",
    "    dataset = dataset,\n",
    "    target_column = VAR_TARGET,\n",
    "    predefined_split_column_name = 'splits',\n",
    "    #    training_fraction_split = 0.8,\n",
    "    #    validation_fraction_split = 0.1,\n",
    "    #    test_fraction_split = 0.1,\n",
    "    budget_milli_node_hours = 1000,\n",
    "    model_display_name = f'{NOTEBOOK}_{DATANAME}_{TIMESTAMP}',\n",
    "    disable_early_stopping = False,\n",
    "    model_labels = {'notebook':f'{NOTEBOOK}'}\n",
    ")"
   ]
  },
  {
   "cell_type": "markdown",
   "id": "0523ffaa-9dfb-41cb-b7b5-6cc6ddae1613",
   "metadata": {
    "tags": []
   },
   "source": [
    "---\n",
    "## Evaluation\n",
    "While the model above was trained using AutoML with the API, it is still possible to review the evaluation metrics directly in the Google Cloud Console.  Just visit the Models section of Vertex AI service and select the model and it will present the evaluation metrics with many helpful visuals.\n",
    "\n",
    "It is also possible to retrieve the evaluation metrics for you model using the API.  This section shows how to use the API.\n",
    "\n",
    "For more information review [this page](https://cloud.google.com/vertex-ai/docs/training/evaluating-automl-models)."
   ]
  },
  {
   "cell_type": "markdown",
   "id": "a106b740-1d3b-43b5-ac3d-311fb298b2bf",
   "metadata": {},
   "source": [
    "Setup a model client for the model create by this notebook:"
   ]
  },
  {
   "cell_type": "code",
   "execution_count": 26,
   "id": "a4f7b61b-ad0f-487b-8dc6-ac8ed12e6afb",
   "metadata": {},
   "outputs": [
    {
     "data": {
      "text/plain": [
       "'projects/31483342705/locations/us-central1/models/8351822154865573888'"
      ]
     },
     "execution_count": 26,
     "metadata": {},
     "output_type": "execute_result"
    }
   ],
   "source": [
    "model.resource_name"
   ]
  },
  {
   "cell_type": "code",
   "execution_count": 27,
   "id": "02bbdfaa-75dc-4482-8781-d73f0043aaf9",
   "metadata": {},
   "outputs": [],
   "source": [
    "model_client = aiplatform.gapic.ModelServiceClient(\n",
    "    client_options = {\n",
    "        'api_endpoint' : f'{REGION}-aiplatform.googleapis.com'\n",
    "    }\n",
    ")"
   ]
  },
  {
   "cell_type": "markdown",
   "id": "71227e04-8bb0-46d5-862e-3fddfe0361ae",
   "metadata": {},
   "source": [
    "Retrives the aggregate model evalution metrics for the model as a whole.  First, use `.list_model_evaluations` to retrieve the evaluation id, then use `.get_model_evaluation` for the evaluation id:"
   ]
  },
  {
   "cell_type": "code",
   "execution_count": 28,
   "id": "974b597e-f01d-4147-a824-9a6ac8246a1f",
   "metadata": {},
   "outputs": [],
   "source": [
    "evaluations = model_client.list_model_evaluations(parent = model.resource_name)\n",
    "evals = iter(evaluations)\n",
    "eval_id = next(evals).name\n",
    "geteval = model_client.get_model_evaluation(name = eval_id)"
   ]
  },
  {
   "cell_type": "markdown",
   "id": "39aa9551-2e4a-4673-b0d5-1ddec1233e0e",
   "metadata": {},
   "source": [
    "Review several of the metrics include in the evaluation.  Also, compare these to the results in the console view."
   ]
  },
  {
   "cell_type": "code",
   "execution_count": 29,
   "id": "8dd6e04f-c0ec-4ad1-a8be-460cddcb0267",
   "metadata": {},
   "outputs": [
    {
     "data": {
      "text/plain": [
       "0.9998601"
      ]
     },
     "execution_count": 29,
     "metadata": {},
     "output_type": "execute_result"
    }
   ],
   "source": [
    "geteval.metrics['auPrc']"
   ]
  },
  {
   "cell_type": "code",
   "execution_count": 30,
   "id": "edd9892b-eeac-4a64-aa9b-68a7a45a3e76",
   "metadata": {},
   "outputs": [
    {
     "name": "stdout",
     "output_type": "stream",
     "text": [
      "True Label =  0  has Predicted labels =  [28279.0, 7.0]\n",
      "True Label =  1  has Predicted labels =  [8.0, 39.0]\n"
     ]
    }
   ],
   "source": [
    "for i in range(len(geteval.metrics['confusionMatrix']['annotationSpecs'])):\n",
    "    print('True Label = ', geteval.metrics['confusionMatrix']['annotationSpecs'][i]['displayName'], ' has Predicted labels = ', geteval.metrics['confusionMatrix']['rows'][i])"
   ]
  },
  {
   "cell_type": "markdown",
   "id": "2266afe6-be3f-4565-afd9-cb839682df2c",
   "metadata": {},
   "source": [
    "For models with labels you can retrieve the evaluation metrics for each slice of the model:"
   ]
  },
  {
   "cell_type": "code",
   "execution_count": 31,
   "id": "045a6f0d-ab29-4825-a29e-335f5a1727e1",
   "metadata": {},
   "outputs": [],
   "source": [
    "slices = model_client.list_model_evaluation_slices(parent = eval_id)"
   ]
  },
  {
   "cell_type": "code",
   "execution_count": 32,
   "id": "4b7b5c5a-d43c-4c77-8806-fa92f6438e19",
   "metadata": {},
   "outputs": [
    {
     "name": "stdout",
     "output_type": "stream",
     "text": [
      "Label =  0 has auPrc =  0.9998931\n",
      "Label =  1 has auPrc =  0.89892423\n"
     ]
    }
   ],
   "source": [
    "for slice in slices:\n",
    "    print('Label = ', slice.slice_.value, 'has auPrc = ', slice.metrics['auPrc'])"
   ]
  },
  {
   "cell_type": "markdown",
   "id": "3ef3a49d",
   "metadata": {},
   "source": [
    "---\n",
    "## Endpoint and Deployment"
   ]
  },
  {
   "cell_type": "code",
   "execution_count": 33,
   "id": "f2e1d5e5",
   "metadata": {},
   "outputs": [
    {
     "name": "stdout",
     "output_type": "stream",
     "text": [
      "Creating Endpoint\n",
      "Create Endpoint backing LRO: projects/31483342705/locations/us-central1/endpoints/233096465088512/operations/8548862128985997312\n",
      "Endpoint created. Resource name: projects/31483342705/locations/us-central1/endpoints/233096465088512\n",
      "To use this Endpoint in another session:\n",
      "endpoint = aiplatform.Endpoint('projects/31483342705/locations/us-central1/endpoints/233096465088512')\n"
     ]
    }
   ],
   "source": [
    "endpoint = aiplatform.Endpoint.create(\n",
    "    display_name = f'{NOTEBOOK}_{DATANAME}_{TIMESTAMP}',\n",
    "    labels = {'notebook':f'{NOTEBOOK}'}\n",
    ")"
   ]
  },
  {
   "cell_type": "code",
   "execution_count": 34,
   "id": "7300dff3",
   "metadata": {},
   "outputs": [
    {
     "name": "stdout",
     "output_type": "stream",
     "text": [
      "Deploying Model projects/31483342705/locations/us-central1/models/8351822154865573888 to Endpoint : projects/31483342705/locations/us-central1/endpoints/233096465088512\n",
      "Deploy Endpoint model backing LRO: projects/31483342705/locations/us-central1/endpoints/233096465088512/operations/5786466707547619328\n",
      "Endpoint model deployed. Resource name: projects/31483342705/locations/us-central1/endpoints/233096465088512\n"
     ]
    }
   ],
   "source": [
    "endpoint.deploy(\n",
    "    model = model,\n",
    "    deployed_model_display_name = f'{NOTEBOOK}_{DATANAME}_{TIMESTAMP}',\n",
    "    traffic_percentage = 100,\n",
    "    machine_type = DEPLOY_COMPUTE,\n",
    "    min_replica_count = 1,\n",
    "    max_replica_count = 1\n",
    ")"
   ]
  },
  {
   "cell_type": "markdown",
   "id": "a15d96ee",
   "metadata": {},
   "source": [
    "---\n",
    "## Prediction"
   ]
  },
  {
   "cell_type": "markdown",
   "id": "13e324b8",
   "metadata": {},
   "source": [
    "### Prepare a record for prediction: instance and parameters lists"
   ]
  },
  {
   "cell_type": "code",
   "execution_count": 35,
   "id": "7148bd5b",
   "metadata": {},
   "outputs": [],
   "source": [
    "pred = bigquery.query(query = f\"SELECT * FROM {DATANAME}.{DATANAME}_prepped WHERE splits='TEST' LIMIT 10\").to_dataframe()"
   ]
  },
  {
   "cell_type": "code",
   "execution_count": 36,
   "id": "9055ac97",
   "metadata": {},
   "outputs": [
    {
     "data": {
      "text/html": [
       "<div>\n",
       "<style scoped>\n",
       "    .dataframe tbody tr th:only-of-type {\n",
       "        vertical-align: middle;\n",
       "    }\n",
       "\n",
       "    .dataframe tbody tr th {\n",
       "        vertical-align: top;\n",
       "    }\n",
       "\n",
       "    .dataframe thead th {\n",
       "        text-align: right;\n",
       "    }\n",
       "</style>\n",
       "<table border=\"1\" class=\"dataframe\">\n",
       "  <thead>\n",
       "    <tr style=\"text-align: right;\">\n",
       "      <th></th>\n",
       "      <th>Time</th>\n",
       "      <th>V1</th>\n",
       "      <th>V2</th>\n",
       "      <th>V3</th>\n",
       "      <th>V4</th>\n",
       "      <th>V5</th>\n",
       "      <th>V6</th>\n",
       "      <th>V7</th>\n",
       "      <th>V8</th>\n",
       "      <th>V9</th>\n",
       "      <th>...</th>\n",
       "      <th>V23</th>\n",
       "      <th>V24</th>\n",
       "      <th>V25</th>\n",
       "      <th>V26</th>\n",
       "      <th>V27</th>\n",
       "      <th>V28</th>\n",
       "      <th>Amount</th>\n",
       "      <th>Class</th>\n",
       "      <th>transaction_id</th>\n",
       "      <th>splits</th>\n",
       "    </tr>\n",
       "  </thead>\n",
       "  <tbody>\n",
       "    <tr>\n",
       "      <th>0</th>\n",
       "      <td>89138</td>\n",
       "      <td>-1.160093</td>\n",
       "      <td>1.031158</td>\n",
       "      <td>2.549458</td>\n",
       "      <td>2.239362</td>\n",
       "      <td>1.116877</td>\n",
       "      <td>0.932354</td>\n",
       "      <td>0.293081</td>\n",
       "      <td>0.445894</td>\n",
       "      <td>-1.721378</td>\n",
       "      <td>...</td>\n",
       "      <td>-0.436904</td>\n",
       "      <td>0.761667</td>\n",
       "      <td>0.710641</td>\n",
       "      <td>0.054423</td>\n",
       "      <td>0.007773</td>\n",
       "      <td>0.066995</td>\n",
       "      <td>0.0</td>\n",
       "      <td>0</td>\n",
       "      <td>f0f68f2f-844e-4a42-955c-635c6e487fcf</td>\n",
       "      <td>TEST</td>\n",
       "    </tr>\n",
       "    <tr>\n",
       "      <th>1</th>\n",
       "      <td>56291</td>\n",
       "      <td>1.212651</td>\n",
       "      <td>-0.507509</td>\n",
       "      <td>1.019939</td>\n",
       "      <td>-0.016309</td>\n",
       "      <td>-1.182505</td>\n",
       "      <td>-0.005955</td>\n",
       "      <td>-0.947555</td>\n",
       "      <td>0.325728</td>\n",
       "      <td>1.159265</td>\n",
       "      <td>...</td>\n",
       "      <td>0.038193</td>\n",
       "      <td>0.018386</td>\n",
       "      <td>0.061660</td>\n",
       "      <td>1.001295</td>\n",
       "      <td>-0.049728</td>\n",
       "      <td>-0.003026</td>\n",
       "      <td>0.0</td>\n",
       "      <td>0</td>\n",
       "      <td>47b75c71-efc3-497d-bafa-540deb857933</td>\n",
       "      <td>TEST</td>\n",
       "    </tr>\n",
       "    <tr>\n",
       "      <th>2</th>\n",
       "      <td>6538</td>\n",
       "      <td>1.139435</td>\n",
       "      <td>0.666018</td>\n",
       "      <td>0.999076</td>\n",
       "      <td>2.620147</td>\n",
       "      <td>-0.194133</td>\n",
       "      <td>-0.265980</td>\n",
       "      <td>-0.103196</td>\n",
       "      <td>-0.046573</td>\n",
       "      <td>0.311083</td>\n",
       "      <td>...</td>\n",
       "      <td>0.069927</td>\n",
       "      <td>0.454127</td>\n",
       "      <td>0.307426</td>\n",
       "      <td>-0.167981</td>\n",
       "      <td>-0.036667</td>\n",
       "      <td>0.010581</td>\n",
       "      <td>0.0</td>\n",
       "      <td>0</td>\n",
       "      <td>86084675-1a9b-457b-a114-04bab0848eba</td>\n",
       "      <td>TEST</td>\n",
       "    </tr>\n",
       "    <tr>\n",
       "      <th>3</th>\n",
       "      <td>121732</td>\n",
       "      <td>-1.866189</td>\n",
       "      <td>0.530582</td>\n",
       "      <td>-0.727456</td>\n",
       "      <td>-0.855107</td>\n",
       "      <td>2.169964</td>\n",
       "      <td>-1.588312</td>\n",
       "      <td>1.463897</td>\n",
       "      <td>-0.085754</td>\n",
       "      <td>-1.251841</td>\n",
       "      <td>...</td>\n",
       "      <td>-0.311277</td>\n",
       "      <td>-0.677299</td>\n",
       "      <td>1.803669</td>\n",
       "      <td>0.822689</td>\n",
       "      <td>-0.295855</td>\n",
       "      <td>-0.135467</td>\n",
       "      <td>0.0</td>\n",
       "      <td>0</td>\n",
       "      <td>7610d473-75b3-42f9-809d-7dfa694b486b</td>\n",
       "      <td>TEST</td>\n",
       "    </tr>\n",
       "  </tbody>\n",
       "</table>\n",
       "<p>4 rows × 33 columns</p>\n",
       "</div>"
      ],
      "text/plain": [
       "     Time        V1        V2        V3        V4        V5        V6  \\\n",
       "0   89138 -1.160093  1.031158  2.549458  2.239362  1.116877  0.932354   \n",
       "1   56291  1.212651 -0.507509  1.019939 -0.016309 -1.182505 -0.005955   \n",
       "2    6538  1.139435  0.666018  0.999076  2.620147 -0.194133 -0.265980   \n",
       "3  121732 -1.866189  0.530582 -0.727456 -0.855107  2.169964 -1.588312   \n",
       "\n",
       "         V7        V8        V9  ...       V23       V24       V25       V26  \\\n",
       "0  0.293081  0.445894 -1.721378  ... -0.436904  0.761667  0.710641  0.054423   \n",
       "1 -0.947555  0.325728  1.159265  ...  0.038193  0.018386  0.061660  1.001295   \n",
       "2 -0.103196 -0.046573  0.311083  ...  0.069927  0.454127  0.307426 -0.167981   \n",
       "3  1.463897 -0.085754 -1.251841  ... -0.311277 -0.677299  1.803669  0.822689   \n",
       "\n",
       "        V27       V28  Amount  Class                        transaction_id  \\\n",
       "0  0.007773  0.066995     0.0      0  f0f68f2f-844e-4a42-955c-635c6e487fcf   \n",
       "1 -0.049728 -0.003026     0.0      0  47b75c71-efc3-497d-bafa-540deb857933   \n",
       "2 -0.036667  0.010581     0.0      0  86084675-1a9b-457b-a114-04bab0848eba   \n",
       "3 -0.295855 -0.135467     0.0      0  7610d473-75b3-42f9-809d-7dfa694b486b   \n",
       "\n",
       "   splits  \n",
       "0    TEST  \n",
       "1    TEST  \n",
       "2    TEST  \n",
       "3    TEST  \n",
       "\n",
       "[4 rows x 33 columns]"
      ]
     },
     "execution_count": 36,
     "metadata": {},
     "output_type": "execute_result"
    }
   ],
   "source": [
    "pred.head(4)"
   ]
  },
  {
   "cell_type": "code",
   "execution_count": 37,
   "id": "f2f80ac2",
   "metadata": {},
   "outputs": [
    {
     "data": {
      "text/plain": [
       "{'Time': 89138,\n",
       " 'V1': -1.1600929853435802,\n",
       " 'V2': 1.03115814027421,\n",
       " 'V3': 2.54945773658398,\n",
       " 'V4': 2.2393622321291202,\n",
       " 'V5': 1.1168768536230902,\n",
       " 'V6': 0.932354389582821,\n",
       " 'V7': 0.29308050964176696,\n",
       " 'V8': 0.44589377122398494,\n",
       " 'V9': -1.7213784585520802,\n",
       " 'V10': 0.38410870972907496,\n",
       " 'V11': 0.204008416772058,\n",
       " 'V12': 0.357900891241851,\n",
       " 'V13': 0.46137911105009494,\n",
       " 'V14': -0.318158579751593,\n",
       " 'V15': -1.9316766278711999,\n",
       " 'V16': 1.48721136898099,\n",
       " 'V17': -1.40071903532013,\n",
       " 'V18': 0.583498846617402,\n",
       " 'V19': -1.99835738239697,\n",
       " 'V20': -0.0497223830332001,\n",
       " 'V21': 0.28326511327626896,\n",
       " 'V22': 0.647646239603879,\n",
       " 'V23': -0.43690430897323795,\n",
       " 'V24': 0.7616668035401759,\n",
       " 'V25': 0.7106407552745571,\n",
       " 'V26': 0.0544232129121311,\n",
       " 'V27': 0.007773336073858191,\n",
       " 'V28': 0.0669948572470503,\n",
       " 'Amount': 0.0}"
      ]
     },
     "execution_count": 37,
     "metadata": {},
     "output_type": "execute_result"
    }
   ],
   "source": [
    "newob = pred[pred.columns[~pred.columns.isin(VAR_OMIT.split()+[VAR_TARGET, 'splits'])]].to_dict(orient='records')[0]\n",
    "newob"
   ]
  },
  {
   "cell_type": "markdown",
   "id": "64909cc0",
   "metadata": {},
   "source": [
    "Need to understand the format of variables that the predictions expect.  AutoML may convert the type of some variables. The following cells retrieve the model from the endpoint and its schemata:"
   ]
  },
  {
   "cell_type": "code",
   "execution_count": 38,
   "id": "0b155fd4",
   "metadata": {},
   "outputs": [],
   "source": [
    "newob['Time'] = str(newob['Time'])"
   ]
  },
  {
   "cell_type": "code",
   "execution_count": 39,
   "id": "44a386d9",
   "metadata": {},
   "outputs": [],
   "source": [
    "instances = [json_format.ParseDict(newob, Value())]\n",
    "parameters = json_format.ParseDict({}, Value())"
   ]
  },
  {
   "cell_type": "markdown",
   "id": "6fa715ce",
   "metadata": {},
   "source": [
    "### Get Predictions: Python Client"
   ]
  },
  {
   "cell_type": "code",
   "execution_count": 40,
   "id": "b6f11350",
   "metadata": {},
   "outputs": [],
   "source": [
    "prediction = endpoint.predict(instances=instances, parameters=parameters)"
   ]
  },
  {
   "cell_type": "code",
   "execution_count": 41,
   "id": "063eba38",
   "metadata": {},
   "outputs": [
    {
     "data": {
      "text/plain": [
       "Prediction(predictions=[{'scores': [0.9988523125648499, 0.001147674163803458], 'classes': ['0', '1']}], deployed_model_id='6427459102955274240', model_version_id='1', model_resource_name='projects/31483342705/locations/us-central1/models/8351822154865573888', explanations=None)"
      ]
     },
     "execution_count": 41,
     "metadata": {},
     "output_type": "execute_result"
    }
   ],
   "source": [
    "prediction"
   ]
  },
  {
   "cell_type": "code",
   "execution_count": 42,
   "id": "30a5f2c7",
   "metadata": {},
   "outputs": [
    {
     "data": {
      "text/plain": [
       "'0'"
      ]
     },
     "execution_count": 42,
     "metadata": {},
     "output_type": "execute_result"
    }
   ],
   "source": [
    "prediction.predictions[0]['classes'][np.argmax(prediction.predictions[0]['scores'])]"
   ]
  },
  {
   "cell_type": "markdown",
   "id": "37ff1640",
   "metadata": {},
   "source": [
    "### Get Predictions: REST"
   ]
  },
  {
   "cell_type": "code",
   "execution_count": 43,
   "id": "7c268d6d",
   "metadata": {},
   "outputs": [],
   "source": [
    "with open(f'{DIR}/request.json','w') as file:\n",
    "    file.write(json.dumps({\"instances\": [newob]}))"
   ]
  },
  {
   "cell_type": "code",
   "execution_count": 44,
   "id": "2edca20a",
   "metadata": {},
   "outputs": [
    {
     "name": "stdout",
     "output_type": "stream",
     "text": [
      "{\n",
      "  \"predictions\": [\n",
      "    {\n",
      "      \"classes\": [\n",
      "        \"0\",\n",
      "        \"1\"\n",
      "      ],\n",
      "      \"scores\": [\n",
      "        0.99885231256484985,\n",
      "        0.001147674163803458\n",
      "      ]\n",
      "    }\n",
      "  ],\n",
      "  \"deployedModelId\": \"6427459102955274240\",\n",
      "  \"model\": \"projects/31483342705/locations/us-central1/models/8351822154865573888\",\n",
      "  \"modelDisplayName\": \"02b_fraud_20230115055339\",\n",
      "  \"modelVersionId\": \"1\"\n",
      "}\n"
     ]
    }
   ],
   "source": [
    "!curl -X POST \\\n",
    "-H \"Authorization: Bearer \"$(gcloud auth application-default print-access-token) \\\n",
    "-H \"Content-Type: application/json; charset=utf-8\" \\\n",
    "-d @{DIR}/request.json \\\n",
    "https://{REGION}-aiplatform.googleapis.com/v1/{endpoint.resource_name}:predict"
   ]
  },
  {
   "cell_type": "markdown",
   "id": "17d3a22b",
   "metadata": {},
   "source": [
    "### Get Predictions: gcloud (CLI)"
   ]
  },
  {
   "cell_type": "code",
   "execution_count": 45,
   "id": "2621a2e3",
   "metadata": {},
   "outputs": [
    {
     "name": "stdout",
     "output_type": "stream",
     "text": [
      "Using endpoint [https://us-central1-prediction-aiplatform.googleapis.com/]\n",
      "[{'classes': ['0', '1'], 'scores': [0.9988523125648499, 0.001147674163803458]}]\n"
     ]
    }
   ],
   "source": [
    "!gcloud beta ai endpoints predict {endpoint.name.rsplit('/',1)[-1]} --region={REGION} --json-request={DIR}/request.json"
   ]
  },
  {
   "cell_type": "markdown",
   "id": "aa2dbae2",
   "metadata": {},
   "source": [
    "---\n",
    "## Explanations\n",
    "Interpretation Guide\n",
    "- https://cloud.google.com/vertex-ai/docs/predictions/interpreting-results-automl#tabular"
   ]
  },
  {
   "cell_type": "code",
   "execution_count": 46,
   "id": "b44aedf4",
   "metadata": {},
   "outputs": [],
   "source": [
    "explanation = endpoint.explain(instances=instances, parameters=parameters)"
   ]
  },
  {
   "cell_type": "code",
   "execution_count": 47,
   "id": "d64bcf23",
   "metadata": {},
   "outputs": [
    {
     "data": {
      "text/plain": [
       "[{'classes': ['0', '1'], 'scores': [0.9988523125648499, 0.001147674163803458]}]"
      ]
     },
     "execution_count": 47,
     "metadata": {},
     "output_type": "execute_result"
    }
   ],
   "source": [
    "explanation.predictions"
   ]
  },
  {
   "cell_type": "code",
   "execution_count": 48,
   "id": "5665a357",
   "metadata": {},
   "outputs": [
    {
     "name": "stdout",
     "output_type": "stream",
     "text": [
      "attribution:\n",
      "baseline output 0.9999741911888123\n",
      "instance output 0.9988523125648499\n",
      "output_index [0]\n",
      "output display value 0\n",
      "approximation error 0.012661215798475772\n"
     ]
    }
   ],
   "source": [
    "print(\"attribution:\")\n",
    "print(\"baseline output\",explanation.explanations[0].attributions[0].baseline_output_value)\n",
    "print(\"instance output\",explanation.explanations[0].attributions[0].instance_output_value)\n",
    "print(\"output_index\",explanation.explanations[0].attributions[0].output_index)\n",
    "print(\"output display value\",explanation.explanations[0].attributions[0].output_display_name)\n",
    "print(\"approximation error\",explanation.explanations[0].attributions[0].approximation_error)"
   ]
  },
  {
   "cell_type": "code",
   "execution_count": 49,
   "id": "f4658234",
   "metadata": {},
   "outputs": [
    {
     "data": {
      "image/png": "[encoded data removed]",
      "text/plain": [
       "<Figure size 900x900 with 1 Axes>"
      ]
     },
     "metadata": {},
     "output_type": "display_data"
    }
   ],
   "source": [
    "import matplotlib.pyplot as plt\n",
    "features = []\n",
    "scores = []\n",
    "for k in explanation.explanations[0].attributions[0].feature_attributions:\n",
    "    features.append(k)\n",
    "    scores.append(explanation.explanations[0].attributions[0].feature_attributions[k])\n",
    "features = [x for _, x in sorted(zip(scores, features))]\n",
    "scores = sorted(scores)\n",
    "fig, ax = plt.subplots()\n",
    "fig.set_size_inches(9, 9)\n",
    "ax.barh(features, scores)\n",
    "fig.show()"
   ]
  },
  {
   "cell_type": "markdown",
   "id": "1c214f08",
   "metadata": {},
   "source": [
    "---\n",
    "## Batch Predictions: BigQuery Source to BigQuery Destination, with Explanations"
   ]
  },
  {
   "cell_type": "code",
   "execution_count": null,
   "id": "71448467",
   "metadata": {
    "scrolled": true,
    "tags": []
   },
   "outputs": [
    {
     "name": "stdout",
     "output_type": "stream",
     "text": [
      "Creating BatchPredictionJob\n",
      "BatchPredictionJob created. Resource name: projects/31483342705/locations/us-central1/batchPredictionJobs/6690683423595429888\n",
      "To use this BatchPredictionJob in another session:\n",
      "bpj = aiplatform.BatchPredictionJob('projects/31483342705/locations/us-central1/batchPredictionJobs/6690683423595429888')\n",
      "View Batch Prediction Job:\n",
      "https://console.cloud.google.com/ai/platform/locations/us-central1/batch-predictions/6690683423595429888?project=31483342705\n",
      "BatchPredictionJob projects/31483342705/locations/us-central1/batchPredictionJobs/6690683423595429888 current state:\n",
      "JobState.JOB_STATE_RUNNING\n",
      "BatchPredictionJob projects/31483342705/locations/us-central1/batchPredictionJobs/6690683423595429888 current state:\n",
      "JobState.JOB_STATE_RUNNING\n",
      "BatchPredictionJob projects/31483342705/locations/us-central1/batchPredictionJobs/6690683423595429888 current state:\n",
      "JobState.JOB_STATE_RUNNING\n",
      "BatchPredictionJob projects/31483342705/locations/us-central1/batchPredictionJobs/6690683423595429888 current state:\n",
      "JobState.JOB_STATE_RUNNING\n",
      "BatchPredictionJob projects/31483342705/locations/us-central1/batchPredictionJobs/6690683423595429888 current state:\n",
      "JobState.JOB_STATE_RUNNING\n",
      "BatchPredictionJob projects/31483342705/locations/us-central1/batchPredictionJobs/6690683423595429888 current state:\n",
      "JobState.JOB_STATE_RUNNING\n",
      "BatchPredictionJob projects/31483342705/locations/us-central1/batchPredictionJobs/6690683423595429888 current state:\n",
      "JobState.JOB_STATE_RUNNING\n",
      "BatchPredictionJob projects/31483342705/locations/us-central1/batchPredictionJobs/6690683423595429888 current state:\n",
      "JobState.JOB_STATE_RUNNING\n",
      "BatchPredictionJob projects/31483342705/locations/us-central1/batchPredictionJobs/6690683423595429888 current state:\n",
      "JobState.JOB_STATE_RUNNING\n",
      "BatchPredictionJob projects/31483342705/locations/us-central1/batchPredictionJobs/6690683423595429888 current state:\n",
      "JobState.JOB_STATE_RUNNING\n"
     ]
    }
   ],
   "source": [
    "batch = aiplatform.BatchPredictionJob.create(\n",
    "    job_display_name = f'{NOTEBOOK}_{DATANAME}_{TIMESTAMP}',\n",
    "    model_name = model.name,\n",
    "    instances_format = \"bigquery\",\n",
    "    predictions_format = \"bigquery\",\n",
    "    bigquery_source = f'bq://{PROJECT_ID}.{DATANAME}.{DATANAME}_prepped',\n",
    "    bigquery_destination_prefix = f\"{PROJECT_ID}\",\n",
    "    generate_explanation = True,\n",
    "    labels = {'notebook':f'{NOTEBOOK}'}\n",
    ")"
   ]
  },
  {
   "cell_type": "markdown",
   "id": "c89d3b3d",
   "metadata": {},
   "source": [
    "---\n",
    "## Remove Resources\n",
    "see notebook \"99 - Cleanup\""
   ]
  }
 ],
 "metadata": {
  "environment": {
   "kernel": "python3",
   "name": "tf2-gpu.2-10.m102",
   "type": "gcloud",
   "uri": "gcr.io/deeplearning-platform-release/tf2-gpu.2-10:m102"
  },
  "kernelspec": {
   "display_name": "Python 3 (ipykernel)",
   "language": "python",
   "name": "python3"
  },
  "language_info": {
   "codemirror_mode": {
    "name": "ipython",
    "version": 3
   },
   "file_extension": ".py",
   "mimetype": "text/x-python",
   "name": "python",
   "nbconvert_exporter": "python",
   "pygments_lexer": "ipython3",
   "version": "3.7.12"
  }
 },
 "nbformat": 4,
 "nbformat_minor": 5
}
