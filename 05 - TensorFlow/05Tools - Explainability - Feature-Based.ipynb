{
 "cells": [
  {
   "cell_type": "markdown",
   "id": "d88c3e15-9a15-4d65-b959-d122b5af91cf",
   "metadata": {},
   "source": [
    "![ga4](https://www.google-analytics.com/collect?v=2&tid=G-6VDTYWLKX6&cid=1&en=page_view&sid=1&dl=statmike%2Fvertex-ai-mlops%2F05+-+TensorFlow&dt=05Tools+-+Explainability+-+Feature-Based.ipynb)\n",
    "\n",
    "# 05Tools: Model Explainability - Feature-Based\n",
    "\n",
    "Model explainability helps understand model outputs = predictions.  There are two approaches here:\n",
    "- Feature-Based Explanations - columns/features attributions\n",
    "    - How much did each feature contribute to a specific prediction\n",
    "    - Uses a baseline for comparison, usually based on a central value for each feature from the training data\n",
    "    - Helpful for recognizing bias and finding areas for improvement\n",
    "    - Read more about [feature attributions and methods](https://cloud.google.com/vertex-ai/docs/explainable-ai/overview#feature_attributions)\n",
    "    - Examples in [github.com/GoogleClouPlatform/vertex-ai-samples](https://github.com/GoogleCloudPlatform/vertex-ai-samples/tree/main/notebooks/official/explainable_ai)\n",
    "- Example-Based Explanations - row/example attributions\n",
    "    - Return similar examples from training data, neighbors, to help understand predictions\n",
    "    - Along with a prediction, get examples from the source data that are most similar to the prediction to further understand \"why?\"\n",
    "    \n",
    "This notebook covers feature-based explanations.  For a review of example-based explanations see the notebook [05Tools - Explainability - Example-Based.ipynb](./05Tools%20-%20Explainability%20-%20Example-Based.ipynb).\n",
    "    \n",
    "Vertex AI can serve explanations during online and batch predictions.  \n",
    "\n",
    "### Prerequisites:\n",
    "-  At least 1 of the notebooks in this series [05, 05a-05i]\n",
    "    - these each create a model, add it to the Vertex AI Model Registry, and update a Vertex AI Endpoint for the series\n",
    "\n",
    "### Conceptual Flow & Workflow\n",
    "<p align=\"center\">\n",
    "  <img alt=\"Conceptual Flow\" src=\"../architectures/slides/05tools_explain_arch.png\" width=\"45%\">\n",
    "&nbsp; &nbsp; &nbsp; &nbsp;\n",
    "  <img alt=\"Workflow\" src=\"../architectures/slides/05tools_explain_console.png\" width=\"45%\">\n",
    "</p>"
   ]
  },
  {
   "cell_type": "markdown",
   "id": "dfbf5aea-7edc-4961-bd66-542bbf201e06",
   "metadata": {},
   "source": [
    "---\n",
    "## Setup"
   ]
  },
  {
   "cell_type": "markdown",
   "id": "a2150c34-bfff-432b-b60a-20af9c153650",
   "metadata": {},
   "source": [
    "inputs:"
   ]
  },
  {
   "cell_type": "code",
   "execution_count": 1,
   "id": "93b4f256-97d1-4bf1-8b38-4b3bca857ac2",
   "metadata": {},
   "outputs": [
    {
     "data": {
      "text/plain": [
       "'statmike-mlops-349915'"
      ]
     },
     "execution_count": 1,
     "metadata": {},
     "output_type": "execute_result"
    }
   ],
   "source": [
    "project = !gcloud config get-value project\n",
    "PROJECT_ID = project[0]\n",
    "PROJECT_ID"
   ]
  },
  {
   "cell_type": "code",
   "execution_count": 2,
   "id": "3baf2329-67a1-40ce-b16c-77cbc733dff6",
   "metadata": {},
   "outputs": [],
   "source": [
    "REGION = 'us-central1'\n",
    "EXPERIMENT = '05_explanability'\n",
    "SERIES = '05'\n",
    "\n",
    "# source data\n",
    "BQ_PROJECT = PROJECT_ID\n",
    "BQ_DATASET = 'fraud'\n",
    "BQ_TABLE = 'fraud_prepped'\n",
    "\n",
    "# Resources\n",
    "DEPLOY_COMPUTE = 'n1-standard-4'\n",
    "DEPLOY_IMAGE='us-docker.pkg.dev/vertex-ai/prediction/tf2-cpu.2-7:latest'\n",
    "\n",
    "# Model Training\n",
    "VAR_TARGET = 'Class'\n",
    "VAR_OMIT = 'transaction_id' # add more variables to the string with space delimiters"
   ]
  },
  {
   "cell_type": "markdown",
   "id": "5c4f4c23-a10a-4027-8ab4-edb59d949fef",
   "metadata": {},
   "source": [
    "packages:"
   ]
  },
  {
   "cell_type": "code",
   "execution_count": 3,
   "id": "f5c03913-cb39-4367-810b-2685e713fd0c",
   "metadata": {},
   "outputs": [],
   "source": [
    "from google.cloud import aiplatform\n",
    "from google.cloud import bigquery\n",
    "\n",
    "import tensorflow as tf\n",
    "\n",
    "from datetime import datetime\n",
    "from google.protobuf import json_format\n",
    "from google.protobuf.struct_pb2 import Value\n",
    "import json\n",
    "import numpy as np"
   ]
  },
  {
   "cell_type": "markdown",
   "id": "3a12ed0a-3c56-48de-8e56-82dd1d860f23",
   "metadata": {},
   "source": [
    "clients:"
   ]
  },
  {
   "cell_type": "code",
   "execution_count": 4,
   "id": "8ea5aef0-1cf6-4f2a-ab03-bd91c04154c5",
   "metadata": {},
   "outputs": [],
   "source": [
    "aiplatform.init(project=PROJECT_ID, location=REGION)\n",
    "bq = bigquery.Client()"
   ]
  },
  {
   "cell_type": "markdown",
   "id": "35ee3501-3580-484d-9a21-232676afd882",
   "metadata": {},
   "source": [
    "parameters:"
   ]
  },
  {
   "cell_type": "code",
   "execution_count": 5,
   "id": "4192c9bb-7fd3-426a-8c8b-a302dbdbcf9f",
   "metadata": {},
   "outputs": [],
   "source": [
    "BUCKET = PROJECT_ID\n",
    "DIR = f\"temp/{EXPERIMENT}\""
   ]
  },
  {
   "cell_type": "code",
   "execution_count": 6,
   "id": "5ed3c39a-1004-4aad-b4d4-6885873ad17c",
   "metadata": {},
   "outputs": [
    {
     "data": {
      "text/plain": [
       "'1026793852137-compute@developer.gserviceaccount.com'"
      ]
     },
     "execution_count": 6,
     "metadata": {},
     "output_type": "execute_result"
    }
   ],
   "source": [
    "SERVICE_ACCOUNT = !gcloud config list --format='value(core.account)' \n",
    "SERVICE_ACCOUNT = SERVICE_ACCOUNT[0]\n",
    "SERVICE_ACCOUNT"
   ]
  },
  {
   "cell_type": "markdown",
   "id": "3d466299-34cf-4350-9b9d-4dff5d1499df",
   "metadata": {},
   "source": [
    "List the service accounts current roles:"
   ]
  },
  {
   "cell_type": "code",
   "execution_count": 7,
   "id": "8b131ff2-6b09-47e7-833f-889ad1d02127",
   "metadata": {},
   "outputs": [
    {
     "name": "stdout",
     "output_type": "stream",
     "text": [
      "ROLE\n",
      "roles/bigquery.admin\n",
      "roles/owner\n",
      "roles/run.admin\n",
      "roles/storage.objectAdmin\n"
     ]
    }
   ],
   "source": [
    "!gcloud projects get-iam-policy $PROJECT_ID --filter=\"bindings.members:$SERVICE_ACCOUNT\" --format='table(bindings.role)' --flatten=\"bindings[].members\""
   ]
  },
  {
   "cell_type": "markdown",
   "id": "a26d1a7d-0e10-4f8a-8ff6-bc4c6c05bf3c",
   "metadata": {},
   "source": [
    ">Note: If the resulting list is missing [roles/storage.objectAdmin](https://cloud.google.com/storage/docs/access-control/iam-roles) then [revisit the setup notebook](../00%20-%20Setup/00%20-%20Environment%20Setup.ipynb#permissions) and add this permission to the service account with the provided instructions."
   ]
  },
  {
   "cell_type": "markdown",
   "id": "fa52b2ea-b3d1-4bb6-9c5d-196f5d26fe34",
   "metadata": {},
   "source": [
    "environment:"
   ]
  },
  {
   "cell_type": "code",
   "execution_count": 8,
   "id": "cd20362b-3fd3-4bd4-a73f-0e58a9c4373f",
   "metadata": {},
   "outputs": [],
   "source": [
    "!rm -rf {DIR}\n",
    "!mkdir -p {DIR}"
   ]
  },
  {
   "cell_type": "markdown",
   "id": "59ae4f69-6b08-4ca6-8dc0-a7cf16fea77d",
   "metadata": {},
   "source": [
    "---\n",
    "## Get Vertex AI Endpoint And Deployed Model"
   ]
  },
  {
   "cell_type": "code",
   "execution_count": 9,
   "id": "b2d74afb-77ea-4e0b-88d0-1689c4fc219c",
   "metadata": {},
   "outputs": [
    {
     "name": "stdout",
     "output_type": "stream",
     "text": [
      "Endpoint Exists: projects/1026793852137/locations/us-central1/endpoints/1961322035766362112\n"
     ]
    }
   ],
   "source": [
    "endpoints = aiplatform.Endpoint.list(filter = f\"labels.series={SERIES}\")\n",
    "if endpoints:\n",
    "    endpoint = endpoints[0]\n",
    "    print(f\"Endpoint Exists: {endpoints[0].resource_name}\")\n",
    "else:\n",
    "    print(f\"There does not appear to be an endpoint for SERIES = {SERIES}\")"
   ]
  },
  {
   "cell_type": "code",
   "execution_count": 10,
   "id": "676f81ea-c357-4e3f-9451-2bb5579e1372",
   "metadata": {},
   "outputs": [
    {
     "data": {
      "text/plain": [
       "'05'"
      ]
     },
     "execution_count": 10,
     "metadata": {},
     "output_type": "execute_result"
    }
   ],
   "source": [
    "endpoint.display_name"
   ]
  },
  {
   "cell_type": "code",
   "execution_count": 11,
   "id": "fbdb37dd-2fba-48d8-9527-467b7760cf76",
   "metadata": {},
   "outputs": [],
   "source": [
    "model = aiplatform.Model(\n",
    "    model_name = endpoint.list_models()[0].model+f'@{endpoint.list_models()[0].model_version_id}'\n",
    ")"
   ]
  },
  {
   "cell_type": "code",
   "execution_count": 12,
   "id": "e090e560-9f82-480e-ab4e-9828b53de940",
   "metadata": {},
   "outputs": [
    {
     "data": {
      "text/plain": [
       "'05_05a'"
      ]
     },
     "execution_count": 12,
     "metadata": {},
     "output_type": "execute_result"
    }
   ],
   "source": [
    "model.display_name"
   ]
  },
  {
   "cell_type": "code",
   "execution_count": 13,
   "id": "88e8314c-c86a-4fe8-8fb1-7443eb3b2561",
   "metadata": {},
   "outputs": [
    {
     "data": {
      "text/plain": [
       "'projects/1026793852137/locations/us-central1/models/model_05_05a@4'"
      ]
     },
     "execution_count": 13,
     "metadata": {},
     "output_type": "execute_result"
    }
   ],
   "source": [
    "model.versioned_resource_name"
   ]
  },
  {
   "cell_type": "code",
   "execution_count": 14,
   "id": "52cf670f-e51d-45cf-b405-66ed396f0634",
   "metadata": {},
   "outputs": [
    {
     "data": {
      "text/plain": [
       "'gs://statmike-mlops-349915/05/05a/models/20221109171913/model'"
      ]
     },
     "execution_count": 14,
     "metadata": {},
     "output_type": "execute_result"
    }
   ],
   "source": [
    "model.uri"
   ]
  },
  {
   "cell_type": "markdown",
   "id": "44951097-7ecb-4508-ae3a-83633598919a",
   "metadata": {},
   "source": [
    "---\n",
    "## Retrieve Records For Prediction & Explanation"
   ]
  },
  {
   "cell_type": "code",
   "execution_count": 59,
   "id": "642aee16-fb2b-4898-a190-f6c490210992",
   "metadata": {},
   "outputs": [],
   "source": [
    "n = 10\n",
    "pred = bq.query(\n",
    "    query = f\"\"\"\n",
    "        SELECT * EXCEPT(splits, {VAR_TARGET}, {VAR_OMIT})\n",
    "        FROM {BQ_PROJECT}.{BQ_DATASET}.{BQ_TABLE}\n",
    "        WHERE splits='TEST'\n",
    "        LIMIT {n}\n",
    "        \"\"\"\n",
    ").to_dataframe()"
   ]
  },
  {
   "cell_type": "code",
   "execution_count": 60,
   "id": "b08ce989-7e11-42ee-9a71-995211669620",
   "metadata": {},
   "outputs": [
    {
     "data": {
      "text/html": [
       "<div>\n",
       "<style scoped>\n",
       "    .dataframe tbody tr th:only-of-type {\n",
       "        vertical-align: middle;\n",
       "    }\n",
       "\n",
       "    .dataframe tbody tr th {\n",
       "        vertical-align: top;\n",
       "    }\n",
       "\n",
       "    .dataframe thead th {\n",
       "        text-align: right;\n",
       "    }\n",
       "</style>\n",
       "<table border=\"1\" class=\"dataframe\">\n",
       "  <thead>\n",
       "    <tr style=\"text-align: right;\">\n",
       "      <th></th>\n",
       "      <th>Time</th>\n",
       "      <th>V1</th>\n",
       "      <th>V2</th>\n",
       "      <th>V3</th>\n",
       "      <th>V4</th>\n",
       "      <th>V5</th>\n",
       "      <th>V6</th>\n",
       "      <th>V7</th>\n",
       "      <th>V8</th>\n",
       "      <th>V9</th>\n",
       "      <th>...</th>\n",
       "      <th>V20</th>\n",
       "      <th>V21</th>\n",
       "      <th>V22</th>\n",
       "      <th>V23</th>\n",
       "      <th>V24</th>\n",
       "      <th>V25</th>\n",
       "      <th>V26</th>\n",
       "      <th>V27</th>\n",
       "      <th>V28</th>\n",
       "      <th>Amount</th>\n",
       "    </tr>\n",
       "  </thead>\n",
       "  <tbody>\n",
       "    <tr>\n",
       "      <th>0</th>\n",
       "      <td>35337</td>\n",
       "      <td>1.092844</td>\n",
       "      <td>-0.013230</td>\n",
       "      <td>1.359829</td>\n",
       "      <td>2.731537</td>\n",
       "      <td>-0.707357</td>\n",
       "      <td>0.873837</td>\n",
       "      <td>-0.796130</td>\n",
       "      <td>0.437707</td>\n",
       "      <td>0.396770</td>\n",
       "      <td>...</td>\n",
       "      <td>-0.240428</td>\n",
       "      <td>0.037603</td>\n",
       "      <td>0.380026</td>\n",
       "      <td>-0.167647</td>\n",
       "      <td>0.027557</td>\n",
       "      <td>0.592115</td>\n",
       "      <td>0.219695</td>\n",
       "      <td>0.036970</td>\n",
       "      <td>0.010984</td>\n",
       "      <td>0.0</td>\n",
       "    </tr>\n",
       "    <tr>\n",
       "      <th>1</th>\n",
       "      <td>60481</td>\n",
       "      <td>1.238973</td>\n",
       "      <td>0.035226</td>\n",
       "      <td>0.063003</td>\n",
       "      <td>0.641406</td>\n",
       "      <td>-0.260893</td>\n",
       "      <td>-0.580097</td>\n",
       "      <td>0.049938</td>\n",
       "      <td>-0.034733</td>\n",
       "      <td>0.405932</td>\n",
       "      <td>...</td>\n",
       "      <td>-0.265080</td>\n",
       "      <td>-0.060003</td>\n",
       "      <td>-0.053585</td>\n",
       "      <td>-0.057718</td>\n",
       "      <td>0.104983</td>\n",
       "      <td>0.537987</td>\n",
       "      <td>0.589563</td>\n",
       "      <td>-0.046207</td>\n",
       "      <td>-0.006212</td>\n",
       "      <td>0.0</td>\n",
       "    </tr>\n",
       "    <tr>\n",
       "      <th>2</th>\n",
       "      <td>139587</td>\n",
       "      <td>1.870539</td>\n",
       "      <td>0.211079</td>\n",
       "      <td>0.224457</td>\n",
       "      <td>3.889486</td>\n",
       "      <td>-0.380177</td>\n",
       "      <td>0.249799</td>\n",
       "      <td>-0.577133</td>\n",
       "      <td>0.179189</td>\n",
       "      <td>-0.120462</td>\n",
       "      <td>...</td>\n",
       "      <td>-0.374356</td>\n",
       "      <td>0.196006</td>\n",
       "      <td>0.656552</td>\n",
       "      <td>0.180776</td>\n",
       "      <td>-0.060226</td>\n",
       "      <td>-0.228979</td>\n",
       "      <td>0.080827</td>\n",
       "      <td>0.009868</td>\n",
       "      <td>-0.036997</td>\n",
       "      <td>0.0</td>\n",
       "    </tr>\n",
       "    <tr>\n",
       "      <th>3</th>\n",
       "      <td>162908</td>\n",
       "      <td>-3.368339</td>\n",
       "      <td>-1.980442</td>\n",
       "      <td>0.153645</td>\n",
       "      <td>-0.159795</td>\n",
       "      <td>3.847169</td>\n",
       "      <td>-3.516873</td>\n",
       "      <td>-1.209398</td>\n",
       "      <td>-0.292122</td>\n",
       "      <td>0.760543</td>\n",
       "      <td>...</td>\n",
       "      <td>-0.923275</td>\n",
       "      <td>-0.545992</td>\n",
       "      <td>-0.252324</td>\n",
       "      <td>-1.171627</td>\n",
       "      <td>0.214333</td>\n",
       "      <td>-0.159652</td>\n",
       "      <td>-0.060883</td>\n",
       "      <td>1.294977</td>\n",
       "      <td>0.120503</td>\n",
       "      <td>0.0</td>\n",
       "    </tr>\n",
       "    <tr>\n",
       "      <th>4</th>\n",
       "      <td>165236</td>\n",
       "      <td>2.180149</td>\n",
       "      <td>0.218732</td>\n",
       "      <td>-2.637726</td>\n",
       "      <td>0.348776</td>\n",
       "      <td>1.063546</td>\n",
       "      <td>-1.249197</td>\n",
       "      <td>0.942021</td>\n",
       "      <td>-0.547652</td>\n",
       "      <td>-0.087823</td>\n",
       "      <td>...</td>\n",
       "      <td>-0.250653</td>\n",
       "      <td>0.234502</td>\n",
       "      <td>0.825237</td>\n",
       "      <td>-0.176957</td>\n",
       "      <td>0.563779</td>\n",
       "      <td>0.730183</td>\n",
       "      <td>0.707494</td>\n",
       "      <td>-0.131066</td>\n",
       "      <td>-0.090428</td>\n",
       "      <td>0.0</td>\n",
       "    </tr>\n",
       "  </tbody>\n",
       "</table>\n",
       "<p>5 rows × 30 columns</p>\n",
       "</div>"
      ],
      "text/plain": [
       "     Time        V1        V2        V3        V4        V5        V6  \\\n",
       "0   35337  1.092844 -0.013230  1.359829  2.731537 -0.707357  0.873837   \n",
       "1   60481  1.238973  0.035226  0.063003  0.641406 -0.260893 -0.580097   \n",
       "2  139587  1.870539  0.211079  0.224457  3.889486 -0.380177  0.249799   \n",
       "3  162908 -3.368339 -1.980442  0.153645 -0.159795  3.847169 -3.516873   \n",
       "4  165236  2.180149  0.218732 -2.637726  0.348776  1.063546 -1.249197   \n",
       "\n",
       "         V7        V8        V9  ...       V20       V21       V22       V23  \\\n",
       "0 -0.796130  0.437707  0.396770  ... -0.240428  0.037603  0.380026 -0.167647   \n",
       "1  0.049938 -0.034733  0.405932  ... -0.265080 -0.060003 -0.053585 -0.057718   \n",
       "2 -0.577133  0.179189 -0.120462  ... -0.374356  0.196006  0.656552  0.180776   \n",
       "3 -1.209398 -0.292122  0.760543  ... -0.923275 -0.545992 -0.252324 -1.171627   \n",
       "4  0.942021 -0.547652 -0.087823  ... -0.250653  0.234502  0.825237 -0.176957   \n",
       "\n",
       "        V24       V25       V26       V27       V28  Amount  \n",
       "0  0.027557  0.592115  0.219695  0.036970  0.010984     0.0  \n",
       "1  0.104983  0.537987  0.589563 -0.046207 -0.006212     0.0  \n",
       "2 -0.060226 -0.228979  0.080827  0.009868 -0.036997     0.0  \n",
       "3  0.214333 -0.159652 -0.060883  1.294977  0.120503     0.0  \n",
       "4  0.563779  0.730183  0.707494 -0.131066 -0.090428     0.0  \n",
       "\n",
       "[5 rows x 30 columns]"
      ]
     },
     "execution_count": 60,
     "metadata": {},
     "output_type": "execute_result"
    }
   ],
   "source": [
    "pred.head()"
   ]
  },
  {
   "cell_type": "markdown",
   "id": "80bf03be-d6fe-413e-aeed-9ee41293f895",
   "metadata": {},
   "source": [
    "Remove columns not included as features in the model:"
   ]
  },
  {
   "cell_type": "code",
   "execution_count": 19,
   "id": "687f0128-cc0b-47b7-b423-875f396d8fd8",
   "metadata": {},
   "outputs": [
    {
     "data": {
      "text/plain": [
       "{'Time': 35337,\n",
       " 'V1': 1.0928441854981998,\n",
       " 'V2': -0.0132303486713432,\n",
       " 'V3': 1.35982868199426,\n",
       " 'V4': 2.7315370965921004,\n",
       " 'V5': -0.707357349219652,\n",
       " 'V6': 0.8738370029866129,\n",
       " 'V7': -0.7961301510622031,\n",
       " 'V8': 0.437706509544851,\n",
       " 'V9': 0.39676985012996396,\n",
       " 'V10': 0.587438102569443,\n",
       " 'V11': -0.14979756231827498,\n",
       " 'V12': 0.29514781622888103,\n",
       " 'V13': -1.30382621882143,\n",
       " 'V14': -0.31782283120234495,\n",
       " 'V15': -2.03673231037199,\n",
       " 'V16': 0.376090905274179,\n",
       " 'V17': -0.30040350116459497,\n",
       " 'V18': 0.433799615590844,\n",
       " 'V19': -0.145082264348681,\n",
       " 'V20': -0.240427548108996,\n",
       " 'V21': 0.0376030733329398,\n",
       " 'V22': 0.38002620963091405,\n",
       " 'V23': -0.16764742731151097,\n",
       " 'V24': 0.0275573495476881,\n",
       " 'V25': 0.59211469704354,\n",
       " 'V26': 0.219695164116351,\n",
       " 'V27': 0.0369695108704894,\n",
       " 'V28': 0.010984441006191,\n",
       " 'Amount': 0.0}"
      ]
     },
     "execution_count": 19,
     "metadata": {},
     "output_type": "execute_result"
    }
   ],
   "source": [
    "newobs = pred.to_dict(orient='records')\n",
    "newobs[0]"
   ]
  },
  {
   "cell_type": "code",
   "execution_count": 20,
   "id": "c268a533-f949-4299-9420-d6ae549a97fa",
   "metadata": {},
   "outputs": [
    {
     "data": {
      "text/plain": [
       "10"
      ]
     },
     "execution_count": 20,
     "metadata": {},
     "output_type": "execute_result"
    }
   ],
   "source": [
    "len(newobs)"
   ]
  },
  {
   "cell_type": "markdown",
   "id": "6ddde2af-ef29-4363-9cf0-ebe166a2c6ce",
   "metadata": {},
   "source": [
    "---\n",
    "## Feature-Based Explanations\n",
    "\n",
    "In Vertex AI you [configure explanations](https://cloud.google.com/vertex-ai/docs/explainable-ai/configuring-explanations-feature-based) by providing an `explanationSpec`. For feature-based explanations this can be done when registering the model in the Model Registry.  You can also set, or override, the `explanationSpec` when deploying models to and endpoints or configuring batch predictions jobs.\n"
   ]
  },
  {
   "cell_type": "markdown",
   "id": "eb2be2b0-e3ae-4fb2-8208-1ff1abc9c837",
   "metadata": {},
   "source": [
    "### ExplanationSpec\n",
    "\n",
    "From the [Python client for Vertex AI](https://cloud.google.com/python/docs/reference/aiplatform/latest/google.cloud.aiplatform), the `explanationSpec` is provided by two input parameters: `explanation_parameters` and `explanation_metadata`.  The parameters must be passed together and can be set (or overwritten):\n",
    "- When registering the model in the Vertex AI Model Registry:\n",
    "    - https://cloud.google.com/python/docs/reference/aiplatform/latest/google.cloud.aiplatform.Model#google_cloud_aiplatform_Model_upload\n",
    "- When deploying a model the a Vertex AI Endpoint for online serving:\n",
    "    - https://cloud.google.com/python/docs/reference/aiplatform/latest/google.cloud.aiplatform.Endpoint#google_cloud_aiplatform_Endpoint_deploy\n",
    "- When creating a Vertex AI Batch Prediciton Job:\n",
    "    - https://cloud.google.com/python/docs/reference/aiplatform/latest/google.cloud.aiplatform.BatchPredictionJob#google_cloud_aiplatform_BatchPredictionJob_create\n"
   ]
  },
  {
   "cell_type": "markdown",
   "id": "d524836b-53ee-4bb5-9cae-0e042a1b0f24",
   "metadata": {},
   "source": [
    "#### Explanation Parameters\n",
    "\n",
    "The [Explanation Parameters](https://cloud.google.com/python/docs/reference/aiplatform/latest/google.cloud.aiplatform_v1.types.ExplanationParameters) included setting the method of attribution along with associated parameters for the method.  A review of methods can be found [here](https://cloud.google.com/vertex-ai/docs/explainable-ai/overview#compare-methods)."
   ]
  },
  {
   "cell_type": "code",
   "execution_count": 21,
   "id": "de5ec1ed-a796-41e5-ad9c-c8aba77032db",
   "metadata": {},
   "outputs": [
    {
     "data": {
      "text/plain": [
       "integrated_gradients_attribution {\n",
       "  step_count: 50\n",
       "}"
      ]
     },
     "execution_count": 21,
     "metadata": {},
     "output_type": "execute_result"
    }
   ],
   "source": [
    "explanation_parameters = aiplatform.explain.ExplanationParameters({'integrated_gradients_attribution': {'step_count': 50}})\n",
    "explanation_parameters"
   ]
  },
  {
   "cell_type": "markdown",
   "id": "c2f42f4a-e0d1-4eca-9d29-82a40b1c750e",
   "metadata": {},
   "source": [
    "#### Explanation Metadata\n",
    "\n",
    "The [Explanation Metadata](https://cloud.google.com/vertex-ai/docs/reference/rest/v1beta1/ExplanationSpec#explanationmetadata) specifys the inputs metadata and outputs metadata.  For a TensorFlow model there is a tool for building the explanation metadata as used below:\n",
    "- This is documented here: https://googleapis.dev/python/aiplatform/latest/index.html#explainable-ai-get-metadata\n"
   ]
  },
  {
   "cell_type": "code",
   "execution_count": 22,
   "id": "4e45f4fe-64bf-436b-885a-3ee0e6a9f93a",
   "metadata": {},
   "outputs": [
    {
     "name": "stderr",
     "output_type": "stream",
     "text": [
      "2022-12-09 14:22:41.786707: I tensorflow/core/platform/profile_utils/cpu_utils.cc:104] CPU Frequency: 2299995000 Hz\n",
      "2022-12-09 14:22:41.787686: I tensorflow/compiler/xla/service/service.cc:168] XLA service 0x559de0971e00 initialized for platform Host (this does not guarantee that XLA will be used). Devices:\n",
      "2022-12-09 14:22:41.787751: I tensorflow/compiler/xla/service/service.cc:176]   StreamExecutor device (0): Host, Default Version\n",
      "2022-12-09 14:22:41.791253: I tensorflow/core/common_runtime/process_util.cc:146] Creating new thread pool with default inter op setting: 2. Tune using inter_op_parallelism_threads for best performance.\n"
     ]
    }
   ],
   "source": [
    "from google.cloud.aiplatform.explain.metadata.tf.v2 import saved_model_metadata_builder\n",
    "builder = saved_model_metadata_builder.SavedModelMetadataBuilder(model.uri)\n",
    "explanation_metadata = builder.get_metadata_protobuf()"
   ]
  },
  {
   "cell_type": "code",
   "execution_count": 23,
   "id": "b126ba11-55a2-4678-b4af-dc702ae84523",
   "metadata": {
    "scrolled": true,
    "tags": []
   },
   "outputs": [
    {
     "data": {
      "text/plain": [
       "inputs {\n",
       "  key: \"Amount\"\n",
       "  value {\n",
       "    input_tensor_name: \"Amount\"\n",
       "  }\n",
       "}\n",
       "inputs {\n",
       "  key: \"Time\"\n",
       "  value {\n",
       "    input_tensor_name: \"Time\"\n",
       "  }\n",
       "}\n",
       "inputs {\n",
       "  key: \"V1\"\n",
       "  value {\n",
       "    input_tensor_name: \"V1\"\n",
       "  }\n",
       "}\n",
       "inputs {\n",
       "  key: \"V10\"\n",
       "  value {\n",
       "    input_tensor_name: \"V10\"\n",
       "  }\n",
       "}\n",
       "inputs {\n",
       "  key: \"V11\"\n",
       "  value {\n",
       "    input_tensor_name: \"V11\"\n",
       "  }\n",
       "}\n",
       "inputs {\n",
       "  key: \"V12\"\n",
       "  value {\n",
       "    input_tensor_name: \"V12\"\n",
       "  }\n",
       "}\n",
       "inputs {\n",
       "  key: \"V13\"\n",
       "  value {\n",
       "    input_tensor_name: \"V13\"\n",
       "  }\n",
       "}\n",
       "inputs {\n",
       "  key: \"V14\"\n",
       "  value {\n",
       "    input_tensor_name: \"V14\"\n",
       "  }\n",
       "}\n",
       "inputs {\n",
       "  key: \"V15\"\n",
       "  value {\n",
       "    input_tensor_name: \"V15\"\n",
       "  }\n",
       "}\n",
       "inputs {\n",
       "  key: \"V16\"\n",
       "  value {\n",
       "    input_tensor_name: \"V16\"\n",
       "  }\n",
       "}\n",
       "inputs {\n",
       "  key: \"V17\"\n",
       "  value {\n",
       "    input_tensor_name: \"V17\"\n",
       "  }\n",
       "}\n",
       "inputs {\n",
       "  key: \"V18\"\n",
       "  value {\n",
       "    input_tensor_name: \"V18\"\n",
       "  }\n",
       "}\n",
       "inputs {\n",
       "  key: \"V19\"\n",
       "  value {\n",
       "    input_tensor_name: \"V19\"\n",
       "  }\n",
       "}\n",
       "inputs {\n",
       "  key: \"V2\"\n",
       "  value {\n",
       "    input_tensor_name: \"V2\"\n",
       "  }\n",
       "}\n",
       "inputs {\n",
       "  key: \"V20\"\n",
       "  value {\n",
       "    input_tensor_name: \"V20\"\n",
       "  }\n",
       "}\n",
       "inputs {\n",
       "  key: \"V21\"\n",
       "  value {\n",
       "    input_tensor_name: \"V21\"\n",
       "  }\n",
       "}\n",
       "inputs {\n",
       "  key: \"V22\"\n",
       "  value {\n",
       "    input_tensor_name: \"V22\"\n",
       "  }\n",
       "}\n",
       "inputs {\n",
       "  key: \"V23\"\n",
       "  value {\n",
       "    input_tensor_name: \"V23\"\n",
       "  }\n",
       "}\n",
       "inputs {\n",
       "  key: \"V24\"\n",
       "  value {\n",
       "    input_tensor_name: \"V24\"\n",
       "  }\n",
       "}\n",
       "inputs {\n",
       "  key: \"V25\"\n",
       "  value {\n",
       "    input_tensor_name: \"V25\"\n",
       "  }\n",
       "}\n",
       "inputs {\n",
       "  key: \"V26\"\n",
       "  value {\n",
       "    input_tensor_name: \"V26\"\n",
       "  }\n",
       "}\n",
       "inputs {\n",
       "  key: \"V27\"\n",
       "  value {\n",
       "    input_tensor_name: \"V27\"\n",
       "  }\n",
       "}\n",
       "inputs {\n",
       "  key: \"V28\"\n",
       "  value {\n",
       "    input_tensor_name: \"V28\"\n",
       "  }\n",
       "}\n",
       "inputs {\n",
       "  key: \"V3\"\n",
       "  value {\n",
       "    input_tensor_name: \"V3\"\n",
       "  }\n",
       "}\n",
       "inputs {\n",
       "  key: \"V4\"\n",
       "  value {\n",
       "    input_tensor_name: \"V4\"\n",
       "  }\n",
       "}\n",
       "inputs {\n",
       "  key: \"V5\"\n",
       "  value {\n",
       "    input_tensor_name: \"V5\"\n",
       "  }\n",
       "}\n",
       "inputs {\n",
       "  key: \"V6\"\n",
       "  value {\n",
       "    input_tensor_name: \"V6\"\n",
       "  }\n",
       "}\n",
       "inputs {\n",
       "  key: \"V7\"\n",
       "  value {\n",
       "    input_tensor_name: \"V7\"\n",
       "  }\n",
       "}\n",
       "inputs {\n",
       "  key: \"V8\"\n",
       "  value {\n",
       "    input_tensor_name: \"V8\"\n",
       "  }\n",
       "}\n",
       "inputs {\n",
       "  key: \"V9\"\n",
       "  value {\n",
       "    input_tensor_name: \"V9\"\n",
       "  }\n",
       "}\n",
       "outputs {\n",
       "  key: \"logistic\"\n",
       "  value {\n",
       "    output_tensor_name: \"logistic\"\n",
       "  }\n",
       "}"
      ]
     },
     "execution_count": 23,
     "metadata": {},
     "output_type": "execute_result"
    }
   ],
   "source": [
    "explanation_metadata"
   ]
  },
  {
   "cell_type": "markdown",
   "id": "21d59fd7-78a8-4add-83c4-1e6a1e3fca70",
   "metadata": {},
   "source": [
    "### Create/Retrieve An Endpoint"
   ]
  },
  {
   "cell_type": "code",
   "execution_count": 24,
   "id": "2cc28d98-b525-4385-9b95-489bf574f967",
   "metadata": {},
   "outputs": [
    {
     "name": "stdout",
     "output_type": "stream",
     "text": [
      "Endpoint Exists: projects/1026793852137/locations/us-central1/endpoints/1961322035766362112\n",
      "Review the Endpoint in the Console:\n",
      "https://console.cloud.google.com/vertex-ai/locations/us-central1/endpoints/1961322035766362112?project=statmike-mlops-349915\n"
     ]
    }
   ],
   "source": [
    "endpoints = aiplatform.Endpoint.list(filter = f\"labels.series={SERIES}\")\n",
    "if endpoints:\n",
    "    endpoint = endpoints[0]\n",
    "    print(f\"Endpoint Exists: {endpoints[0].resource_name}\")\n",
    "else:\n",
    "    endpoint = aiplatform.Endpoint.create(\n",
    "        display_name = f\"{SERIES}\",\n",
    "        labels = {'series' : f\"{SERIES}\"}  \n",
    "    )\n",
    "    print(f\"Endpoint Created: {endpoint.resource_name}\")   \n",
    "\n",
    "print(f'Review the Endpoint in the Console:\\nhttps://console.cloud.google.com/vertex-ai/locations/{REGION}/endpoints/{endpoint.name}?project={PROJECT_ID}')"
   ]
  },
  {
   "cell_type": "code",
   "execution_count": 25,
   "id": "0a538bf0",
   "metadata": {},
   "outputs": [
    {
     "data": {
      "text/plain": [
       "'05'"
      ]
     },
     "execution_count": 25,
     "metadata": {},
     "output_type": "execute_result"
    }
   ],
   "source": [
    "endpoint.display_name"
   ]
  },
  {
   "cell_type": "markdown",
   "id": "fc4f9ece-2a0f-40f6-9845-9eabd2ed9003",
   "metadata": {},
   "source": [
    "### Deploy Model To Endpoint\n",
    "At the top of this notebook a current endpoint was used to retrieve the model currently deployed.  This model was then used to create the explanations metadata.  In the cell below the same model is deployed again with 100% of traffic, this time with explanations metadata.  This demonstrates that the `explanationSpec` can be provided with the model upload to the Model Registry or at the point of model use for Endponts or Batch Prediction Jobs. "
   ]
  },
  {
   "cell_type": "code",
   "execution_count": 26,
   "id": "2ea35f54-76d5-4015-8f82-78e7ec72a5fc",
   "metadata": {},
   "outputs": [
    {
     "name": "stdout",
     "output_type": "stream",
     "text": [
      "Deploying Model projects/1026793852137/locations/us-central1/models/model_05_05a to Endpoint : projects/1026793852137/locations/us-central1/endpoints/1961322035766362112\n",
      "Deploy Endpoint model backing LRO: projects/1026793852137/locations/us-central1/endpoints/1961322035766362112/operations/6077971979082661888\n",
      "Endpoint model deployed. Resource name: projects/1026793852137/locations/us-central1/endpoints/1961322035766362112\n"
     ]
    }
   ],
   "source": [
    "endpoint.deploy(\n",
    "    model = model,\n",
    "    deployed_model_display_name = model.display_name,\n",
    "    traffic_percentage = 100,\n",
    "    machine_type = DEPLOY_COMPUTE,\n",
    "    min_replica_count = 1,\n",
    "    max_replica_count = 1,\n",
    "    explanation_parameters = explanation_parameters,\n",
    "    explanation_metadata = explanation_metadata\n",
    ") "
   ]
  },
  {
   "cell_type": "markdown",
   "id": "8aa76ba9-b66c-4b5b-9476-004b16d4dbaf",
   "metadata": {},
   "source": [
    "### Remove Deployed Models without Traffic"
   ]
  },
  {
   "cell_type": "code",
   "execution_count": 27,
   "id": "00aa9466-6d9a-41cf-9bfa-7e8997572583",
   "metadata": {},
   "outputs": [
    {
     "name": "stdout",
     "output_type": "stream",
     "text": [
      "Model 05_05a with version 4 has traffic = 100\n",
      "Undeploying Endpoint model: projects/1026793852137/locations/us-central1/endpoints/1961322035766362112\n",
      "Undeploy Endpoint model backing LRO: projects/1026793852137/locations/us-central1/endpoints/1961322035766362112/operations/6005069960114601984\n",
      "Endpoint model undeployed. Resource name: projects/1026793852137/locations/us-central1/endpoints/1961322035766362112\n",
      "Undeploying 05_05a with version 4 because it has no traffic.\n"
     ]
    }
   ],
   "source": [
    "for deployed_model in endpoint.list_models():\n",
    "    if deployed_model.id in endpoint.traffic_split:\n",
    "        print(f\"Model {deployed_model.display_name} with version {deployed_model.model_version_id} has traffic = {endpoint.traffic_split[deployed_model.id]}\")\n",
    "    else:\n",
    "        endpoint.undeploy(deployed_model_id = deployed_model.id)\n",
    "        print(f\"Undeploying {deployed_model.display_name} with version {deployed_model.model_version_id} because it has no traffic.\")"
   ]
  },
  {
   "cell_type": "code",
   "execution_count": 28,
   "id": "bacf24f6-c02e-409a-82b4-13c6e4a17dd1",
   "metadata": {},
   "outputs": [
    {
     "data": {
      "text/plain": [
       "{'2689647334098206720': 100}"
      ]
     },
     "execution_count": 28,
     "metadata": {},
     "output_type": "execute_result"
    }
   ],
   "source": [
    "endpoint.traffic_split"
   ]
  },
  {
   "cell_type": "code",
   "execution_count": 29,
   "id": "7e416491-c909-45d3-8c79-a74dcafaa4f9",
   "metadata": {
    "scrolled": true,
    "tags": []
   },
   "outputs": [
    {
     "data": {
      "text/plain": [
       "id: \"2689647334098206720\"\n",
       "model: \"projects/1026793852137/locations/us-central1/models/model_05_05a\"\n",
       "display_name: \"05_05a\"\n",
       "create_time {\n",
       "  seconds: 1670595794\n",
       "  nanos: 145148000\n",
       "}\n",
       "dedicated_resources {\n",
       "  machine_spec {\n",
       "    machine_type: \"n1-standard-4\"\n",
       "  }\n",
       "  min_replica_count: 1\n",
       "  max_replica_count: 1\n",
       "}\n",
       "explanation_spec {\n",
       "  parameters {\n",
       "    integrated_gradients_attribution {\n",
       "      step_count: 50\n",
       "    }\n",
       "  }\n",
       "  metadata {\n",
       "    inputs {\n",
       "      key: \"Amount\"\n",
       "      value {\n",
       "        input_tensor_name: \"Amount\"\n",
       "      }\n",
       "    }\n",
       "    inputs {\n",
       "      key: \"Time\"\n",
       "      value {\n",
       "        input_tensor_name: \"Time\"\n",
       "      }\n",
       "    }\n",
       "    inputs {\n",
       "      key: \"V1\"\n",
       "      value {\n",
       "        input_tensor_name: \"V1\"\n",
       "      }\n",
       "    }\n",
       "    inputs {\n",
       "      key: \"V10\"\n",
       "      value {\n",
       "        input_tensor_name: \"V10\"\n",
       "      }\n",
       "    }\n",
       "    inputs {\n",
       "      key: \"V11\"\n",
       "      value {\n",
       "        input_tensor_name: \"V11\"\n",
       "      }\n",
       "    }\n",
       "    inputs {\n",
       "      key: \"V12\"\n",
       "      value {\n",
       "        input_tensor_name: \"V12\"\n",
       "      }\n",
       "    }\n",
       "    inputs {\n",
       "      key: \"V13\"\n",
       "      value {\n",
       "        input_tensor_name: \"V13\"\n",
       "      }\n",
       "    }\n",
       "    inputs {\n",
       "      key: \"V14\"\n",
       "      value {\n",
       "        input_tensor_name: \"V14\"\n",
       "      }\n",
       "    }\n",
       "    inputs {\n",
       "      key: \"V15\"\n",
       "      value {\n",
       "        input_tensor_name: \"V15\"\n",
       "      }\n",
       "    }\n",
       "    inputs {\n",
       "      key: \"V16\"\n",
       "      value {\n",
       "        input_tensor_name: \"V16\"\n",
       "      }\n",
       "    }\n",
       "    inputs {\n",
       "      key: \"V17\"\n",
       "      value {\n",
       "        input_tensor_name: \"V17\"\n",
       "      }\n",
       "    }\n",
       "    inputs {\n",
       "      key: \"V18\"\n",
       "      value {\n",
       "        input_tensor_name: \"V18\"\n",
       "      }\n",
       "    }\n",
       "    inputs {\n",
       "      key: \"V19\"\n",
       "      value {\n",
       "        input_tensor_name: \"V19\"\n",
       "      }\n",
       "    }\n",
       "    inputs {\n",
       "      key: \"V2\"\n",
       "      value {\n",
       "        input_tensor_name: \"V2\"\n",
       "      }\n",
       "    }\n",
       "    inputs {\n",
       "      key: \"V20\"\n",
       "      value {\n",
       "        input_tensor_name: \"V20\"\n",
       "      }\n",
       "    }\n",
       "    inputs {\n",
       "      key: \"V21\"\n",
       "      value {\n",
       "        input_tensor_name: \"V21\"\n",
       "      }\n",
       "    }\n",
       "    inputs {\n",
       "      key: \"V22\"\n",
       "      value {\n",
       "        input_tensor_name: \"V22\"\n",
       "      }\n",
       "    }\n",
       "    inputs {\n",
       "      key: \"V23\"\n",
       "      value {\n",
       "        input_tensor_name: \"V23\"\n",
       "      }\n",
       "    }\n",
       "    inputs {\n",
       "      key: \"V24\"\n",
       "      value {\n",
       "        input_tensor_name: \"V24\"\n",
       "      }\n",
       "    }\n",
       "    inputs {\n",
       "      key: \"V25\"\n",
       "      value {\n",
       "        input_tensor_name: \"V25\"\n",
       "      }\n",
       "    }\n",
       "    inputs {\n",
       "      key: \"V26\"\n",
       "      value {\n",
       "        input_tensor_name: \"V26\"\n",
       "      }\n",
       "    }\n",
       "    inputs {\n",
       "      key: \"V27\"\n",
       "      value {\n",
       "        input_tensor_name: \"V27\"\n",
       "      }\n",
       "    }\n",
       "    inputs {\n",
       "      key: \"V28\"\n",
       "      value {\n",
       "        input_tensor_name: \"V28\"\n",
       "      }\n",
       "    }\n",
       "    inputs {\n",
       "      key: \"V3\"\n",
       "      value {\n",
       "        input_tensor_name: \"V3\"\n",
       "      }\n",
       "    }\n",
       "    inputs {\n",
       "      key: \"V4\"\n",
       "      value {\n",
       "        input_tensor_name: \"V4\"\n",
       "      }\n",
       "    }\n",
       "    inputs {\n",
       "      key: \"V5\"\n",
       "      value {\n",
       "        input_tensor_name: \"V5\"\n",
       "      }\n",
       "    }\n",
       "    inputs {\n",
       "      key: \"V6\"\n",
       "      value {\n",
       "        input_tensor_name: \"V6\"\n",
       "      }\n",
       "    }\n",
       "    inputs {\n",
       "      key: \"V7\"\n",
       "      value {\n",
       "        input_tensor_name: \"V7\"\n",
       "      }\n",
       "    }\n",
       "    inputs {\n",
       "      key: \"V8\"\n",
       "      value {\n",
       "        input_tensor_name: \"V8\"\n",
       "      }\n",
       "    }\n",
       "    inputs {\n",
       "      key: \"V9\"\n",
       "      value {\n",
       "        input_tensor_name: \"V9\"\n",
       "      }\n",
       "    }\n",
       "    outputs {\n",
       "      key: \"logistic\"\n",
       "      value {\n",
       "        output_tensor_name: \"logistic\"\n",
       "      }\n",
       "    }\n",
       "  }\n",
       "}\n",
       "model_version_id: \"4\""
      ]
     },
     "execution_count": 29,
     "metadata": {},
     "output_type": "execute_result"
    }
   ],
   "source": [
    "endpoint.list_models()[0]"
   ]
  },
  {
   "cell_type": "markdown",
   "id": "cae2dee4-cb0c-415e-ab1a-6b3980691b95",
   "metadata": {},
   "source": [
    "### Get Prediction: Python Client"
   ]
  },
  {
   "cell_type": "code",
   "execution_count": 30,
   "id": "5c262927-7e67-4e3f-b04b-17deadaa1325",
   "metadata": {},
   "outputs": [],
   "source": [
    "instances = [json_format.ParseDict(newobs[0], Value())]"
   ]
  },
  {
   "cell_type": "code",
   "execution_count": 31,
   "id": "67f442be-c9e2-4582-90fe-e090fc02730e",
   "metadata": {},
   "outputs": [
    {
     "data": {
      "text/plain": [
       "Prediction(predictions=[[0.999851704, 0.000148224935]], deployed_model_id='2689647334098206720', model_version_id='4', model_resource_name='projects/1026793852137/locations/us-central1/models/model_05_05a', explanations=None)"
      ]
     },
     "execution_count": 31,
     "metadata": {},
     "output_type": "execute_result"
    }
   ],
   "source": [
    "prediction = endpoint.predict(instances = instances)\n",
    "prediction"
   ]
  },
  {
   "cell_type": "code",
   "execution_count": 32,
   "id": "a5839c46-2cf5-4b09-8e0b-8919e5767112",
   "metadata": {},
   "outputs": [
    {
     "data": {
      "text/plain": [
       "[0.999851704, 0.000148224935]"
      ]
     },
     "execution_count": 32,
     "metadata": {},
     "output_type": "execute_result"
    }
   ],
   "source": [
    "prediction.predictions[0]"
   ]
  },
  {
   "cell_type": "code",
   "execution_count": 33,
   "id": "e5629b86-bd25-4a2c-8dbd-2ab306b58592",
   "metadata": {},
   "outputs": [
    {
     "data": {
      "text/plain": [
       "0"
      ]
     },
     "execution_count": 33,
     "metadata": {},
     "output_type": "execute_result"
    }
   ],
   "source": [
    "np.argmax(prediction.predictions[0])"
   ]
  },
  {
   "cell_type": "markdown",
   "id": "a9e77f5a-9925-4708-94c0-ada9be8d26d9",
   "metadata": {},
   "source": [
    "### Get Prediction & Explanation: Python Client"
   ]
  },
  {
   "cell_type": "code",
   "execution_count": 34,
   "id": "58a2c239-409b-45c6-850d-d260558f0f45",
   "metadata": {},
   "outputs": [],
   "source": [
    "explanation = endpoint.explain(instances = instances)"
   ]
  },
  {
   "cell_type": "code",
   "execution_count": 35,
   "id": "b14eb821-a733-4808-be89-ee947b64ed2a",
   "metadata": {},
   "outputs": [
    {
     "data": {
      "text/plain": [
       "[[0.999851704, 0.000148224935]]"
      ]
     },
     "execution_count": 35,
     "metadata": {},
     "output_type": "execute_result"
    }
   ],
   "source": [
    "explanation.predictions"
   ]
  },
  {
   "cell_type": "code",
   "execution_count": 36,
   "id": "b415f8bb-7cbf-49a5-b102-45634717dff0",
   "metadata": {},
   "outputs": [
    {
     "data": {
      "text/plain": [
       "[attributions {\n",
       "  baseline_output_value: 0.999866247177124\n",
       "  instance_output_value: 0.9998517036437988\n",
       "  feature_attributions {\n",
       "    struct_value {\n",
       "      fields {\n",
       "        key: \"Amount\"\n",
       "        value {\n",
       "          number_value: 0.0\n",
       "        }\n",
       "      }\n",
       "      fields {\n",
       "        key: \"Time\"\n",
       "        value {\n",
       "          number_value: -4.346902581039083e-05\n",
       "        }\n",
       "      }\n",
       "      fields {\n",
       "        key: \"V1\"\n",
       "        value {\n",
       "          number_value: -2.587269918927104e-05\n",
       "        }\n",
       "      }\n",
       "      fields {\n",
       "        key: \"V10\"\n",
       "        value {\n",
       "          number_value: 8.402305998413935e-05\n",
       "        }\n",
       "      }\n",
       "      fields {\n",
       "        key: \"V11\"\n",
       "        value {\n",
       "          number_value: 4.28836549225867e-06\n",
       "        }\n",
       "      }\n",
       "      fields {\n",
       "        key: \"V12\"\n",
       "        value {\n",
       "          number_value: 2.824241180530853e-05\n",
       "        }\n",
       "      }\n",
       "      fields {\n",
       "        key: \"V13\"\n",
       "        value {\n",
       "          number_value: -4.837413372200769e-05\n",
       "        }\n",
       "      }\n",
       "      fields {\n",
       "        key: \"V14\"\n",
       "        value {\n",
       "          number_value: 7.156847865785201e-06\n",
       "        }\n",
       "      }\n",
       "      fields {\n",
       "        key: \"V15\"\n",
       "        value {\n",
       "          number_value: 8.524276808841573e-05\n",
       "        }\n",
       "      }\n",
       "      fields {\n",
       "        key: \"V16\"\n",
       "        value {\n",
       "          number_value: -3.314356164977715e-05\n",
       "        }\n",
       "      }\n",
       "      fields {\n",
       "        key: \"V17\"\n",
       "        value {\n",
       "          number_value: -1.983812322068614e-05\n",
       "        }\n",
       "      }\n",
       "      fields {\n",
       "        key: \"V18\"\n",
       "        value {\n",
       "          number_value: 1.955156007833585e-05\n",
       "        }\n",
       "      }\n",
       "      fields {\n",
       "        key: \"V19\"\n",
       "        value {\n",
       "          number_value: 1.128852491811169e-05\n",
       "        }\n",
       "      }\n",
       "      fields {\n",
       "        key: \"V2\"\n",
       "        value {\n",
       "          number_value: 2.864213409195713e-08\n",
       "        }\n",
       "      }\n",
       "      fields {\n",
       "        key: \"V20\"\n",
       "        value {\n",
       "          number_value: -2.277845664722977e-06\n",
       "        }\n",
       "      }\n",
       "      fields {\n",
       "        key: \"V21\"\n",
       "        value {\n",
       "          number_value: -4.392826818649771e-07\n",
       "        }\n",
       "      }\n",
       "      fields {\n",
       "        key: \"V22\"\n",
       "        value {\n",
       "          number_value: 1.20434392319479e-05\n",
       "        }\n",
       "      }\n",
       "      fields {\n",
       "        key: \"V23\"\n",
       "        value {\n",
       "          number_value: 2.498465468639653e-06\n",
       "        }\n",
       "      }\n",
       "      fields {\n",
       "        key: \"V24\"\n",
       "        value {\n",
       "          number_value: 1.760520033071514e-08\n",
       "        }\n",
       "      }\n",
       "      fields {\n",
       "        key: \"V25\"\n",
       "        value {\n",
       "          number_value: -5.259336802207792e-05\n",
       "        }\n",
       "      }\n",
       "      fields {\n",
       "        key: \"V26\"\n",
       "        value {\n",
       "          number_value: -2.636662467477038e-06\n",
       "        }\n",
       "      }\n",
       "      fields {\n",
       "        key: \"V27\"\n",
       "        value {\n",
       "          number_value: 3.375547657192186e-06\n",
       "        }\n",
       "      }\n",
       "      fields {\n",
       "        key: \"V28\"\n",
       "        value {\n",
       "          number_value: -1.97629481378938e-06\n",
       "        }\n",
       "      }\n",
       "      fields {\n",
       "        key: \"V3\"\n",
       "        value {\n",
       "          number_value: 2.922752592723348e-05\n",
       "        }\n",
       "      }\n",
       "      fields {\n",
       "        key: \"V4\"\n",
       "        value {\n",
       "          number_value: -0.0001215545305240503\n",
       "        }\n",
       "      }\n",
       "      fields {\n",
       "        key: \"V5\"\n",
       "        value {\n",
       "          number_value: 2.956701375766078e-05\n",
       "        }\n",
       "      }\n",
       "      fields {\n",
       "        key: \"V6\"\n",
       "        value {\n",
       "          number_value: 1.611891760055058e-05\n",
       "        }\n",
       "      }\n",
       "      fields {\n",
       "        key: \"V7\"\n",
       "        value {\n",
       "          number_value: -1.064844229002329e-05\n",
       "        }\n",
       "      }\n",
       "      fields {\n",
       "        key: \"V8\"\n",
       "        value {\n",
       "          number_value: 2.042924536859766e-06\n",
       "        }\n",
       "      }\n",
       "      fields {\n",
       "        key: \"V9\"\n",
       "        value {\n",
       "          number_value: 1.358668962895947e-05\n",
       "        }\n",
       "      }\n",
       "    }\n",
       "  }\n",
       "  output_index: 0\n",
       "  approximation_error: 0.0013654859224961299\n",
       "  output_name: \"logistic\"\n",
       "}\n",
       "]"
      ]
     },
     "execution_count": 36,
     "metadata": {},
     "output_type": "execute_result"
    }
   ],
   "source": [
    "explanation.explanations"
   ]
  },
  {
   "cell_type": "code",
   "execution_count": 37,
   "id": "5b5855e6-cfed-415e-937f-0b608a3a5460",
   "metadata": {},
   "outputs": [
    {
     "name": "stdout",
     "output_type": "stream",
     "text": [
      "attribution:\n",
      "baseline output: 0.999866247177124\n",
      "instance output: 0.9998517036437988\n",
      "output_index: [0]\n",
      "output_name: logistic\n",
      "approximation error: 0.0013654859224961299\n"
     ]
    }
   ],
   "source": [
    "print(\"attribution:\")\n",
    "print(\"baseline output:\",explanation.explanations[0].attributions[0].baseline_output_value)\n",
    "print(\"instance output:\",explanation.explanations[0].attributions[0].instance_output_value)\n",
    "print(\"output_index:\",explanation.explanations[0].attributions[0].output_index)\n",
    "print(\"output_name:\",explanation.explanations[0].attributions[0].output_name)\n",
    "print(\"approximation error:\",explanation.explanations[0].attributions[0].approximation_error)"
   ]
  },
  {
   "cell_type": "code",
   "execution_count": 38,
   "id": "0a0d1674-6d45-4373-90bb-719a274c9166",
   "metadata": {},
   "outputs": [
    {
     "data": {
      "image/png": "[encoded data removed]",
      "text/plain": [
       "<Figure size 648x648 with 1 Axes>"
      ]
     },
     "metadata": {
      "needs_background": "light"
     },
     "output_type": "display_data"
    }
   ],
   "source": [
    "import matplotlib.pyplot as plt\n",
    "features = []\n",
    "scores = []\n",
    "for k in explanation.explanations[0].attributions[0].feature_attributions:\n",
    "    features.append(k)\n",
    "    scores.append(explanation.explanations[0].attributions[0].feature_attributions[k])\n",
    "features = [x for _, x in sorted(zip(scores, features))]\n",
    "scores = sorted(scores)\n",
    "fig, ax = plt.subplots()\n",
    "fig.set_size_inches(9, 9)\n",
    "ax.barh(features, scores)\n",
    "plt.title('Feature Attributions')\n",
    "fig.show()"
   ]
  },
  {
   "cell_type": "markdown",
   "id": "72e1ede1-0773-4ea8-a34a-9ca50a3310a2",
   "metadata": {},
   "source": [
    "In the plot above, each bar represents the attribution for a feature, or how much the feature affected the change in the predicted value relative to the baseline value."
   ]
  },
  {
   "cell_type": "code",
   "execution_count": 39,
   "id": "e014ebfa-4355-473f-8a94-12b98c487c5e",
   "metadata": {},
   "outputs": [
    {
     "name": "stdout",
     "output_type": "stream",
     "text": [
      "baseline output: 0.999866247177124\n",
      "instance output: 0.9998517036437988\n",
      "Total Attribution: -1.4523660680317234e-05\n",
      "instance - baseline: -1.4543533325195312e-05\n"
     ]
    }
   ],
   "source": [
    "sum_attributions = 0\n",
    "for k in explanation.explanations[0].attributions[0].feature_attributions:\n",
    "    sum_attributions += explanation.explanations[0].attributions[0].feature_attributions[k]\n",
    "\n",
    "print(\"baseline output:\",explanation.explanations[0].attributions[0].baseline_output_value)\n",
    "print(\"instance output:\",explanation.explanations[0].attributions[0].instance_output_value)\n",
    "print(\"Total Attribution:\", sum_attributions)\n",
    "print(\"instance - baseline:\",explanation.explanations[0].attributions[0].instance_output_value-explanation.explanations[0].attributions[0].baseline_output_value)"
   ]
  },
  {
   "cell_type": "markdown",
   "id": "60aeca01-4d74-4521-a34d-3a5a75b1a0f1",
   "metadata": {},
   "source": [
    "### Explainable AI SDK: Local Explanations\n",
    "When using Vertex AI Workbench based user-managed notebooks you have access to the [Explainable AI SDK](https://github.com/GoogleCloudPlatform/explainable_ai_sdk).  This section demonstrates local explanations using the SDK.\n",
    "\n",
    "This can be helpful for iterating on setting up explanations before deploying the model with `explanationSpec`:\n",
    "- try different baselines\n",
    "- setup vizualization settings for image models\n",
    "- adjust parameters like steps (integrated gradients) or paths (sampled Shapley)"
   ]
  },
  {
   "cell_type": "code",
   "execution_count": 40,
   "id": "6c5282dd-0520-41f6-8c52-891c033357ce",
   "metadata": {},
   "outputs": [],
   "source": [
    "import explainable_ai_sdk\n",
    "from explainable_ai_sdk.metadata.tf.v2 import SavedModelMetadataBuilder"
   ]
  },
  {
   "cell_type": "code",
   "execution_count": 41,
   "id": "1d9df2aa-7caa-4138-ab74-54522ea3e806",
   "metadata": {},
   "outputs": [
    {
     "name": "stdout",
     "output_type": "stream",
     "text": [
      "INFO:tensorflow:Assets written to: temp/05_explanability/model/assets\n"
     ]
    },
    {
     "name": "stderr",
     "output_type": "stream",
     "text": [
      "INFO:tensorflow:Assets written to: temp/05_explanability/model/assets\n"
     ]
    },
    {
     "name": "stdout",
     "output_type": "stream",
     "text": [
      "temp/05_explanability/model:\n",
      "total 472\n",
      "drwxr-xr-x 2 jupyter jupyter   4096 Dec  9 14:41 assets\n",
      "-rw-r--r-- 1 jupyter jupyter   3525 Dec  9 14:41 explanation_metadata.json\n",
      "-rw-r--r-- 1 jupyter jupyter 469752 Dec  9 14:41 saved_model.pb\n",
      "drwxr-xr-x 2 jupyter jupyter   4096 Dec  9 14:41 variables\n",
      "\n",
      "temp/05_explanability/model/assets:\n",
      "total 0\n",
      "\n",
      "temp/05_explanability/model/variables:\n",
      "total 16\n",
      "-rw-r--r-- 1 jupyter jupyter 10137 Dec  9 14:41 variables.data-00000-of-00001\n",
      "-rw-r--r-- 1 jupyter jupyter  1186 Dec  9 14:41 variables.index\n"
     ]
    }
   ],
   "source": [
    "builder = SavedModelMetadataBuilder(model.uri)\n",
    "builder.save_model_with_metadata(f'{DIR}/model')\n",
    "!ls -l -R {DIR}/model"
   ]
  },
  {
   "cell_type": "code",
   "execution_count": 42,
   "id": "1c57a2ec-9dd5-4f9f-8dc2-f12eee0edd72",
   "metadata": {},
   "outputs": [],
   "source": [
    "local_model = explainable_ai_sdk.load_model_from_local_path(\n",
    "    model_path = f'{DIR}/model',\n",
    "    config = explainable_ai_sdk.IntegratedGradientsConfig(step_count = 50)\n",
    ")"
   ]
  },
  {
   "cell_type": "code",
   "execution_count": 43,
   "id": "4cc8544c-8e26-482d-8a6e-6b6d660a4ef5",
   "metadata": {},
   "outputs": [
    {
     "data": {
      "text/plain": [
       "explainable_ai_sdk.model.local_model.LocalModel"
      ]
     },
     "execution_count": 43,
     "metadata": {},
     "output_type": "execute_result"
    }
   ],
   "source": [
    "type(local_model)"
   ]
  },
  {
   "cell_type": "code",
   "execution_count": 44,
   "id": "98168109-769e-420a-89d0-4aff33c3f85f",
   "metadata": {},
   "outputs": [
    {
     "data": {
      "text/plain": [
       "{'Time': 35337,\n",
       " 'V1': 1.0928441854981998,\n",
       " 'V2': -0.0132303486713432,\n",
       " 'V3': 1.35982868199426,\n",
       " 'V4': 2.7315370965921004,\n",
       " 'V5': -0.707357349219652,\n",
       " 'V6': 0.8738370029866129,\n",
       " 'V7': -0.7961301510622031,\n",
       " 'V8': 0.437706509544851,\n",
       " 'V9': 0.39676985012996396,\n",
       " 'V10': 0.587438102569443,\n",
       " 'V11': -0.14979756231827498,\n",
       " 'V12': 0.29514781622888103,\n",
       " 'V13': -1.30382621882143,\n",
       " 'V14': -0.31782283120234495,\n",
       " 'V15': -2.03673231037199,\n",
       " 'V16': 0.376090905274179,\n",
       " 'V17': -0.30040350116459497,\n",
       " 'V18': 0.433799615590844,\n",
       " 'V19': -0.145082264348681,\n",
       " 'V20': -0.240427548108996,\n",
       " 'V21': 0.0376030733329398,\n",
       " 'V22': 0.38002620963091405,\n",
       " 'V23': -0.16764742731151097,\n",
       " 'V24': 0.0275573495476881,\n",
       " 'V25': 0.59211469704354,\n",
       " 'V26': 0.219695164116351,\n",
       " 'V27': 0.0369695108704894,\n",
       " 'V28': 0.010984441006191,\n",
       " 'Amount': 0.0}"
      ]
     },
     "execution_count": 44,
     "metadata": {},
     "output_type": "execute_result"
    }
   ],
   "source": [
    "newobs[0]"
   ]
  },
  {
   "cell_type": "markdown",
   "id": "9a900bbd-b480-4872-bd57-02daf52c2893",
   "metadata": {},
   "source": [
    "Update the dictionary to have values as tensors:"
   ]
  },
  {
   "cell_type": "code",
   "execution_count": 45,
   "id": "9183f902-0ba9-4dc8-a902-25a0829ca52a",
   "metadata": {},
   "outputs": [
    {
     "data": {
      "text/plain": [
       "{'Time': <tf.Tensor: shape=(1,), dtype=float64, numpy=array([35337.])>,\n",
       " 'V1': <tf.Tensor: shape=(1,), dtype=float64, numpy=array([1.09284419])>,\n",
       " 'V2': <tf.Tensor: shape=(1,), dtype=float64, numpy=array([-0.01323035])>,\n",
       " 'V3': <tf.Tensor: shape=(1,), dtype=float64, numpy=array([1.35982868])>,\n",
       " 'V4': <tf.Tensor: shape=(1,), dtype=float64, numpy=array([2.7315371])>,\n",
       " 'V5': <tf.Tensor: shape=(1,), dtype=float64, numpy=array([-0.70735735])>,\n",
       " 'V6': <tf.Tensor: shape=(1,), dtype=float64, numpy=array([0.873837])>,\n",
       " 'V7': <tf.Tensor: shape=(1,), dtype=float64, numpy=array([-0.79613015])>,\n",
       " 'V8': <tf.Tensor: shape=(1,), dtype=float64, numpy=array([0.43770651])>,\n",
       " 'V9': <tf.Tensor: shape=(1,), dtype=float64, numpy=array([0.39676985])>,\n",
       " 'V10': <tf.Tensor: shape=(1,), dtype=float64, numpy=array([0.5874381])>,\n",
       " 'V11': <tf.Tensor: shape=(1,), dtype=float64, numpy=array([-0.14979756])>,\n",
       " 'V12': <tf.Tensor: shape=(1,), dtype=float64, numpy=array([0.29514782])>,\n",
       " 'V13': <tf.Tensor: shape=(1,), dtype=float64, numpy=array([-1.30382622])>,\n",
       " 'V14': <tf.Tensor: shape=(1,), dtype=float64, numpy=array([-0.31782283])>,\n",
       " 'V15': <tf.Tensor: shape=(1,), dtype=float64, numpy=array([-2.03673231])>,\n",
       " 'V16': <tf.Tensor: shape=(1,), dtype=float64, numpy=array([0.37609091])>,\n",
       " 'V17': <tf.Tensor: shape=(1,), dtype=float64, numpy=array([-0.3004035])>,\n",
       " 'V18': <tf.Tensor: shape=(1,), dtype=float64, numpy=array([0.43379962])>,\n",
       " 'V19': <tf.Tensor: shape=(1,), dtype=float64, numpy=array([-0.14508226])>,\n",
       " 'V20': <tf.Tensor: shape=(1,), dtype=float64, numpy=array([-0.24042755])>,\n",
       " 'V21': <tf.Tensor: shape=(1,), dtype=float64, numpy=array([0.03760307])>,\n",
       " 'V22': <tf.Tensor: shape=(1,), dtype=float64, numpy=array([0.38002621])>,\n",
       " 'V23': <tf.Tensor: shape=(1,), dtype=float64, numpy=array([-0.16764743])>,\n",
       " 'V24': <tf.Tensor: shape=(1,), dtype=float64, numpy=array([0.02755735])>,\n",
       " 'V25': <tf.Tensor: shape=(1,), dtype=float64, numpy=array([0.5921147])>,\n",
       " 'V26': <tf.Tensor: shape=(1,), dtype=float64, numpy=array([0.21969516])>,\n",
       " 'V27': <tf.Tensor: shape=(1,), dtype=float64, numpy=array([0.03696951])>,\n",
       " 'V28': <tf.Tensor: shape=(1,), dtype=float64, numpy=array([0.01098444])>,\n",
       " 'Amount': <tf.Tensor: shape=(1,), dtype=float64, numpy=array([0.])>}"
      ]
     },
     "execution_count": 45,
     "metadata": {},
     "output_type": "execute_result"
    }
   ],
   "source": [
    "{key: tf.constant([value], dtype=tf.float64, name = key) for key, value in newobs[0].items()}"
   ]
  },
  {
   "cell_type": "code",
   "execution_count": 46,
   "id": "3b1a4201-828c-429d-9c9f-21e4cd4fd157",
   "metadata": {},
   "outputs": [
    {
     "data": {
      "text/plain": [
       "[{'logistic': [0.9998517036437988, 0.00014822492084931582]}]"
      ]
     },
     "execution_count": 46,
     "metadata": {},
     "output_type": "execute_result"
    }
   ],
   "source": [
    "prediction = local_model.predict(instances = [{key: tf.constant([value], dtype=tf.float64, name = key) for key, value in newobs[0].items()}])\n",
    "prediction"
   ]
  },
  {
   "cell_type": "code",
   "execution_count": 47,
   "id": "18df7690-057c-4464-b713-7ff36fccc1dc",
   "metadata": {},
   "outputs": [
    {
     "data": {
      "text/plain": [
       "[<explainable_ai_sdk.model.explanation.Explanation at 0x7ff066e75650>]"
      ]
     },
     "execution_count": 47,
     "metadata": {},
     "output_type": "execute_result"
    }
   ],
   "source": [
    "explanation = local_model.explain(instances = [{key: tf.constant([value], dtype=tf.float64, name = key) for key, value in newobs[0].items()}])\n",
    "explanation"
   ]
  },
  {
   "cell_type": "code",
   "execution_count": 48,
   "id": "36d11c91-d8a8-49b0-9292-2770c2d8c0b2",
   "metadata": {},
   "outputs": [
    {
     "data": {
      "text/plain": [
       "{'V24': 1.7592993728499096e-08,\n",
       " 'V11': 4.288478976377519e-06,\n",
       " 'V18': 1.9551946024876088e-05,\n",
       " 'V10': 8.402520325034857e-05,\n",
       " 'V16': -3.3144438930321485e-05,\n",
       " 'V23': 2.4985899926832644e-06,\n",
       " 'V3': 2.9228276616777293e-05,\n",
       " 'V20': -2.2778601760364836e-06,\n",
       " 'V2': 2.8640235072430187e-08,\n",
       " 'V22': 1.2043834431096911e-05,\n",
       " 'V27': 3.375592996235355e-06,\n",
       " 'V7': -1.0648282113834284e-05,\n",
       " 'Time': -4.34704779763706e-05,\n",
       " 'V28': -1.9763490399782313e-06,\n",
       " 'Amount': 0.0,\n",
       " 'V5': 2.9567734600277618e-05,\n",
       " 'V17': -1.9838520529447123e-05,\n",
       " 'V21': -4.392733785607561e-07,\n",
       " 'V15': 8.524538134224713e-05,\n",
       " 'V4': -0.00012155689910287037,\n",
       " 'V19': 1.1288756468275096e-05,\n",
       " 'V8': 2.043034101006924e-06,\n",
       " 'V13': -4.8374768084613606e-05,\n",
       " 'V9': 1.3587225112132728e-05,\n",
       " 'V25': -5.259461249806918e-05,\n",
       " 'V1': -2.5873487174976617e-05,\n",
       " 'V6': 1.6119029169203714e-05,\n",
       " 'V26': -2.636576482473174e-06,\n",
       " 'V14': 7.157076652219985e-06,\n",
       " 'V12': 2.824295916070696e-05}"
      ]
     },
     "execution_count": 48,
     "metadata": {},
     "output_type": "execute_result"
    }
   ],
   "source": [
    "explanation[0].feature_importance()"
   ]
  },
  {
   "cell_type": "code",
   "execution_count": 49,
   "id": "078410d6-4cc8-4032-9f90-90233a3e0781",
   "metadata": {},
   "outputs": [
    {
     "data": {
      "text/plain": [
       "{'V24': array([1.7592994e-08], dtype=float32),\n",
       " 'V11': array([4.288479e-06], dtype=float32),\n",
       " 'V18': array([1.9551946e-05], dtype=float32),\n",
       " 'V10': array([8.40252e-05], dtype=float32),\n",
       " 'V16': array([-3.314444e-05], dtype=float32),\n",
       " 'V23': array([2.49859e-06], dtype=float32),\n",
       " 'V3': array([2.9228277e-05], dtype=float32),\n",
       " 'V20': array([-2.2778602e-06], dtype=float32),\n",
       " 'V2': array([2.8640235e-08], dtype=float32),\n",
       " 'V22': array([1.2043834e-05], dtype=float32),\n",
       " 'V27': array([3.375593e-06], dtype=float32),\n",
       " 'V7': array([-1.0648282e-05], dtype=float32),\n",
       " 'Time': array([-4.3470478e-05], dtype=float32),\n",
       " 'V28': array([-1.976349e-06], dtype=float32),\n",
       " 'Amount': array([0.], dtype=float32),\n",
       " 'V5': array([2.9567735e-05], dtype=float32),\n",
       " 'V17': array([-1.983852e-05], dtype=float32),\n",
       " 'V21': array([-4.3927338e-07], dtype=float32),\n",
       " 'V15': array([8.524538e-05], dtype=float32),\n",
       " 'V4': array([-0.00012156], dtype=float32),\n",
       " 'V19': array([1.12887565e-05], dtype=float32),\n",
       " 'V8': array([2.043034e-06], dtype=float32),\n",
       " 'V13': array([-4.8374768e-05], dtype=float32),\n",
       " 'V9': array([1.3587225e-05], dtype=float32),\n",
       " 'V25': array([-5.2594612e-05], dtype=float32),\n",
       " 'V1': array([-2.5873487e-05], dtype=float32),\n",
       " 'V6': array([1.611903e-05], dtype=float32),\n",
       " 'V26': array([-2.6365765e-06], dtype=float32),\n",
       " 'V14': array([7.1570767e-06], dtype=float32),\n",
       " 'V12': array([2.824296e-05], dtype=float32)}"
      ]
     },
     "execution_count": 49,
     "metadata": {},
     "output_type": "execute_result"
    }
   ],
   "source": [
    "explanation[0].as_tensors()"
   ]
  },
  {
   "cell_type": "code",
   "execution_count": 50,
   "id": "103536f2-95fa-4bf8-a7bd-e65194d21579",
   "metadata": {},
   "outputs": [
    {
     "name": "stdout",
     "output_type": "stream",
     "text": [
      "Label Index 0\n",
      "Example Score: 0.9999\n",
      "Baseline Score: 0.9999\n",
      "Approximation Error: 0.0015\n"
     ]
    },
    {
     "data": {
      "image/png": "[encoded data removed]",
      "text/plain": [
       "<Figure size 432x288 with 1 Axes>"
      ]
     },
     "metadata": {
      "needs_background": "light"
     },
     "output_type": "display_data"
    }
   ],
   "source": [
    "explanation[0].visualize_attributions()"
   ]
  },
  {
   "cell_type": "code",
   "execution_count": 51,
   "id": "f4fdd102-3064-490d-a511-8cff8233593f",
   "metadata": {},
   "outputs": [
    {
     "data": {
      "image/png": "[encoded data removed]",
      "text/plain": [
       "<Figure size 432x288 with 1 Axes>"
      ]
     },
     "metadata": {
      "needs_background": "light"
     },
     "output_type": "display_data"
    }
   ],
   "source": [
    "explanation[0].visualize_top_k_features(k = 10) #(k=len(newobs[0]))"
   ]
  },
  {
   "cell_type": "markdown",
   "id": "f1c5df30-1335-48b0-8c82-985596b867fe",
   "metadata": {},
   "source": [
    "### Explainable AI SDK With Vertex AI Endpoints\n",
    "The features of the Explainable AI SDK are also useful for Vertex AI Endpoints.  The example below shows using the SDK with a Vertex AI Endpoint, the one setup in this notebook with `explanationSpec`."
   ]
  },
  {
   "cell_type": "code",
   "execution_count": 52,
   "id": "4c77a370-d2cd-461a-8ac1-813e2f08665a",
   "metadata": {},
   "outputs": [],
   "source": [
    "vertex_explain = explainable_ai_sdk.load_model_from_vertex(\n",
    "    project = PROJECT_ID,\n",
    "    region = REGION,\n",
    "    endpoint_id = endpoint.resource_name.split('/')[-1]\n",
    ")"
   ]
  },
  {
   "cell_type": "code",
   "execution_count": 53,
   "id": "a2dd07a5-0a80-4e82-b2f8-e4ba816990e5",
   "metadata": {},
   "outputs": [
    {
     "data": {
      "text/plain": [
       "{'predictions': [[0.999851704, 0.000148224935]],\n",
       " 'deployedModelId': '2689647334098206720',\n",
       " 'model': 'projects/1026793852137/locations/us-central1/models/model_05_05a',\n",
       " 'modelDisplayName': '05_05a',\n",
       " 'modelVersionId': '4'}"
      ]
     },
     "execution_count": 53,
     "metadata": {},
     "output_type": "execute_result"
    }
   ],
   "source": [
    "prediction = vertex_explain.predict(instances = [newobs[0]])\n",
    "prediction"
   ]
  },
  {
   "cell_type": "code",
   "execution_count": 54,
   "id": "0cdd922e-170c-4d2f-933c-9d90371e7b1c",
   "metadata": {},
   "outputs": [],
   "source": [
    "explanation = vertex_explain.explain(instances = [newobs[0]])"
   ]
  },
  {
   "cell_type": "code",
   "execution_count": 55,
   "id": "da96eb1b-9660-4df7-89d9-32754764eca6",
   "metadata": {},
   "outputs": [
    {
     "data": {
      "text/plain": [
       "{'V15': 8.524276808841573e-05,\n",
       " 'V8': 2.042924536859766e-06,\n",
       " 'V6': 1.611891760055058e-05,\n",
       " 'V10': 8.402305998413935e-05,\n",
       " 'V13': -4.837413372200769e-05,\n",
       " 'V9': 1.358668962895947e-05,\n",
       " 'V16': -3.314356164977715e-05,\n",
       " 'Time': -4.346902581039083e-05,\n",
       " 'V27': 3.375547657192186e-06,\n",
       " 'V5': 2.956701375766078e-05,\n",
       " 'V21': -4.392826818649771e-07,\n",
       " 'V25': -5.259336802207792e-05,\n",
       " 'V12': 2.824241180530853e-05,\n",
       " 'V4': -0.0001215545305240503,\n",
       " 'V18': 1.955156007833585e-05,\n",
       " 'V23': 2.498465468639653e-06,\n",
       " 'V22': 1.20434392319479e-05,\n",
       " 'V11': 4.28836549225867e-06,\n",
       " 'V2': 2.864213409195713e-08,\n",
       " 'V28': -1.97629481378938e-06,\n",
       " 'V14': 7.156847865785201e-06,\n",
       " 'V24': 1.760520033071514e-08,\n",
       " 'V20': -2.277845664722977e-06,\n",
       " 'V7': -1.064844229002329e-05,\n",
       " 'V3': 2.922752592723348e-05,\n",
       " 'V1': -2.587269918927104e-05,\n",
       " 'V17': -1.983812322068614e-05,\n",
       " 'V19': 1.128852491811169e-05,\n",
       " 'V26': -2.636662467477038e-06}"
      ]
     },
     "execution_count": 55,
     "metadata": {},
     "output_type": "execute_result"
    }
   ],
   "source": [
    "explanation[0].feature_importance()"
   ]
  },
  {
   "cell_type": "code",
   "execution_count": 56,
   "id": "eb933ae1-e433-473f-8cdb-b8b385e53de2",
   "metadata": {},
   "outputs": [
    {
     "data": {
      "text/plain": [
       "{'V15': array(8.52427681e-05),\n",
       " 'V8': array(2.04292454e-06),\n",
       " 'V6': array(1.61189176e-05),\n",
       " 'V10': array(8.402306e-05),\n",
       " 'V13': array(-4.83741337e-05),\n",
       " 'V9': array(1.35866896e-05),\n",
       " 'V16': array(-3.31435616e-05),\n",
       " 'Time': array(-4.34690258e-05),\n",
       " 'V27': array(3.37554766e-06),\n",
       " 'V5': array(2.95670138e-05),\n",
       " 'V21': array(-4.39282682e-07),\n",
       " 'V25': array(-5.2593368e-05),\n",
       " 'V12': array(2.82424118e-05),\n",
       " 'V4': array(-0.00012155),\n",
       " 'V18': array(1.95515601e-05),\n",
       " 'V23': array(2.49846547e-06),\n",
       " 'V22': array(1.20434392e-05),\n",
       " 'V11': array(4.28836549e-06),\n",
       " 'V2': array(2.86421341e-08),\n",
       " 'V28': array(-1.97629481e-06),\n",
       " 'V14': array(7.15684787e-06),\n",
       " 'V24': array(1.76052003e-08),\n",
       " 'V20': array(-2.27784566e-06),\n",
       " 'V7': array(-1.06484423e-05),\n",
       " 'V3': array(2.92275259e-05),\n",
       " 'V1': array(-2.58726992e-05),\n",
       " 'V17': array(-1.98381232e-05),\n",
       " 'V19': array(1.12885249e-05),\n",
       " 'V26': array(-2.63666247e-06)}"
      ]
     },
     "execution_count": 56,
     "metadata": {},
     "output_type": "execute_result"
    }
   ],
   "source": [
    "explanation[0].as_tensors()"
   ]
  },
  {
   "cell_type": "code",
   "execution_count": 57,
   "id": "1b187673-80ad-48fe-8d5c-493bdffb9cde",
   "metadata": {},
   "outputs": [
    {
     "name": "stdout",
     "output_type": "stream",
     "text": [
      "Label Index [0]\n",
      "Example Score: 0.9999\n",
      "Baseline Score: 0.9999\n",
      "Approximation Error: 0.0014\n"
     ]
    }
   ],
   "source": [
    "explanation[0].visualize_attributions()"
   ]
  },
  {
   "cell_type": "code",
   "execution_count": 58,
   "id": "7779b72a-4063-4ee1-93a4-6650e29ec6da",
   "metadata": {},
   "outputs": [
    {
     "data": {
      "image/png": "[encoded data removed]",
      "text/plain": [
       "<Figure size 432x288 with 1 Axes>"
      ]
     },
     "metadata": {
      "needs_background": "light"
     },
     "output_type": "display_data"
    }
   ],
   "source": [
    "explanation[0].visualize_top_k_features(k=len(newobs[0]))"
   ]
  }
 ],
 "metadata": {
  "environment": {
   "kernel": "python3",
   "name": "tf2-gpu.2-3.m94",
   "type": "gcloud",
   "uri": "gcr.io/deeplearning-platform-release/tf2-gpu.2-3:m94"
  },
  "kernelspec": {
   "display_name": "Python 3",
   "language": "python",
   "name": "python3"
  },
  "language_info": {
   "codemirror_mode": {
    "name": "ipython",
    "version": 3
   },
   "file_extension": ".py",
   "mimetype": "text/x-python",
   "name": "python",
   "nbconvert_exporter": "python",
   "pygments_lexer": "ipython3",
   "version": "3.7.12"
  }
 },
 "nbformat": 4,
 "nbformat_minor": 5
}
