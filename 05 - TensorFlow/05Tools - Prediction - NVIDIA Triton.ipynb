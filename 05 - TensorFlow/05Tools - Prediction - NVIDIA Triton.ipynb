{
 "cells": [
  {
   "cell_type": "markdown",
   "id": "3338167d-26e6-4c56-9aaa-b7657935fd8b",
   "metadata": {},
   "source": [
    "# 05Tools - Prediction - NVIDIA Triton\n",
    "\n",
    "## WORK IN PROGRESS\n",
    "\n",
    "Hosts multiple models on a single Vertex AI Endpoint using NVIDA Triton server?\n",
    "\n",
    "Workflow:\n",
    "- Registry models from 05a-05f in a Triton Server Instance on Vertex AI Endpoint\n",
    "- Show prediction calls to individual models\n",
    "- Add a model\n",
    "- Replace a model\n",
    "\n",
    "Resources:\n",
    "- Vertex AI Model Registry\n",
    "- GCS\n",
    "- Vetex AI Endpoints\n",
    "\n",
    "Prerequisites:\n",
    "- Multiple of [05, 05a-05i]\n",
    "\n",
    "References:\n",
    "- https://cloud.google.com/vertex-ai/docs/predictions/using-nvidia-triton\n",
    "- https://github.com/GoogleCloudPlatform/vertex-ai-samples/blob/main/notebooks/community/vertex_endpoints/nvidia-triton/nvidia-triton-custom-container-prediction.ipynb\n",
    "- https://catalog.ngc.nvidia.com/orgs/nvidia/containers/tritonserver\n",
    "- Main Concepts from [user guide](https://github.com/triton-inference-server/server/tree/main/docs/user_guide):\n",
    "    - [model registry](https://github.com/triton-inference-server/server/blob/main/docs/user_guide/model_repository.md)\n",
    "    - [model configuration](https://github.com/triton-inference-server/server/blob/main/docs/user_guide/model_configuration.md)"
   ]
  },
  {
   "cell_type": "markdown",
   "id": "43abb516-d82b-48e7-bee3-f477c136bc13",
   "metadata": {},
   "source": [
    "---\n",
    "## Setup"
   ]
  },
  {
   "cell_type": "markdown",
   "id": "ba42dbc4-9a65-4025-b9bb-6c36481c118a",
   "metadata": {},
   "source": [
    "inputs:"
   ]
  },
  {
   "cell_type": "code",
   "execution_count": 1,
   "id": "d87d88d0-67bd-47aa-93e3-1e282c1cc021",
   "metadata": {},
   "outputs": [
    {
     "data": {
      "text/plain": [
       "'statmike-mlops-349915'"
      ]
     },
     "execution_count": 1,
     "metadata": {},
     "output_type": "execute_result"
    }
   ],
   "source": [
    "project = !gcloud config get-value project\n",
    "PROJECT_ID = project[0]\n",
    "PROJECT_ID"
   ]
  },
  {
   "cell_type": "code",
   "execution_count": 2,
   "id": "704d0ea3-f588-41e9-a58f-49ed56c5fe2b",
   "metadata": {},
   "outputs": [],
   "source": [
    "REGION = 'us-central1'\n",
    "EXPERIMENT = 'triton'\n",
    "SERIES = '05'\n",
    "\n",
    "# source data\n",
    "BQ_PROJECT = PROJECT_ID\n",
    "BQ_DATASET = 'fraud'\n",
    "BQ_TABLE = 'fraud_prepped'\n",
    "\n",
    "# Resources\n",
    "DEPLOY_COMPUTE = 'n1-standard-4'\n",
    "\n",
    "# Model Training\n",
    "VAR_TARGET = 'Class'\n",
    "VAR_OMIT = 'transaction_id' # add more variables to the string with space delimiters"
   ]
  },
  {
   "cell_type": "markdown",
   "id": "21e80c26-f8e4-45cd-9de3-4dfbe6dc5de6",
   "metadata": {},
   "source": [
    "packages:"
   ]
  },
  {
   "cell_type": "code",
   "execution_count": 3,
   "id": "8954c99e-1e41-4699-b551-ee27c896c4d4",
   "metadata": {},
   "outputs": [],
   "source": [
    "from google.cloud import aiplatform\n",
    "from google.cloud import bigquery\n",
    "\n",
    "import json\n",
    "from google.api import httpbody_pb2"
   ]
  },
  {
   "cell_type": "markdown",
   "id": "266960d7-e925-4fad-a4d1-fba7e3da4260",
   "metadata": {},
   "source": [
    "clients:"
   ]
  },
  {
   "cell_type": "code",
   "execution_count": 4,
   "id": "6c07af4f-5b60-4bf1-adc5-44af7b87fe0c",
   "metadata": {},
   "outputs": [],
   "source": [
    "aiplatform.init(project=PROJECT_ID, location=REGION)\n",
    "bq = bigquery.Client()"
   ]
  },
  {
   "cell_type": "markdown",
   "id": "7c110fbe-299b-4018-b9bc-fa5d5e55c2bb",
   "metadata": {},
   "source": [
    "parameters:"
   ]
  },
  {
   "cell_type": "code",
   "execution_count": 5,
   "id": "a2586197-6e5e-49f2-bb72-24e7bcae6c3a",
   "metadata": {},
   "outputs": [],
   "source": [
    "BUCKET = PROJECT_ID\n",
    "DIR = f\"temp/{EXPERIMENT}\""
   ]
  },
  {
   "cell_type": "markdown",
   "id": "e33b66c7-5e5d-455f-b1e1-0b69d262eb4a",
   "metadata": {},
   "source": [
    "environment:"
   ]
  },
  {
   "cell_type": "code",
   "execution_count": 6,
   "id": "905ee649-162c-410a-aef5-c2024cf36bee",
   "metadata": {},
   "outputs": [],
   "source": [
    "!rm -rf {DIR}\n",
    "!mkdir -p {DIR}"
   ]
  },
  {
   "cell_type": "markdown",
   "id": "396e3e0d-23ce-4998-b6d3-9728df6a0bec",
   "metadata": {},
   "source": [
    "---\n",
    "## List Models\n",
    "This series, `05`, has a multiple workflows that create models that each predict the `Class` of transaction from a fraud dataset. This section will list all models in the series as well as all versions of each model.\n",
    "- [Reference](https://cloud.google.com/vertex-ai/docs/model-registry/versioning#list-all-api)"
   ]
  },
  {
   "cell_type": "code",
   "execution_count": 7,
   "id": "7c8fa32e-3cb0-42d7-82f8-927b67eee856",
   "metadata": {},
   "outputs": [
    {
     "name": "stdout",
     "output_type": "stream",
     "text": [
      "model_05_05f\n",
      "model_05_05a\n",
      "model_05_05i\n",
      "model_05_05h\n",
      "model_05_05g\n",
      "model_05_05e\n",
      "model_05_05d\n",
      "model_05_05c\n",
      "model_05_05b\n",
      "model_05_05\n",
      "model_05f_fraud\n",
      "model_05e_fraud\n"
     ]
    }
   ],
   "source": [
    "model_list = aiplatform.Model.list(filter = f\"labels.series={SERIES}\")\n",
    "for m in model_list: print(m.name)"
   ]
  },
  {
   "cell_type": "code",
   "execution_count": 10,
   "id": "6180de18-7b18-4ead-a5ac-7387133af4c3",
   "metadata": {},
   "outputs": [
    {
     "name": "stdout",
     "output_type": "stream",
     "text": [
      "Model Name: model_05_05f\n",
      "Getting versions for projects/1026793852137/locations/us-central1/models/model_05_05f\n",
      "Model Version: 1 gs://statmike-mlops-349915/05/05f/models/20220927190441/model\n",
      "Model Version: 2 gs://statmike-mlops-349915/05/05f/models/20221024130131/model\n",
      "Model Version: 3 gs://statmike-mlops-349915/05/05f/models/20221101224649/model\n",
      "Model Version: 4 gs://statmike-mlops-349915/05/05f/models/20221102030007/model\n",
      "Model Version: 5 gs://statmike-mlops-349915/05/05f/models/20221109040010/model\n",
      "Model Version: 6 gs://statmike-mlops-349915/05/05f/models/20221116040015/model\n",
      "Model Version: 8 gs://statmike-mlops-349915/05/05f/models/20221130040015/model\n",
      "Model Version: 9 gs://statmike-mlops-349915/05/05f/models/20221207040014/model\n",
      "Model Version: 10 gs://statmike-mlops-349915/05/05f/models/20221214040012/model\n",
      "Model Version: 11 gs://statmike-mlops-349915/05/05f/models/20221221040013/model\n",
      "Model Version: 12 gs://statmike-mlops-349915/05/05f/models/20221228040012/model\n"
     ]
    }
   ],
   "source": [
    "for model in model_list[0:1]:\n",
    "    print('Model Name:', model.name)\n",
    "    versions = model.versioning_registry.list_versions()\n",
    "    for v in versions:\n",
    "        print('Model Version:', v.version_id, aiplatform.Model(model_name = f'{v.model_resource_name}@{v.version_id}').uri)"
   ]
  },
  {
   "cell_type": "markdown",
   "id": "29371f3e-e1a3-4cf1-86e1-46eecddc1cad",
   "metadata": {},
   "source": [
    "---\n",
    "## Create A Triton Inference Server Model Repository\n",
    "\n",
    "The Triton inference server expects a prepared model repository in the specific layout listed below.  This section will prepare this folder in the GCS bucket for this project.\n",
    "\n",
    "```\n",
    "  <model-repository-path>/\n",
    "    <model-name>/\n",
    "      [config.pbtxt]\n",
    "      [<output-labels-file> ...]\n",
    "      <version>/\n",
    "        <model-definition-file>\n",
    "      <version>/\n",
    "        <model-definition-file>\n",
    "      ...\n",
    "    <model-name>/\n",
    "      [config.pbtxt]\n",
    "      [<output-labels-file> ...]\n",
    "      <version>/\n",
    "        <model-definition-file>\n",
    "      <version>/\n",
    "        <model-definition-file>\n",
    "      ...\n",
    "    ...\n",
    "```\n",
    "\n",
    "- [Reference](https://github.com/triton-inference-server/server/blob/main/docs/user_guide/model_repository.md)"
   ]
  },
  {
   "cell_type": "code",
   "execution_count": 11,
   "id": "d57992b3-922f-4f33-b13b-ca0011529751",
   "metadata": {},
   "outputs": [
    {
     "name": "stdout",
     "output_type": "stream",
     "text": [
      "Model Name: model_05_05f\n",
      "Getting versions for projects/1026793852137/locations/us-central1/models/model_05_05f\n",
      "Model Version: 1 gs://statmike-mlops-349915/05/05f/models/20220927190441/model\n",
      "Copying gs://statmike-mlops-349915/05/05f/models/20220927190441/model/saved_model.pb...\n",
      "Copying gs://statmike-mlops-349915/05/05f/models/20220927190441/model/variables/variables.index...\n",
      "Copying gs://statmike-mlops-349915/05/05f/models/20220927190441/model/variables/variables.data-00000-of-00001...\n",
      "Model Version: 2 gs://statmike-mlops-349915/05/05f/models/20221024130131/model  \n",
      "Copying gs://statmike-mlops-349915/05/05f/models/20221024130131/model/saved_model.pb...\n",
      "Copying gs://statmike-mlops-349915/05/05f/models/20221024130131/model/variables/variables.data-00000-of-00001...\n",
      "Copying gs://statmike-mlops-349915/05/05f/models/20221024130131/model/variables/variables.index...\n",
      "Model Version: 3 gs://statmike-mlops-349915/05/05f/models/20221101224649/model  \n",
      "Copying gs://statmike-mlops-349915/05/05f/models/20221101224649/model/variables/variables.index...\n",
      "Copying gs://statmike-mlops-349915/05/05f/models/20221101224649/model/saved_model.pb...\n",
      "Copying gs://statmike-mlops-349915/05/05f/models/20221101224649/model/variables/variables.data-00000-of-00001...\n",
      "Model Version: 4 gs://statmike-mlops-349915/05/05f/models/20221102030007/model  \n",
      "Copying gs://statmike-mlops-349915/05/05f/models/20221102030007/model/variables/variables.index...\n",
      "Copying gs://statmike-mlops-349915/05/05f/models/20221102030007/model/saved_model.pb...\n",
      "Copying gs://statmike-mlops-349915/05/05f/models/20221102030007/model/variables/variables.data-00000-of-00001...\n",
      "Model Version: 5 gs://statmike-mlops-349915/05/05f/models/20221109040010/model  \n",
      "Copying gs://statmike-mlops-349915/05/05f/models/20221109040010/model/variables/variables.index...\n",
      "Copying gs://statmike-mlops-349915/05/05f/models/20221109040010/model/saved_model.pb...\n",
      "Copying gs://statmike-mlops-349915/05/05f/models/20221109040010/model/variables/variables.data-00000-of-00001...\n",
      "Model Version: 6 gs://statmike-mlops-349915/05/05f/models/20221116040015/model  \n",
      "Copying gs://statmike-mlops-349915/05/05f/models/20221116040015/model/saved_model.pb...\n",
      "Copying gs://statmike-mlops-349915/05/05f/models/20221116040015/model/variables/variables.data-00000-of-00001...\n",
      "Copying gs://statmike-mlops-349915/05/05f/models/20221116040015/model/variables/variables.index...\n",
      "Model Version: 8 gs://statmike-mlops-349915/05/05f/models/20221130040015/model  \n",
      "Copying gs://statmike-mlops-349915/05/05f/models/20221130040015/model/saved_model.pb...\n",
      "Copying gs://statmike-mlops-349915/05/05f/models/20221130040015/model/variables/variables.data-00000-of-00001...\n",
      "Copying gs://statmike-mlops-349915/05/05f/models/20221130040015/model/variables/variables.index...\n",
      "Model Version: 9 gs://statmike-mlops-349915/05/05f/models/20221207040014/model  \n",
      "Copying gs://statmike-mlops-349915/05/05f/models/20221207040014/model/variables/variables.data-00000-of-00001...\n",
      "Copying gs://statmike-mlops-349915/05/05f/models/20221207040014/model/saved_model.pb...\n",
      "Copying gs://statmike-mlops-349915/05/05f/models/20221207040014/model/variables/variables.index...\n",
      "Model Version: 10 gs://statmike-mlops-349915/05/05f/models/20221214040012/model \n",
      "Copying gs://statmike-mlops-349915/05/05f/models/20221214040012/model/saved_model.pb...\n",
      "Copying gs://statmike-mlops-349915/05/05f/models/20221214040012/model/variables/variables.data-00000-of-00001...\n",
      "Copying gs://statmike-mlops-349915/05/05f/models/20221214040012/model/variables/variables.index...\n",
      "Model Version: 11 gs://statmike-mlops-349915/05/05f/models/20221221040013/model \n",
      "Copying gs://statmike-mlops-349915/05/05f/models/20221221040013/model/saved_model.pb...\n",
      "Copying gs://statmike-mlops-349915/05/05f/models/20221221040013/model/variables/variables.data-00000-of-00001...\n",
      "Copying gs://statmike-mlops-349915/05/05f/models/20221221040013/model/variables/variables.index...\n",
      "Model Version: 12 gs://statmike-mlops-349915/05/05f/models/20221228040012/model \n",
      "Copying gs://statmike-mlops-349915/05/05f/models/20221228040012/model/variables/variables.data-00000-of-00001...\n",
      "Copying gs://statmike-mlops-349915/05/05f/models/20221228040012/model/saved_model.pb...\n",
      "Copying gs://statmike-mlops-349915/05/05f/models/20221228040012/model/variables/variables.index...\n",
      "/ [3/6 files][512.5 KiB/512.5 KiB]  99% Done                                    \r"
     ]
    }
   ],
   "source": [
    "for model in model_list[0:1]:\n",
    "    print('Model Name:', model.name)\n",
    "    versions = model.versioning_registry.list_versions()\n",
    "    for v in versions:\n",
    "        version = aiplatform.Model(model_name = f'{v.model_resource_name}@{v.version_id}')\n",
    "        print('Model Version:', v.version_id, version.uri)\n",
    "        !gsutil -m cp -r $version.uri gs://$PROJECT_ID/$SERIES/$EXPERIMENT/model_repo/$model.name/$v.version_id/model.savedmodel"
   ]
  },
  {
   "cell_type": "code",
   "execution_count": 12,
   "id": "368d2e14-5d66-4546-b238-ecbc181a5589",
   "metadata": {},
   "outputs": [
    {
     "name": "stdout",
     "output_type": "stream",
     "text": [
      "Review the model repository path here:\n",
      "https://console.cloud.google.com/storage/browser/statmike-mlops-349915/05/triton?project=statmike-mlops-349915\n"
     ]
    }
   ],
   "source": [
    "print(f'Review the model repository path here:\\nhttps://console.cloud.google.com/storage/browser/{PROJECT_ID}/{SERIES}/{EXPERIMENT}?project={PROJECT_ID}')"
   ]
  },
  {
   "cell_type": "markdown",
   "id": "7ed0aa42-a738-4fad-b53a-362231844239",
   "metadata": {},
   "source": [
    "---\n",
    "## Copy Triton Image to Artifact Registry\n",
    "\n",
    "Make a copy of a pre-built [Triton Inference Server] container by using docker to pull the image, tag it, then push it to Artifact Registry.\n",
    "\n",
    "**Note:** Vertex AI prediction containers need to be in either Artifact Registry or Container Registry as documented [here](https://cloud.google.com/vertex-ai/docs/predictions/use-custom-container#push_the_container_image_to_or).\n"
   ]
  },
  {
   "cell_type": "code",
   "execution_count": 13,
   "id": "22b5a9bc-fd08-44ec-9ee8-36d2c3a2b41f",
   "metadata": {},
   "outputs": [],
   "source": [
    "TRITON_IMAGE = \"nvcr.io/nvidia/tritonserver:22.01-py3\"\n",
    "\n",
    "REPOSITORY = f\"{REGION}-docker.pkg.dev/{PROJECT_ID}/{PROJECT_ID}\"\n",
    "\n",
    "AR_IMAGE = f\"{REPOSITORY}/{SERIES}_{EXPERIMENT}:22.01\""
   ]
  },
  {
   "cell_type": "code",
   "execution_count": 14,
   "id": "077fa8cc-fa9a-4cd7-b734-1f65c44af58e",
   "metadata": {},
   "outputs": [
    {
     "data": {
      "text/plain": [
       "('nvcr.io/nvidia/tritonserver:22.01-py3',\n",
       " 'us-central1-docker.pkg.dev/statmike-mlops-349915/statmike-mlops-349915',\n",
       " 'us-central1-docker.pkg.dev/statmike-mlops-349915/statmike-mlops-349915/05_triton:22.01')"
      ]
     },
     "execution_count": 14,
     "metadata": {},
     "output_type": "execute_result"
    }
   ],
   "source": [
    "TRITON_IMAGE, REPOSITORY, AR_IMAGE"
   ]
  },
  {
   "cell_type": "code",
   "execution_count": 15,
   "id": "b8d44d4b-ce2a-43e8-95d4-e459d0ff6c9f",
   "metadata": {},
   "outputs": [
    {
     "name": "stdout",
     "output_type": "stream",
     "text": [
      "22.01-py3: Pulling from nvidia/tritonserver\n",
      "Digest: sha256:bb4c71b62bf206c8d6b0db57b66c18e86b471f6549676849508de2afe9f435c0\n",
      "Status: Image is up to date for nvcr.io/nvidia/tritonserver:22.01-py3\n",
      "nvcr.io/nvidia/tritonserver:22.01-py3\n"
     ]
    }
   ],
   "source": [
    "!docker pull $TRITON_IMAGE"
   ]
  },
  {
   "cell_type": "code",
   "execution_count": 16,
   "id": "a32f9dcb-36ee-41db-9ee8-0088aa2ec3c8",
   "metadata": {},
   "outputs": [],
   "source": [
    "#!docker rmi $(docker images --filter \"dangling=true\" -q)"
   ]
  },
  {
   "cell_type": "code",
   "execution_count": 17,
   "id": "f595c499-fe73-4171-b6c3-f7c554faac82",
   "metadata": {},
   "outputs": [],
   "source": [
    "#!docker rmi $(docker images \"us-central1-docker.pkg.dev/statmike-mlops-349915/statmike-mlops-349915/*\" -q)"
   ]
  },
  {
   "cell_type": "code",
   "execution_count": 18,
   "id": "531b9d84-a72c-4558-a6b4-1d12ea94b48c",
   "metadata": {},
   "outputs": [],
   "source": [
    "!docker tag $TRITON_IMAGE $AR_IMAGE"
   ]
  },
  {
   "cell_type": "code",
   "execution_count": 19,
   "id": "acfa11f9-b8de-4a82-8292-30f4a764c65c",
   "metadata": {},
   "outputs": [
    {
     "name": "stdout",
     "output_type": "stream",
     "text": [
      "\u001b[1;33mWARNING:\u001b[0m Your config file at [/home/jupyter/.docker/config.json] contains these credential helper entries:\n",
      "\n",
      "{\n",
      "  \"credHelpers\": {\n",
      "    \"gcr.io\": \"gcloud\",\n",
      "    \"us.gcr.io\": \"gcloud\",\n",
      "    \"eu.gcr.io\": \"gcloud\",\n",
      "    \"asia.gcr.io\": \"gcloud\",\n",
      "    \"staging-k8s.gcr.io\": \"gcloud\",\n",
      "    \"marketplace.gcr.io\": \"gcloud\",\n",
      "    \"us-central1-docker.pkg.dev\": \"gcloud\"\n",
      "  }\n",
      "}\n",
      "Adding credentials for: us-central1-docker.pkg.dev\n",
      "gcloud credential helpers already registered correctly.\n"
     ]
    }
   ],
   "source": [
    "!gcloud auth configure-docker $REGION-docker.pkg.dev --quiet"
   ]
  },
  {
   "cell_type": "code",
   "execution_count": 20,
   "id": "a28b608e-0fdd-4ff5-8d54-f70c2a84d018",
   "metadata": {},
   "outputs": [
    {
     "name": "stdout",
     "output_type": "stream",
     "text": [
      "The push refers to repository [us-central1-docker.pkg.dev/statmike-mlops-349915/statmike-mlops-349915/05_triton]\n",
      "\n",
      "\u001b[1Bdc9163ba: Preparing \n",
      "\u001b[1Bec5cbe74: Preparing \n",
      "\u001b[1Bdc188c3b: Preparing \n",
      "\u001b[1B7398f9de: Preparing \n",
      "\u001b[1B82e2ac43: Preparing \n",
      "\u001b[1Be2585d1c: Preparing \n",
      "\u001b[1Bb2904404: Preparing \n",
      "\u001b[1B9978eca4: Preparing \n",
      "\u001b[1B70c80f6c: Preparing \n",
      "\u001b[1B318f9fd9: Preparing \n",
      "\u001b[1B1053ce30: Preparing \n",
      "\u001b[1B396e2977: Preparing \n",
      "\u001b[1Beaf8a0ad: Preparing \n",
      "\u001b[1B3abb1f4f: Preparing \n",
      "\u001b[1B27bc77b7: Preparing \n",
      "\u001b[1B3b9675cd: Preparing \n",
      "\u001b[1B7dff5583: Preparing \n",
      "\u001b[1B5b092a4b: Preparing \n",
      "\u001b[1Bdcb16d7f: Preparing \n",
      "\u001b[1B6fef3119: Preparing \n",
      "\u001b[1B19722fae: Preparing \n",
      "\u001b[1Be0bb437c: Preparing \n",
      "\u001b[1Bee343cb8: Preparing \n",
      "\u001b[1B94bde60b: Preparing \n",
      "\u001b[1B262b816c: Preparing \n",
      "\u001b[20B2904404: Waiting g \n",
      "\u001b[14Babb1f4f: Waiting g \n",
      "\u001b[14B7bc77b7: Waiting g \n",
      "\u001b[1B1fe283a8: Preparing \n",
      "\u001b[22B0c80f6c: Waiting g \n",
      "\u001b[2B6d186137: Layer already exists \u001b[26A\u001b[2K\u001b[22A\u001b[2K\u001b[19A\u001b[2K\u001b[13A\u001b[2K\u001b[8A\u001b[2K\u001b[3A\u001b[2K22.01: digest: sha256:4aac6b9b4b8865a5edd5b83cd72a45731b8312547731832424dce7d61a13603b size: 6834\n"
     ]
    }
   ],
   "source": [
    "!docker push $AR_IMAGE"
   ]
  },
  {
   "cell_type": "markdown",
   "id": "5c6416f6-d5c8-4891-92df-aadb9a5c5ee1",
   "metadata": {},
   "source": [
    "---\n",
    "## Upload The Triton Server As A Vertex AI Model Resource\n",
    "\n",
    "Upload the Triton server as a Vertex AI Model where the model repository is the `artifact_uri` and the `serving_container` is the pre-built [Triton Inference Server](https://catalog.ngc.nvidia.com/orgs/nvidia/containers/tritonserver) container that has been copied to artifact registry above.  By default, the Triton Inference Server will attempt to automatically generate the model configuration if they are missing.  This work for all required setting of some model types as documented [here](https://github.com/triton-inference-server/server/blob/main/docs/user_guide/model_configuration.md#auto-generated-model-configuration).\n",
    "\n",
    "The logic here will check for the models existance and if it exist it will check to see if the associated serving container is the same.  If the model exist and has the same serving container it links the existing model, otherwise it createsor upload new version of the model."
   ]
  },
  {
   "cell_type": "code",
   "execution_count": 21,
   "id": "d96da277-ff3c-4e71-9203-27193135ee81",
   "metadata": {},
   "outputs": [
    {
     "name": "stdout",
     "output_type": "stream",
     "text": [
      "This is a new model, creating in model registry\n",
      "Creating Model\n",
      "Create Model backing LRO: projects/1026793852137/locations/us-central1/models/model_05_triton/operations/3801582687353831424\n",
      "Model created. Resource name: projects/1026793852137/locations/us-central1/models/model_05_triton@1\n",
      "To use this Model in another session:\n",
      "model = aiplatform.Model('projects/1026793852137/locations/us-central1/models/model_05_triton@1')\n"
     ]
    }
   ],
   "source": [
    "modelmatch = aiplatform.Model.list(filter = f'display_name={SERIES}_{EXPERIMENT} AND labels.series={SERIES} AND labels.experiment={EXPERIMENT}')\n",
    "\n",
    "upload_model = True\n",
    "if modelmatch:\n",
    "    print(\"Model Already in Registry:\")\n",
    "    if modelmatch[0].container_spec.image_uri == AR_IMAGE:\n",
    "        print(\"This version already loaded, no action taken.\")\n",
    "        upload_model = False\n",
    "        model = modelmatch[0].resource_name\n",
    "    else:\n",
    "        print('Loading model as new default version.')\n",
    "        parent_model = modelmatch[0].resource_name\n",
    "else:\n",
    "    print('This is a new model, creating in model registry')\n",
    "    parent_model = ''\n",
    "if upload_model:    \n",
    "    model = aiplatform.Model.upload(\n",
    "        display_name = f'{SERIES}_{EXPERIMENT}',\n",
    "        model_id = f'model_{SERIES}_{EXPERIMENT}',\n",
    "        parent_model = parent_model,\n",
    "        serving_container_image_uri = AR_IMAGE,\n",
    "        serving_container_args = ['--strict-model-config=false'],\n",
    "        artifact_uri = f\"gs://{PROJECT_ID}/{SERIES}/{EXPERIMENT}/model_repo\",\n",
    "        is_default_version = True,\n",
    "        labels = {'series' : f'{SERIES}', 'experiment' : f'{EXPERIMENT}'}        \n",
    "    )"
   ]
  },
  {
   "cell_type": "code",
   "execution_count": 22,
   "id": "58e75770-0d0f-4c02-9f20-d89e0054e8d2",
   "metadata": {},
   "outputs": [
    {
     "data": {
      "text/plain": [
       "'model_05_triton'"
      ]
     },
     "execution_count": 22,
     "metadata": {},
     "output_type": "execute_result"
    }
   ],
   "source": [
    "model.name"
   ]
  },
  {
   "cell_type": "code",
   "execution_count": 23,
   "id": "dc1d6812-27a5-459e-8e68-6566717a2973",
   "metadata": {},
   "outputs": [
    {
     "data": {
      "text/plain": [
       "'1'"
      ]
     },
     "execution_count": 23,
     "metadata": {},
     "output_type": "execute_result"
    }
   ],
   "source": [
    "model.version_id"
   ]
  },
  {
   "cell_type": "code",
   "execution_count": 24,
   "id": "46d2eda3-ff93-410d-a08b-21d167ab12db",
   "metadata": {},
   "outputs": [
    {
     "name": "stdout",
     "output_type": "stream",
     "text": [
      "Review the model in the Vertex AI Model Registry:\n",
      "https://console.cloud.google.com/vertex-ai/locations/us-central1/models/model_05_triton?project=statmike-mlops-349915\n"
     ]
    }
   ],
   "source": [
    "print(f'Review the model in the Vertex AI Model Registry:\\nhttps://console.cloud.google.com/vertex-ai/locations/{REGION}/models/{model.name}?project={PROJECT_ID}')"
   ]
  },
  {
   "cell_type": "markdown",
   "id": "fd5d9dda-10a9-488c-a0af-c1ee96783a69",
   "metadata": {},
   "source": [
    "---\n",
    "## Create/Retrieve The Endpoint For This Series"
   ]
  },
  {
   "cell_type": "code",
   "execution_count": 25,
   "id": "2f2c26d9-c2d1-45d2-ae5a-118c489d1fe5",
   "metadata": {},
   "outputs": [
    {
     "name": "stdout",
     "output_type": "stream",
     "text": [
      "Creating Endpoint\n",
      "Create Endpoint backing LRO: projects/1026793852137/locations/us-central1/endpoints/319355351310794752/operations/795429936084025344\n",
      "Endpoint created. Resource name: projects/1026793852137/locations/us-central1/endpoints/319355351310794752\n",
      "To use this Endpoint in another session:\n",
      "endpoint = aiplatform.Endpoint('projects/1026793852137/locations/us-central1/endpoints/319355351310794752')\n",
      "Endpoint Created: projects/1026793852137/locations/us-central1/endpoints/319355351310794752\n",
      "Review the Endpoint in the Console:\n",
      "https://console.cloud.google.com/vertex-ai/locations/us-central1/endpoints/319355351310794752?project=statmike-mlops-349915\n"
     ]
    }
   ],
   "source": [
    "endpoints = aiplatform.Endpoint.list(filter = f\"labels.series={SERIES}\")\n",
    "if endpoints:\n",
    "    endpoint = endpoints[0]\n",
    "    print(f\"Endpoint Exists: {endpoints[0].resource_name}\")\n",
    "else:\n",
    "    endpoint = aiplatform.Endpoint.create(\n",
    "        display_name = f\"{SERIES}\",\n",
    "        labels = {'series' : f\"{SERIES}\"}    \n",
    "    )\n",
    "    print(f\"Endpoint Created: {endpoint.resource_name}\")\n",
    "    \n",
    "print(f'Review the Endpoint in the Console:\\nhttps://console.cloud.google.com/vertex-ai/locations/{REGION}/endpoints/{endpoint.name}?project={PROJECT_ID}')"
   ]
  },
  {
   "cell_type": "code",
   "execution_count": 26,
   "id": "d4d17e18-6e97-45b8-9d2b-b6cdd225bbb9",
   "metadata": {},
   "outputs": [
    {
     "data": {
      "text/plain": [
       "'05'"
      ]
     },
     "execution_count": 26,
     "metadata": {},
     "output_type": "execute_result"
    }
   ],
   "source": [
    "endpoint.display_name"
   ]
  },
  {
   "cell_type": "code",
   "execution_count": 27,
   "id": "ff0f30f4-8f1c-461e-8eb7-9f65fe3c92ed",
   "metadata": {},
   "outputs": [
    {
     "data": {
      "text/plain": [
       "{}"
      ]
     },
     "execution_count": 27,
     "metadata": {},
     "output_type": "execute_result"
    }
   ],
   "source": [
    "endpoint.traffic_split"
   ]
  },
  {
   "cell_type": "code",
   "execution_count": 28,
   "id": "8dc4eda2-ec6d-406b-b956-96e8ce61355e",
   "metadata": {},
   "outputs": [
    {
     "data": {
      "text/plain": [
       "[]"
      ]
     },
     "execution_count": 28,
     "metadata": {},
     "output_type": "execute_result"
    }
   ],
   "source": [
    "deployed_models = endpoint.list_models()\n",
    "[(d.display_name, d.model_version_id) for d in deployed_models]"
   ]
  },
  {
   "cell_type": "markdown",
   "id": "6bc14e74-fcd4-40a6-a73b-c4ad6f9bd48c",
   "metadata": {},
   "source": [
    "---\n",
    "## Deploy Model To Endpoint"
   ]
  },
  {
   "cell_type": "code",
   "execution_count": 29,
   "id": "245a8beb-a6eb-4b43-a633-d79a54a08b03",
   "metadata": {},
   "outputs": [
    {
     "name": "stdout",
     "output_type": "stream",
     "text": [
      "Deploying model with 100% of traffic...\n",
      "Deploying Model projects/1026793852137/locations/us-central1/models/model_05_triton to Endpoint : projects/1026793852137/locations/us-central1/endpoints/319355351310794752\n",
      "Deploy Endpoint model backing LRO: projects/1026793852137/locations/us-central1/endpoints/319355351310794752/operations/8384276783180021760\n",
      "Endpoint model deployed. Resource name: projects/1026793852137/locations/us-central1/endpoints/319355351310794752\n"
     ]
    }
   ],
   "source": [
    "if (model.display_name, model.version_id) not in [(d.display_name, d.model_version_id) for d in deployed_models]:\n",
    "    print(f'Deploying model with 100% of traffic...')\n",
    "    endpoint.deploy(\n",
    "        model = model,\n",
    "        deployed_model_display_name = model.display_name,\n",
    "        traffic_percentage = 100,\n",
    "        machine_type = DEPLOY_COMPUTE,\n",
    "        min_replica_count = 1,\n",
    "        max_replica_count = 2,\n",
    "        #service_account = SERVICE_ACCOUNT\n",
    "    )\n",
    "else:\n",
    "    print(f'Not deploying because model = {model.display_name} with version {model.version_id} is already on endpoint = {endpoint.display_name}')"
   ]
  },
  {
   "cell_type": "markdown",
   "id": "46a858b2-9dad-4bdc-a4e7-2a83d57b7308",
   "metadata": {},
   "source": [
    "### Remove Deployed Models without Traffic"
   ]
  },
  {
   "cell_type": "code",
   "execution_count": 30,
   "id": "3c69bd9e-af62-47a7-95a6-c2aa0d987d2b",
   "metadata": {},
   "outputs": [
    {
     "name": "stdout",
     "output_type": "stream",
     "text": [
      "Model 05_triton with version 1 has traffic = 100\n"
     ]
    }
   ],
   "source": [
    "for deployed_model in endpoint.list_models():\n",
    "    if deployed_model.id in endpoint.traffic_split:\n",
    "        print(f\"Model {deployed_model.display_name} with version {deployed_model.model_version_id} has traffic = {endpoint.traffic_split[deployed_model.id]}\")\n",
    "    else:\n",
    "        endpoint.undeploy(deployed_model_id = deployed_model.id)\n",
    "        print(f\"Undeploying {deployed_model.display_name} with version {deployed_model.model_version_id} because it has no traffic.\")"
   ]
  },
  {
   "cell_type": "code",
   "execution_count": 31,
   "id": "ab00d5fe-9535-4137-a2f1-41f8d2ae0056",
   "metadata": {},
   "outputs": [
    {
     "data": {
      "text/plain": [
       "{'7897814012547563520': 100}"
      ]
     },
     "execution_count": 31,
     "metadata": {},
     "output_type": "execute_result"
    }
   ],
   "source": [
    "endpoint.traffic_split"
   ]
  },
  {
   "cell_type": "code",
   "execution_count": 32,
   "id": "eb77bc4f-ad61-4725-b193-b521b67a66fa",
   "metadata": {},
   "outputs": [
    {
     "data": {
      "text/plain": [
       "['05_triton']"
      ]
     },
     "execution_count": 32,
     "metadata": {},
     "output_type": "execute_result"
    }
   ],
   "source": [
    "[d.display_name for d in endpoint.list_models()]"
   ]
  },
  {
   "cell_type": "markdown",
   "id": "5335ab74-67a2-4370-b83a-a6268d84213b",
   "metadata": {},
   "source": [
    "---\n",
    "## Prepare a record for prediction: instance and parameters lists"
   ]
  },
  {
   "cell_type": "code",
   "execution_count": 33,
   "id": "f95dd4f0-f7d7-4138-ac6c-ce8d859843c2",
   "metadata": {},
   "outputs": [],
   "source": [
    "n = 10\n",
    "pred = bq.query(\n",
    "    query = f\"\"\"\n",
    "        SELECT * EXCEPT(splits, {VAR_TARGET}, {VAR_OMIT})\n",
    "        FROM {BQ_PROJECT}.{BQ_DATASET}.{BQ_TABLE}\n",
    "        WHERE splits='TEST'\n",
    "        LIMIT {n}\n",
    "        \"\"\"\n",
    ").to_dataframe()"
   ]
  },
  {
   "cell_type": "code",
   "execution_count": 34,
   "id": "d3a7aa6b-efc7-43b6-8059-7a1cccab4fbb",
   "metadata": {},
   "outputs": [
    {
     "data": {
      "text/html": [
       "<div>\n",
       "<style scoped>\n",
       "    .dataframe tbody tr th:only-of-type {\n",
       "        vertical-align: middle;\n",
       "    }\n",
       "\n",
       "    .dataframe tbody tr th {\n",
       "        vertical-align: top;\n",
       "    }\n",
       "\n",
       "    .dataframe thead th {\n",
       "        text-align: right;\n",
       "    }\n",
       "</style>\n",
       "<table border=\"1\" class=\"dataframe\">\n",
       "  <thead>\n",
       "    <tr style=\"text-align: right;\">\n",
       "      <th></th>\n",
       "      <th>Time</th>\n",
       "      <th>V1</th>\n",
       "      <th>V2</th>\n",
       "      <th>V3</th>\n",
       "      <th>V4</th>\n",
       "      <th>V5</th>\n",
       "      <th>V6</th>\n",
       "      <th>V7</th>\n",
       "      <th>V8</th>\n",
       "      <th>V9</th>\n",
       "      <th>...</th>\n",
       "      <th>V20</th>\n",
       "      <th>V21</th>\n",
       "      <th>V22</th>\n",
       "      <th>V23</th>\n",
       "      <th>V24</th>\n",
       "      <th>V25</th>\n",
       "      <th>V26</th>\n",
       "      <th>V27</th>\n",
       "      <th>V28</th>\n",
       "      <th>Amount</th>\n",
       "    </tr>\n",
       "  </thead>\n",
       "  <tbody>\n",
       "    <tr>\n",
       "      <th>0</th>\n",
       "      <td>35337</td>\n",
       "      <td>1.092844</td>\n",
       "      <td>-0.013230</td>\n",
       "      <td>1.359829</td>\n",
       "      <td>2.731537</td>\n",
       "      <td>-0.707357</td>\n",
       "      <td>0.873837</td>\n",
       "      <td>-0.796130</td>\n",
       "      <td>0.437707</td>\n",
       "      <td>0.396770</td>\n",
       "      <td>...</td>\n",
       "      <td>-0.240428</td>\n",
       "      <td>0.037603</td>\n",
       "      <td>0.380026</td>\n",
       "      <td>-0.167647</td>\n",
       "      <td>0.027557</td>\n",
       "      <td>0.592115</td>\n",
       "      <td>0.219695</td>\n",
       "      <td>0.036970</td>\n",
       "      <td>0.010984</td>\n",
       "      <td>0.0</td>\n",
       "    </tr>\n",
       "    <tr>\n",
       "      <th>1</th>\n",
       "      <td>60481</td>\n",
       "      <td>1.238973</td>\n",
       "      <td>0.035226</td>\n",
       "      <td>0.063003</td>\n",
       "      <td>0.641406</td>\n",
       "      <td>-0.260893</td>\n",
       "      <td>-0.580097</td>\n",
       "      <td>0.049938</td>\n",
       "      <td>-0.034733</td>\n",
       "      <td>0.405932</td>\n",
       "      <td>...</td>\n",
       "      <td>-0.265080</td>\n",
       "      <td>-0.060003</td>\n",
       "      <td>-0.053585</td>\n",
       "      <td>-0.057718</td>\n",
       "      <td>0.104983</td>\n",
       "      <td>0.537987</td>\n",
       "      <td>0.589563</td>\n",
       "      <td>-0.046207</td>\n",
       "      <td>-0.006212</td>\n",
       "      <td>0.0</td>\n",
       "    </tr>\n",
       "    <tr>\n",
       "      <th>2</th>\n",
       "      <td>139587</td>\n",
       "      <td>1.870539</td>\n",
       "      <td>0.211079</td>\n",
       "      <td>0.224457</td>\n",
       "      <td>3.889486</td>\n",
       "      <td>-0.380177</td>\n",
       "      <td>0.249799</td>\n",
       "      <td>-0.577133</td>\n",
       "      <td>0.179189</td>\n",
       "      <td>-0.120462</td>\n",
       "      <td>...</td>\n",
       "      <td>-0.374356</td>\n",
       "      <td>0.196006</td>\n",
       "      <td>0.656552</td>\n",
       "      <td>0.180776</td>\n",
       "      <td>-0.060226</td>\n",
       "      <td>-0.228979</td>\n",
       "      <td>0.080827</td>\n",
       "      <td>0.009868</td>\n",
       "      <td>-0.036997</td>\n",
       "      <td>0.0</td>\n",
       "    </tr>\n",
       "    <tr>\n",
       "      <th>3</th>\n",
       "      <td>162908</td>\n",
       "      <td>-3.368339</td>\n",
       "      <td>-1.980442</td>\n",
       "      <td>0.153645</td>\n",
       "      <td>-0.159795</td>\n",
       "      <td>3.847169</td>\n",
       "      <td>-3.516873</td>\n",
       "      <td>-1.209398</td>\n",
       "      <td>-0.292122</td>\n",
       "      <td>0.760543</td>\n",
       "      <td>...</td>\n",
       "      <td>-0.923275</td>\n",
       "      <td>-0.545992</td>\n",
       "      <td>-0.252324</td>\n",
       "      <td>-1.171627</td>\n",
       "      <td>0.214333</td>\n",
       "      <td>-0.159652</td>\n",
       "      <td>-0.060883</td>\n",
       "      <td>1.294977</td>\n",
       "      <td>0.120503</td>\n",
       "      <td>0.0</td>\n",
       "    </tr>\n",
       "    <tr>\n",
       "      <th>4</th>\n",
       "      <td>165236</td>\n",
       "      <td>2.180149</td>\n",
       "      <td>0.218732</td>\n",
       "      <td>-2.637726</td>\n",
       "      <td>0.348776</td>\n",
       "      <td>1.063546</td>\n",
       "      <td>-1.249197</td>\n",
       "      <td>0.942021</td>\n",
       "      <td>-0.547652</td>\n",
       "      <td>-0.087823</td>\n",
       "      <td>...</td>\n",
       "      <td>-0.250653</td>\n",
       "      <td>0.234502</td>\n",
       "      <td>0.825237</td>\n",
       "      <td>-0.176957</td>\n",
       "      <td>0.563779</td>\n",
       "      <td>0.730183</td>\n",
       "      <td>0.707494</td>\n",
       "      <td>-0.131066</td>\n",
       "      <td>-0.090428</td>\n",
       "      <td>0.0</td>\n",
       "    </tr>\n",
       "    <tr>\n",
       "      <th>5</th>\n",
       "      <td>62606</td>\n",
       "      <td>1.199408</td>\n",
       "      <td>0.352007</td>\n",
       "      <td>0.379645</td>\n",
       "      <td>1.372017</td>\n",
       "      <td>0.291347</td>\n",
       "      <td>0.524919</td>\n",
       "      <td>-0.117555</td>\n",
       "      <td>0.132907</td>\n",
       "      <td>-0.935169</td>\n",
       "      <td>...</td>\n",
       "      <td>-0.042979</td>\n",
       "      <td>-0.050291</td>\n",
       "      <td>-0.126609</td>\n",
       "      <td>-0.022218</td>\n",
       "      <td>-0.599026</td>\n",
       "      <td>0.258188</td>\n",
       "      <td>0.928721</td>\n",
       "      <td>-0.058988</td>\n",
       "      <td>-0.008856</td>\n",
       "      <td>0.0</td>\n",
       "    </tr>\n",
       "    <tr>\n",
       "      <th>6</th>\n",
       "      <td>90719</td>\n",
       "      <td>1.937447</td>\n",
       "      <td>0.337882</td>\n",
       "      <td>-0.000630</td>\n",
       "      <td>3.816486</td>\n",
       "      <td>0.276515</td>\n",
       "      <td>1.079842</td>\n",
       "      <td>-0.730626</td>\n",
       "      <td>0.197353</td>\n",
       "      <td>1.137566</td>\n",
       "      <td>...</td>\n",
       "      <td>-0.315667</td>\n",
       "      <td>-0.038376</td>\n",
       "      <td>0.208914</td>\n",
       "      <td>0.160189</td>\n",
       "      <td>-0.015145</td>\n",
       "      <td>-0.162678</td>\n",
       "      <td>-0.000843</td>\n",
       "      <td>-0.018178</td>\n",
       "      <td>-0.039339</td>\n",
       "      <td>0.0</td>\n",
       "    </tr>\n",
       "    <tr>\n",
       "      <th>7</th>\n",
       "      <td>113350</td>\n",
       "      <td>1.891900</td>\n",
       "      <td>0.401086</td>\n",
       "      <td>-0.119983</td>\n",
       "      <td>4.047500</td>\n",
       "      <td>0.049952</td>\n",
       "      <td>0.192793</td>\n",
       "      <td>-0.108512</td>\n",
       "      <td>-0.040400</td>\n",
       "      <td>-0.390391</td>\n",
       "      <td>...</td>\n",
       "      <td>-0.267639</td>\n",
       "      <td>0.094177</td>\n",
       "      <td>0.613712</td>\n",
       "      <td>0.070986</td>\n",
       "      <td>0.079543</td>\n",
       "      <td>0.135219</td>\n",
       "      <td>0.128961</td>\n",
       "      <td>0.003667</td>\n",
       "      <td>-0.045079</td>\n",
       "      <td>0.0</td>\n",
       "    </tr>\n",
       "    <tr>\n",
       "      <th>8</th>\n",
       "      <td>156499</td>\n",
       "      <td>0.060003</td>\n",
       "      <td>1.461355</td>\n",
       "      <td>0.378915</td>\n",
       "      <td>2.835455</td>\n",
       "      <td>1.626526</td>\n",
       "      <td>-0.164732</td>\n",
       "      <td>1.551858</td>\n",
       "      <td>-0.412927</td>\n",
       "      <td>-1.735264</td>\n",
       "      <td>...</td>\n",
       "      <td>-0.175275</td>\n",
       "      <td>0.042293</td>\n",
       "      <td>0.277536</td>\n",
       "      <td>-0.123379</td>\n",
       "      <td>1.081552</td>\n",
       "      <td>-0.053079</td>\n",
       "      <td>-0.149809</td>\n",
       "      <td>-0.314438</td>\n",
       "      <td>-0.216539</td>\n",
       "      <td>0.0</td>\n",
       "    </tr>\n",
       "    <tr>\n",
       "      <th>9</th>\n",
       "      <td>73902</td>\n",
       "      <td>-1.859260</td>\n",
       "      <td>2.158799</td>\n",
       "      <td>1.085671</td>\n",
       "      <td>2.615483</td>\n",
       "      <td>0.246660</td>\n",
       "      <td>2.133925</td>\n",
       "      <td>-1.569015</td>\n",
       "      <td>-2.612353</td>\n",
       "      <td>-1.312509</td>\n",
       "      <td>...</td>\n",
       "      <td>0.590142</td>\n",
       "      <td>-0.867178</td>\n",
       "      <td>-0.700479</td>\n",
       "      <td>0.231972</td>\n",
       "      <td>-1.374527</td>\n",
       "      <td>0.140285</td>\n",
       "      <td>0.128806</td>\n",
       "      <td>0.153606</td>\n",
       "      <td>0.092042</td>\n",
       "      <td>0.0</td>\n",
       "    </tr>\n",
       "  </tbody>\n",
       "</table>\n",
       "<p>10 rows × 30 columns</p>\n",
       "</div>"
      ],
      "text/plain": [
       "     Time        V1        V2        V3        V4        V5        V6  \\\n",
       "0   35337  1.092844 -0.013230  1.359829  2.731537 -0.707357  0.873837   \n",
       "1   60481  1.238973  0.035226  0.063003  0.641406 -0.260893 -0.580097   \n",
       "2  139587  1.870539  0.211079  0.224457  3.889486 -0.380177  0.249799   \n",
       "3  162908 -3.368339 -1.980442  0.153645 -0.159795  3.847169 -3.516873   \n",
       "4  165236  2.180149  0.218732 -2.637726  0.348776  1.063546 -1.249197   \n",
       "5   62606  1.199408  0.352007  0.379645  1.372017  0.291347  0.524919   \n",
       "6   90719  1.937447  0.337882 -0.000630  3.816486  0.276515  1.079842   \n",
       "7  113350  1.891900  0.401086 -0.119983  4.047500  0.049952  0.192793   \n",
       "8  156499  0.060003  1.461355  0.378915  2.835455  1.626526 -0.164732   \n",
       "9   73902 -1.859260  2.158799  1.085671  2.615483  0.246660  2.133925   \n",
       "\n",
       "         V7        V8        V9  ...       V20       V21       V22       V23  \\\n",
       "0 -0.796130  0.437707  0.396770  ... -0.240428  0.037603  0.380026 -0.167647   \n",
       "1  0.049938 -0.034733  0.405932  ... -0.265080 -0.060003 -0.053585 -0.057718   \n",
       "2 -0.577133  0.179189 -0.120462  ... -0.374356  0.196006  0.656552  0.180776   \n",
       "3 -1.209398 -0.292122  0.760543  ... -0.923275 -0.545992 -0.252324 -1.171627   \n",
       "4  0.942021 -0.547652 -0.087823  ... -0.250653  0.234502  0.825237 -0.176957   \n",
       "5 -0.117555  0.132907 -0.935169  ... -0.042979 -0.050291 -0.126609 -0.022218   \n",
       "6 -0.730626  0.197353  1.137566  ... -0.315667 -0.038376  0.208914  0.160189   \n",
       "7 -0.108512 -0.040400 -0.390391  ... -0.267639  0.094177  0.613712  0.070986   \n",
       "8  1.551858 -0.412927 -1.735264  ... -0.175275  0.042293  0.277536 -0.123379   \n",
       "9 -1.569015 -2.612353 -1.312509  ...  0.590142 -0.867178 -0.700479  0.231972   \n",
       "\n",
       "        V24       V25       V26       V27       V28  Amount  \n",
       "0  0.027557  0.592115  0.219695  0.036970  0.010984     0.0  \n",
       "1  0.104983  0.537987  0.589563 -0.046207 -0.006212     0.0  \n",
       "2 -0.060226 -0.228979  0.080827  0.009868 -0.036997     0.0  \n",
       "3  0.214333 -0.159652 -0.060883  1.294977  0.120503     0.0  \n",
       "4  0.563779  0.730183  0.707494 -0.131066 -0.090428     0.0  \n",
       "5 -0.599026  0.258188  0.928721 -0.058988 -0.008856     0.0  \n",
       "6 -0.015145 -0.162678 -0.000843 -0.018178 -0.039339     0.0  \n",
       "7  0.079543  0.135219  0.128961  0.003667 -0.045079     0.0  \n",
       "8  1.081552 -0.053079 -0.149809 -0.314438 -0.216539     0.0  \n",
       "9 -1.374527  0.140285  0.128806  0.153606  0.092042     0.0  \n",
       "\n",
       "[10 rows x 30 columns]"
      ]
     },
     "execution_count": 34,
     "metadata": {},
     "output_type": "execute_result"
    }
   ],
   "source": [
    "pred"
   ]
  },
  {
   "cell_type": "code",
   "execution_count": 35,
   "id": "dd162d53-49a7-4859-a119-1f0fc16c610a",
   "metadata": {},
   "outputs": [],
   "source": [
    "newobs = pred.to_dict(orient='records')\n",
    "#newobs[0]"
   ]
  },
  {
   "cell_type": "code",
   "execution_count": 36,
   "id": "e2b3304b-bcdc-452d-90ca-a7de960c33f7",
   "metadata": {},
   "outputs": [
    {
     "data": {
      "text/plain": [
       "{'Time': 35337,\n",
       " 'V1': 1.0928441854981998,\n",
       " 'V2': -0.0132303486713432,\n",
       " 'V3': 1.35982868199426,\n",
       " 'V4': 2.7315370965921004,\n",
       " 'V5': -0.707357349219652,\n",
       " 'V6': 0.8738370029866129,\n",
       " 'V7': -0.7961301510622031,\n",
       " 'V8': 0.437706509544851,\n",
       " 'V9': 0.39676985012996396,\n",
       " 'V10': 0.587438102569443,\n",
       " 'V11': -0.14979756231827498,\n",
       " 'V12': 0.29514781622888103,\n",
       " 'V13': -1.30382621882143,\n",
       " 'V14': -0.31782283120234495,\n",
       " 'V15': -2.03673231037199,\n",
       " 'V16': 0.376090905274179,\n",
       " 'V17': -0.30040350116459497,\n",
       " 'V18': 0.433799615590844,\n",
       " 'V19': -0.145082264348681,\n",
       " 'V20': -0.240427548108996,\n",
       " 'V21': 0.0376030733329398,\n",
       " 'V22': 0.38002620963091405,\n",
       " 'V23': -0.16764742731151097,\n",
       " 'V24': 0.0275573495476881,\n",
       " 'V25': 0.59211469704354,\n",
       " 'V26': 0.219695164116351,\n",
       " 'V27': 0.0369695108704894,\n",
       " 'V28': 0.010984441006191,\n",
       " 'Amount': 0.0}"
      ]
     },
     "execution_count": 36,
     "metadata": {},
     "output_type": "execute_result"
    }
   ],
   "source": [
    "newobs[0]"
   ]
  },
  {
   "cell_type": "code",
   "execution_count": 37,
   "id": "d21d08d9-28a3-4403-a7d7-3a2803423c86",
   "metadata": {},
   "outputs": [
    {
     "data": {
      "text/plain": [
       "[{'name': 'Time', 'data': 35337, 'datatype': 'FP32', 'shape': [1, 1]},\n",
       " {'name': 'V1',\n",
       "  'data': 1.0928441854981998,\n",
       "  'datatype': 'FP32',\n",
       "  'shape': [1, 1]},\n",
       " {'name': 'V2',\n",
       "  'data': -0.0132303486713432,\n",
       "  'datatype': 'FP32',\n",
       "  'shape': [1, 1]},\n",
       " {'name': 'V3', 'data': 1.35982868199426, 'datatype': 'FP32', 'shape': [1, 1]},\n",
       " {'name': 'V4',\n",
       "  'data': 2.7315370965921004,\n",
       "  'datatype': 'FP32',\n",
       "  'shape': [1, 1]},\n",
       " {'name': 'V5',\n",
       "  'data': -0.707357349219652,\n",
       "  'datatype': 'FP32',\n",
       "  'shape': [1, 1]},\n",
       " {'name': 'V6',\n",
       "  'data': 0.8738370029866129,\n",
       "  'datatype': 'FP32',\n",
       "  'shape': [1, 1]},\n",
       " {'name': 'V7',\n",
       "  'data': -0.7961301510622031,\n",
       "  'datatype': 'FP32',\n",
       "  'shape': [1, 1]},\n",
       " {'name': 'V8',\n",
       "  'data': 0.437706509544851,\n",
       "  'datatype': 'FP32',\n",
       "  'shape': [1, 1]},\n",
       " {'name': 'V9',\n",
       "  'data': 0.39676985012996396,\n",
       "  'datatype': 'FP32',\n",
       "  'shape': [1, 1]},\n",
       " {'name': 'V10',\n",
       "  'data': 0.587438102569443,\n",
       "  'datatype': 'FP32',\n",
       "  'shape': [1, 1]},\n",
       " {'name': 'V11',\n",
       "  'data': -0.14979756231827498,\n",
       "  'datatype': 'FP32',\n",
       "  'shape': [1, 1]},\n",
       " {'name': 'V12',\n",
       "  'data': 0.29514781622888103,\n",
       "  'datatype': 'FP32',\n",
       "  'shape': [1, 1]},\n",
       " {'name': 'V13',\n",
       "  'data': -1.30382621882143,\n",
       "  'datatype': 'FP32',\n",
       "  'shape': [1, 1]},\n",
       " {'name': 'V14',\n",
       "  'data': -0.31782283120234495,\n",
       "  'datatype': 'FP32',\n",
       "  'shape': [1, 1]},\n",
       " {'name': 'V15',\n",
       "  'data': -2.03673231037199,\n",
       "  'datatype': 'FP32',\n",
       "  'shape': [1, 1]},\n",
       " {'name': 'V16',\n",
       "  'data': 0.376090905274179,\n",
       "  'datatype': 'FP32',\n",
       "  'shape': [1, 1]},\n",
       " {'name': 'V17',\n",
       "  'data': -0.30040350116459497,\n",
       "  'datatype': 'FP32',\n",
       "  'shape': [1, 1]},\n",
       " {'name': 'V18',\n",
       "  'data': 0.433799615590844,\n",
       "  'datatype': 'FP32',\n",
       "  'shape': [1, 1]},\n",
       " {'name': 'V19',\n",
       "  'data': -0.145082264348681,\n",
       "  'datatype': 'FP32',\n",
       "  'shape': [1, 1]},\n",
       " {'name': 'V20',\n",
       "  'data': -0.240427548108996,\n",
       "  'datatype': 'FP32',\n",
       "  'shape': [1, 1]},\n",
       " {'name': 'V21',\n",
       "  'data': 0.0376030733329398,\n",
       "  'datatype': 'FP32',\n",
       "  'shape': [1, 1]},\n",
       " {'name': 'V22',\n",
       "  'data': 0.38002620963091405,\n",
       "  'datatype': 'FP32',\n",
       "  'shape': [1, 1]},\n",
       " {'name': 'V23',\n",
       "  'data': -0.16764742731151097,\n",
       "  'datatype': 'FP32',\n",
       "  'shape': [1, 1]},\n",
       " {'name': 'V24',\n",
       "  'data': 0.0275573495476881,\n",
       "  'datatype': 'FP32',\n",
       "  'shape': [1, 1]},\n",
       " {'name': 'V25',\n",
       "  'data': 0.59211469704354,\n",
       "  'datatype': 'FP32',\n",
       "  'shape': [1, 1]},\n",
       " {'name': 'V26',\n",
       "  'data': 0.219695164116351,\n",
       "  'datatype': 'FP32',\n",
       "  'shape': [1, 1]},\n",
       " {'name': 'V27',\n",
       "  'data': 0.0369695108704894,\n",
       "  'datatype': 'FP32',\n",
       "  'shape': [1, 1]},\n",
       " {'name': 'V28',\n",
       "  'data': 0.010984441006191,\n",
       "  'datatype': 'FP32',\n",
       "  'shape': [1, 1]},\n",
       " {'name': 'Amount', 'data': 0.0, 'datatype': 'FP32', 'shape': [1, 1]}]"
      ]
     },
     "execution_count": 37,
     "metadata": {},
     "output_type": "execute_result"
    }
   ],
   "source": [
    "[{\"name\": key, \"data\": newobs[0][key], \"datatype\": \"FP32\", \"shape\": [1,1]} for key in newobs[0]]"
   ]
  },
  {
   "cell_type": "markdown",
   "id": "010b0bbd-c318-4ea0-859b-2b7c257954b6",
   "metadata": {},
   "source": [
    "---"
   ]
  },
  {
   "cell_type": "code",
   "execution_count": 64,
   "id": "59e3122d-f2e5-4162-9b94-0ece6ff9605e",
   "metadata": {},
   "outputs": [],
   "source": [
    "client_options = {\"api_endpoint\": f\"{REGION}-aiplatform.googleapis.com\"}"
   ]
  },
  {
   "cell_type": "code",
   "execution_count": 65,
   "id": "913c9d32-a66a-4af4-9164-4b73da4770e7",
   "metadata": {},
   "outputs": [],
   "source": [
    "predictor = aiplatform.gapic.PredictionServiceClient(client_options = client_options)"
   ]
  },
  {
   "cell_type": "code",
   "execution_count": 66,
   "id": "45460a7d-9833-4f28-8aa3-8a54ec622f23",
   "metadata": {},
   "outputs": [
    {
     "data": {
      "text/plain": [
       "'projects/1026793852137/locations/us-central1/endpoints/319355351310794752'"
      ]
     },
     "execution_count": 66,
     "metadata": {},
     "output_type": "execute_result"
    }
   ],
   "source": [
    "endpoint.resource_name"
   ]
  },
  {
   "cell_type": "code",
   "execution_count": 67,
   "id": "f394062a-9e15-4834-aaef-1c7e00407adf",
   "metadata": {},
   "outputs": [],
   "source": [
    "instances = {\"id\": \"1\", \"model_name\": \"model_05_05f\", \"model_version\": \"1\", \"inputs\": [{\"name\": key, \"data\": [newobs[0][key]], \"datatype\": \"FP32\", \"shape\": [1,1]} for key in newobs[0]]}\n",
    "http_body = httpbody_pb2.HttpBody(\n",
    "        data = json.dumps(instances).encode(\"utf-8\"),\n",
    "        content_type = \"application/json\"\n",
    "    )\n",
    "request = aiplatform.gapic.RawPredictRequest(\n",
    "    endpoint = endpoint.resource_name,\n",
    "    http_body = http_body\n",
    ")"
   ]
  },
  {
   "cell_type": "code",
   "execution_count": 68,
   "id": "b7031087-4086-41a1-8c26-f6ccef391e33",
   "metadata": {},
   "outputs": [],
   "source": [
    "response = predictor.raw_predict(\n",
    "    request = request\n",
    ")"
   ]
  },
  {
   "cell_type": "code",
   "execution_count": 69,
   "id": "900de17d-85f0-413d-97f1-e4c8eea1b78b",
   "metadata": {},
   "outputs": [
    {
     "data": {
      "text/plain": [
       "{'id': '1',\n",
       " 'model_name': 'model_05_05f',\n",
       " 'model_version': '12',\n",
       " 'outputs': [{'name': 'logistic',\n",
       "   'datatype': 'FP32',\n",
       "   'shape': [1, 2],\n",
       "   'data': [0.9997530579566956, 0.00024691224098205566]}]}"
      ]
     },
     "execution_count": 69,
     "metadata": {},
     "output_type": "execute_result"
    }
   ],
   "source": [
    "json.loads(response.data)"
   ]
  },
  {
   "cell_type": "markdown",
   "id": "84275802-9ce1-4c8b-8139-4e4ccc638fb7",
   "metadata": {},
   "source": [
    "---"
   ]
  },
  {
   "cell_type": "code",
   "execution_count": 55,
   "id": "a6cad770-ef6b-40d9-ba69-bbd070443ef5",
   "metadata": {},
   "outputs": [],
   "source": [
    "import requests"
   ]
  },
  {
   "cell_type": "code",
   "execution_count": 71,
   "id": "3a0638b1-3eb2-4902-a3f8-c005e8b218eb",
   "metadata": {},
   "outputs": [],
   "source": [
    "token = !gcloud auth application-default print-access-token\n",
    "headers = {\n",
    "    \"content-type\": \"application/json; charset=utf-8\",\n",
    "    \"Authorization\": f'Bearer {token[0]}'\n",
    "}"
   ]
  },
  {
   "cell_type": "code",
   "execution_count": 72,
   "id": "8582e5aa-42da-47f8-ab39-0c2a38a88534",
   "metadata": {},
   "outputs": [],
   "source": [
    "json_response = requests.post(\n",
    "    f'https://{REGION}-aiplatform.googleapis.com/v1/{endpoint.resource_name}:rawPredict',\n",
    "    data=json.dumps(instances),\n",
    "    headers=headers\n",
    ")"
   ]
  },
  {
   "cell_type": "code",
   "execution_count": 73,
   "id": "45da3bdd-269b-4a2a-85b8-4579b6aaafd3",
   "metadata": {},
   "outputs": [
    {
     "data": {
      "text/plain": [
       "<Response [200]>"
      ]
     },
     "execution_count": 73,
     "metadata": {},
     "output_type": "execute_result"
    }
   ],
   "source": [
    "json_response"
   ]
  },
  {
   "cell_type": "code",
   "execution_count": 74,
   "id": "204fae0f-3e50-4fe4-a587-ff1f74f931df",
   "metadata": {},
   "outputs": [
    {
     "data": {
      "text/plain": [
       "{'id': '1',\n",
       " 'model_name': 'model_05_05f',\n",
       " 'model_version': '12',\n",
       " 'outputs': [{'name': 'logistic',\n",
       "   'datatype': 'FP32',\n",
       "   'shape': [1, 2],\n",
       "   'data': [0.9997530579566956, 0.00024691224098205566]}]}"
      ]
     },
     "execution_count": 74,
     "metadata": {},
     "output_type": "execute_result"
    }
   ],
   "source": [
    "json.loads(json_response.text)"
   ]
  },
  {
   "cell_type": "markdown",
   "id": "c0b4c1f5-465e-46de-a9c1-ef253cd8f0e3",
   "metadata": {},
   "source": [
    "Change the Version:"
   ]
  },
  {
   "cell_type": "code",
   "execution_count": 75,
   "id": "2db55d03-3306-4760-a987-724420675e9e",
   "metadata": {},
   "outputs": [
    {
     "data": {
      "text/plain": [
       "{'error': \"Request for unknown model: 'model_05_05f' version 11 is not found\"}"
      ]
     },
     "execution_count": 75,
     "metadata": {},
     "output_type": "execute_result"
    }
   ],
   "source": [
    "headers = {\n",
    "    \"content-type\": \"application/json; charset=utf-8\",\n",
    "    \"X-Vertex-Ai-Triton-Redirect\": \"v2/models/model_05_05f/versions/11/infer\",\n",
    "    \"Authorization\": f'Bearer {token[0]}'\n",
    "}\n",
    "json_response = requests.post(\n",
    "    f'https://{REGION}-aiplatform.googleapis.com/v1/{endpoint.resource_name}:rawPredict',\n",
    "    data=json.dumps(instances),\n",
    "    headers=headers\n",
    ")\n",
    "json.loads(json_response.text)"
   ]
  },
  {
   "cell_type": "code",
   "execution_count": null,
   "id": "8538d6e7-0826-414f-9bb5-5f388dae06f7",
   "metadata": {},
   "outputs": [],
   "source": []
  },
  {
   "cell_type": "code",
   "execution_count": null,
   "id": "45e0856b-88cd-41b3-b924-7b63aeb8bd99",
   "metadata": {},
   "outputs": [],
   "source": []
  },
  {
   "cell_type": "code",
   "execution_count": 76,
   "id": "ccf99dbd-1f7d-485c-9b8c-17c6d7b972af",
   "metadata": {},
   "outputs": [
    {
     "name": "stdout",
     "output_type": "stream",
     "text": [
      "Undeploying Endpoint model: projects/1026793852137/locations/us-central1/endpoints/319355351310794752\n",
      "Undeploy Endpoint model backing LRO: projects/1026793852137/locations/us-central1/endpoints/319355351310794752/operations/974729496248713216\n",
      "Endpoint model undeployed. Resource name: projects/1026793852137/locations/us-central1/endpoints/319355351310794752\n",
      "Deleting Endpoint : projects/1026793852137/locations/us-central1/endpoints/319355351310794752\n",
      "Delete Endpoint  backing LRO: projects/1026793852137/locations/us-central1/operations/1304336693976891392\n",
      "Endpoint deleted. . Resource name: projects/1026793852137/locations/us-central1/endpoints/319355351310794752\n"
     ]
    }
   ],
   "source": [
    "endpoint.delete(force = True)"
   ]
  },
  {
   "cell_type": "code",
   "execution_count": 77,
   "id": "163600ad-8d71-4abb-aa48-d595bb347434",
   "metadata": {},
   "outputs": [
    {
     "name": "stdout",
     "output_type": "stream",
     "text": [
      "Deleting Model : projects/1026793852137/locations/us-central1/models/model_05_triton\n",
      "Delete Model  backing LRO: projects/1026793852137/locations/us-central1/operations/8982974058643587072\n",
      "Model deleted. . Resource name: projects/1026793852137/locations/us-central1/models/model_05_triton\n"
     ]
    }
   ],
   "source": [
    "model.delete()"
   ]
  },
  {
   "cell_type": "code",
   "execution_count": null,
   "id": "cd0b74aa-8c67-4120-b465-a8192867bf88",
   "metadata": {},
   "outputs": [],
   "source": []
  }
 ],
 "metadata": {
  "environment": {
   "kernel": "python3",
   "name": "tf2-gpu.2-3.m94",
   "type": "gcloud",
   "uri": "gcr.io/deeplearning-platform-release/tf2-gpu.2-3:m94"
  },
  "kernelspec": {
   "display_name": "Python 3",
   "language": "python",
   "name": "python3"
  },
  "language_info": {
   "codemirror_mode": {
    "name": "ipython",
    "version": 3
   },
   "file_extension": ".py",
   "mimetype": "text/x-python",
   "name": "python",
   "nbconvert_exporter": "python",
   "pygments_lexer": "ipython3",
   "version": "3.7.12"
  }
 },
 "nbformat": 4,
 "nbformat_minor": 5
}
