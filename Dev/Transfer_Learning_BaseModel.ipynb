{
 "cells": [
  {
   "cell_type": "code",
   "execution_count": 2,
   "id": "ba4a96ba-2834-4c7b-88c3-898d97c1acc7",
   "metadata": {},
   "outputs": [],
   "source": [
    "import matplotlib.pyplot as plt\n",
    "import numpy as np\n",
    "import os\n",
    "import tensorflow as tf"
   ]
  },
  {
   "cell_type": "code",
   "execution_count": 3,
   "id": "79739059-12e2-42f8-83e1-2032d56b1526",
   "metadata": {},
   "outputs": [
    {
     "name": "stdout",
     "output_type": "stream",
     "text": [
      "Defect\tPass\n"
     ]
    }
   ],
   "source": [
    "!ls gcs/dc-image-datasets-us-central1/synthetic_train"
   ]
  },
  {
   "cell_type": "code",
   "execution_count": 4,
   "id": "8ea566d5-065c-4959-8338-c2f64c22af7f",
   "metadata": {},
   "outputs": [],
   "source": [
    "train_dir = os.path.join(f'gcs/dc-image-datasets-us-central1', 'synthetic_train')\n",
    "validation_dir = os.path.join(f'gcs/dc-image-datasets-us-central1', 'synthetic_val')\n",
    "test_dir = os.path.join(f'gcs/dc-image-datasets-us-central1', 'synthetic_test')\n",
    "real_train_dir = os.path.join(f'gcs/dc-image-datasets-us-central1', 'real_train')\n",
    "real_validation_dir = os.path.join(f'gcs/dc-image-datasets-us-central1', 'real_val')\n",
    "real_test_dir = os.path.join(f'gcs/dc-image-datasets-us-central1', 'real_test')"
   ]
  },
  {
   "cell_type": "code",
   "execution_count": 5,
   "id": "ddb9ab92-0a6d-40c8-b16c-3bea98787077",
   "metadata": {},
   "outputs": [],
   "source": [
    "BATCH_SIZE = 32\n",
    "IMG_SIZE = (512, 512) #512 x 512 pixel size is standard for synthetic training data"
   ]
  },
  {
   "cell_type": "code",
   "execution_count": 6,
   "id": "7170fe32-9ede-44d8-881f-43dbd87778f1",
   "metadata": {},
   "outputs": [
    {
     "name": "stdout",
     "output_type": "stream",
     "text": [
      "Found 1600 files belonging to 2 classes.\n"
     ]
    },
    {
     "name": "stderr",
     "output_type": "stream",
     "text": [
      "2022-12-09 16:22:51.012849: W tensorflow/stream_executor/platform/default/dso_loader.cc:64] Could not load dynamic library 'libcuda.so.1'; dlerror: libcuda.so.1: cannot open shared object file: No such file or directory; LD_LIBRARY_PATH: /usr/local/cuda/lib64:/usr/local/nccl2/lib:/usr/local/cuda/extras/CUPTI/lib64\n",
      "2022-12-09 16:22:51.012965: W tensorflow/stream_executor/cuda/cuda_driver.cc:269] failed call to cuInit: UNKNOWN ERROR (303)\n",
      "2022-12-09 16:22:51.012994: I tensorflow/stream_executor/cuda/cuda_diagnostics.cc:156] kernel driver does not appear to be running on this host (transferlearningv1): /proc/driver/nvidia/version does not exist\n",
      "2022-12-09 16:22:51.013697: I tensorflow/core/platform/cpu_feature_guard.cc:151] This TensorFlow binary is optimized with oneAPI Deep Neural Network Library (oneDNN) to use the following CPU instructions in performance-critical operations:  AVX2 FMA\n",
      "To enable them in other operations, rebuild TensorFlow with the appropriate compiler flags.\n"
     ]
    },
    {
     "name": "stdout",
     "output_type": "stream",
     "text": [
      "Found 200 files belonging to 2 classes.\n",
      "Found 200 files belonging to 2 classes.\n",
      "Found 1200 files belonging to 2 classes.\n",
      "Found 200 files belonging to 2 classes.\n",
      "Found 200 files belonging to 2 classes.\n"
     ]
    }
   ],
   "source": [
    "train_dataset = tf.keras.utils.image_dataset_from_directory(train_dir,\n",
    "                                                            shuffle=True,\n",
    "                                                            batch_size=BATCH_SIZE,\n",
    "                                                            image_size=IMG_SIZE)\n",
    "\n",
    "validation_dataset = tf.keras.utils.image_dataset_from_directory(validation_dir,\n",
    "                                                                 shuffle=True,\n",
    "                                                                 batch_size=BATCH_SIZE,\n",
    "                                                                 image_size=IMG_SIZE)\n",
    "\n",
    "test_dataset = tf.keras.utils.image_dataset_from_directory(test_dir,\n",
    "                                                                 shuffle=True,\n",
    "                                                                 batch_size=BATCH_SIZE,\n",
    "                                                                 image_size=IMG_SIZE)\n",
    "\n",
    "real_train_dataset = tf.keras.utils.image_dataset_from_directory(real_train_dir,\n",
    "                                                            shuffle=True,\n",
    "                                                            batch_size=BATCH_SIZE,\n",
    "                                                            image_size=IMG_SIZE)\n",
    "\n",
    "real_validation_dataset = tf.keras.utils.image_dataset_from_directory(real_validation_dir,\n",
    "                                                                 shuffle=True,\n",
    "                                                                 batch_size=BATCH_SIZE,\n",
    "                                                                 image_size=IMG_SIZE)\n",
    "\n",
    "real_test_dataset = tf.keras.utils.image_dataset_from_directory(real_test_dir,\n",
    "                                                                 shuffle=True,\n",
    "                                                                 batch_size=BATCH_SIZE,\n",
    "                                                                 image_size=IMG_SIZE)"
   ]
  },
  {
   "cell_type": "code",
   "execution_count": 7,
   "id": "d5dc8da1-5364-49f6-8529-3bdc8120a596",
   "metadata": {},
   "outputs": [],
   "source": [
    "class_names = train_dataset.class_names"
   ]
  },
  {
   "cell_type": "code",
   "execution_count": 8,
   "id": "f5e29033-4140-44e4-aed0-0ba73926dae9",
   "metadata": {},
   "outputs": [],
   "source": [
    "AUTOTUNE = tf.data.AUTOTUNE\n",
    "\n",
    "train_dataset = train_dataset.prefetch(buffer_size=AUTOTUNE)\n",
    "validation_dataset = validation_dataset.prefetch(buffer_size=AUTOTUNE)\n",
    "test_dataset = test_dataset.prefetch(buffer_size=AUTOTUNE)"
   ]
  },
  {
   "cell_type": "code",
   "execution_count": 9,
   "id": "4dd13e13-56c9-42e8-ac0b-9dd86ba791fe",
   "metadata": {},
   "outputs": [],
   "source": [
    "preprocess_input = tf.keras.applications.mobilenet_v2.preprocess_input"
   ]
  },
  {
   "cell_type": "code",
   "execution_count": 10,
   "id": "5625b7e2-4694-4d1e-b59b-8a613668bd5d",
   "metadata": {},
   "outputs": [],
   "source": [
    "rescale = tf.keras.layers.Rescaling(1./127.5, offset=-1)"
   ]
  },
  {
   "cell_type": "code",
   "execution_count": 11,
   "id": "bec82ba8-36ae-47d4-bad8-26f97013ae9d",
   "metadata": {},
   "outputs": [
    {
     "name": "stdout",
     "output_type": "stream",
     "text": [
      "WARNING:tensorflow:`input_shape` is undefined or non-square, or `rows` is not in [96, 128, 160, 192, 224]. Weights for input shape (224, 224) will be loaded as the default.\n"
     ]
    }
   ],
   "source": [
    "# Create the base model from the pre-trained model MobileNet V2\n",
    "IMG_SHAPE = IMG_SIZE + (3,)\n",
    "base_model = tf.keras.applications.MobileNetV2(input_shape=IMG_SHAPE,\n",
    "                                               include_top=False,\n",
    "                                               weights='imagenet')"
   ]
  },
  {
   "cell_type": "code",
   "execution_count": 12,
   "id": "d7fa1c97-32dc-493a-a53b-9df8dd1a809f",
   "metadata": {},
   "outputs": [
    {
     "name": "stderr",
     "output_type": "stream",
     "text": [
      "2022-12-09 16:23:25.811012: W tensorflow/core/framework/cpu_allocator_impl.cc:82] Allocation of 805306368 exceeds 10% of free system memory.\n",
      "2022-12-09 16:23:25.932449: W tensorflow/core/framework/cpu_allocator_impl.cc:82] Allocation of 805306368 exceeds 10% of free system memory.\n",
      "2022-12-09 16:23:26.121198: W tensorflow/core/framework/cpu_allocator_impl.cc:82] Allocation of 805306368 exceeds 10% of free system memory.\n",
      "2022-12-09 16:23:26.240372: W tensorflow/core/framework/cpu_allocator_impl.cc:82] Allocation of 811610112 exceeds 10% of free system memory.\n"
     ]
    }
   ],
   "source": [
    "image_batch, label_batch = next(iter(train_dataset))\n",
    "feature_batch = base_model(image_batch)"
   ]
  },
  {
   "cell_type": "code",
   "execution_count": 13,
   "id": "7fe97074-4cdd-476b-8764-d99e15fc02cc",
   "metadata": {},
   "outputs": [],
   "source": [
    "base_model.trainable = False"
   ]
  },
  {
   "cell_type": "code",
   "execution_count": 15,
   "id": "11be89be-2a2f-41f6-89e8-acfced3a5ccd",
   "metadata": {},
   "outputs": [
    {
     "name": "stdout",
     "output_type": "stream",
     "text": [
      "(32, 1280)\n"
     ]
    }
   ],
   "source": [
    "global_average_layer = tf.keras.layers.GlobalAveragePooling2D()\n",
    "feature_batch_average = global_average_layer(feature_batch)\n",
    "print(feature_batch_average.shape)"
   ]
  },
  {
   "cell_type": "code",
   "execution_count": 16,
   "id": "e3a62861-7f77-4e1d-b016-e72bc7d5a7d3",
   "metadata": {},
   "outputs": [
    {
     "name": "stdout",
     "output_type": "stream",
     "text": [
      "(32, 1)\n"
     ]
    }
   ],
   "source": [
    "# If you have more than 2 x classification levels, edit this cell! \n",
    "prediction_layer = tf.keras.layers.Dense(1)\n",
    "prediction_batch = prediction_layer(feature_batch_average)\n",
    "print(prediction_batch.shape)"
   ]
  },
  {
   "cell_type": "code",
   "execution_count": 17,
   "id": "5e640827-a45c-4b80-b9ea-cb94add52f29",
   "metadata": {},
   "outputs": [],
   "source": [
    "inputs = tf.keras.Input(shape=(512, 512, 3))\n",
    "#x = data_augmentation(inputs)\n",
    "x = preprocess_input(inputs)\n",
    "x = base_model(x, training=False)\n",
    "x = global_average_layer(x)\n",
    "x = tf.keras.layers.Dropout(0.2)(x)\n",
    "outputs = prediction_layer(x)\n",
    "model = tf.keras.Model(inputs, outputs)"
   ]
  },
  {
   "cell_type": "code",
   "execution_count": 18,
   "id": "d7cbe73c-9387-4753-8310-6d35bab79c88",
   "metadata": {},
   "outputs": [],
   "source": [
    "base_learning_rate = 0.0001\n",
    "model.compile(optimizer=tf.keras.optimizers.Adam(learning_rate=base_learning_rate),\n",
    "              loss=tf.keras.losses.BinaryCrossentropy(from_logits=True),\n",
    "              metrics=['accuracy'])"
   ]
  },
  {
   "cell_type": "code",
   "execution_count": 19,
   "id": "5b00bd5c-bdc9-4fbc-9a35-024b971b0ae5",
   "metadata": {},
   "outputs": [
    {
     "name": "stderr",
     "output_type": "stream",
     "text": [
      "2022-12-09 16:26:50.105951: W tensorflow/core/framework/cpu_allocator_impl.cc:82] Allocation of 805306368 exceeds 10% of free system memory.\n"
     ]
    },
    {
     "name": "stdout",
     "output_type": "stream",
     "text": [
      "7/7 [==============================] - 22s 2s/step - loss: 0.7335 - accuracy: 0.5150\n"
     ]
    }
   ],
   "source": [
    "# Step #1 - add all of the images into the training dataset\n",
    "# Step #2 - bulk up the VM so that it can train faster.\n",
    "\n",
    "initial_epochs = 10\n",
    "\n",
    "loss0, accuracy0 = model.evaluate(validation_dataset)"
   ]
  },
  {
   "cell_type": "code",
   "execution_count": 20,
   "id": "c92692b9-706f-41b3-8b30-4ecf42bec021",
   "metadata": {},
   "outputs": [
    {
     "name": "stdout",
     "output_type": "stream",
     "text": [
      "Epoch 1/10\n",
      "50/50 [==============================] - 162s 3s/step - loss: 0.7279 - accuracy: 0.4869 - val_loss: 0.7019 - val_accuracy: 0.5050\n",
      "Epoch 2/10\n",
      "50/50 [==============================] - 154s 3s/step - loss: 0.7087 - accuracy: 0.4963 - val_loss: 0.6980 - val_accuracy: 0.5150\n",
      "Epoch 3/10\n",
      "50/50 [==============================] - 157s 3s/step - loss: 0.7019 - accuracy: 0.5113 - val_loss: 0.6942 - val_accuracy: 0.5150\n",
      "Epoch 4/10\n",
      "50/50 [==============================] - 154s 3s/step - loss: 0.7024 - accuracy: 0.4869 - val_loss: 0.6905 - val_accuracy: 0.5150\n",
      "Epoch 5/10\n",
      "50/50 [==============================] - 159s 3s/step - loss: 0.6974 - accuracy: 0.5106 - val_loss: 0.6868 - val_accuracy: 0.5150\n",
      "Epoch 6/10\n",
      "50/50 [==============================] - 160s 3s/step - loss: 0.6916 - accuracy: 0.5206 - val_loss: 0.6832 - val_accuracy: 0.5200\n",
      "Epoch 7/10\n",
      "50/50 [==============================] - 154s 3s/step - loss: 0.6844 - accuracy: 0.5331 - val_loss: 0.6800 - val_accuracy: 0.5150\n",
      "Epoch 8/10\n",
      "50/50 [==============================] - 154s 3s/step - loss: 0.6782 - accuracy: 0.5250 - val_loss: 0.6766 - val_accuracy: 0.5150\n",
      "Epoch 9/10\n",
      "50/50 [==============================] - 155s 3s/step - loss: 0.6846 - accuracy: 0.5244 - val_loss: 0.6737 - val_accuracy: 0.5300\n",
      "Epoch 10/10\n",
      "50/50 [==============================] - 156s 3s/step - loss: 0.6675 - accuracy: 0.5312 - val_loss: 0.6701 - val_accuracy: 0.5250\n"
     ]
    }
   ],
   "source": [
    "history = model.fit(train_dataset,\n",
    "                    epochs=initial_epochs,\n",
    "                    validation_data=validation_dataset)"
   ]
  },
  {
   "cell_type": "code",
   "execution_count": 21,
   "id": "5a84d346-9eff-4c3c-a7bd-92328c3fed25",
   "metadata": {},
   "outputs": [
    {
     "name": "stdout",
     "output_type": "stream",
     "text": [
      "7/7 [==============================] - 22s 2s/step - loss: 0.6725 - accuracy: 0.5250\n"
     ]
    },
    {
     "data": {
      "text/plain": [
       "(0.6724671721458435, 0.5249999761581421)"
      ]
     },
     "execution_count": 21,
     "metadata": {},
     "output_type": "execute_result"
    }
   ],
   "source": [
    "loss, accuracy = model.evaluate(test_dataset)\n",
    "loss, accuracy"
   ]
  },
  {
   "cell_type": "code",
   "execution_count": 22,
   "id": "a355d3c5-6f0a-4625-bb9f-f58e515bd586",
   "metadata": {},
   "outputs": [
    {
     "name": "stdout",
     "output_type": "stream",
     "text": [
      "7/7 [==============================] - 23s 2s/step - loss: 0.5481 - accuracy: 0.6600\n"
     ]
    },
    {
     "data": {
      "text/plain": [
       "(0.5481200218200684, 0.6600000262260437)"
      ]
     },
     "execution_count": 22,
     "metadata": {},
     "output_type": "execute_result"
    }
   ],
   "source": [
    "loss, accuracy = model.evaluate(real_test_dataset)\n",
    "loss, accuracy"
   ]
  },
  {
   "cell_type": "code",
   "execution_count": 23,
   "id": "24c3b9a4-955b-44e4-92c5-9187e244731d",
   "metadata": {},
   "outputs": [
    {
     "data": {
      "image/png": "[encoded data removed]",
      "text/plain": [
       "<Figure size 800x800 with 2 Axes>"
      ]
     },
     "metadata": {},
     "output_type": "display_data"
    }
   ],
   "source": [
    "acc = history.history['accuracy']\n",
    "val_acc = history.history['val_accuracy']\n",
    "\n",
    "loss = history.history['loss']\n",
    "val_loss = history.history['val_loss']\n",
    "\n",
    "plt.figure(figsize=(8, 8))\n",
    "plt.subplot(2, 1, 1)\n",
    "plt.plot(acc, label='Training Accuracy')\n",
    "plt.plot(val_acc, label='Validation Accuracy')\n",
    "plt.legend(loc='lower right')\n",
    "plt.ylabel('Accuracy')\n",
    "plt.ylim([min(plt.ylim()),1])\n",
    "plt.title('Training and Validation Accuracy')\n",
    "\n",
    "plt.subplot(2, 1, 2)\n",
    "plt.plot(loss, label='Training Loss')\n",
    "plt.plot(val_loss, label='Validation Loss')\n",
    "plt.legend(loc='upper right')\n",
    "plt.ylabel('Cross Entropy')\n",
    "plt.ylim([0,1.0])\n",
    "plt.title('Training and Validation Loss')\n",
    "plt.xlabel('epoch')\n",
    "plt.show()"
   ]
  },
  {
   "cell_type": "code",
   "execution_count": null,
   "id": "e4a84c93-6964-41bd-bc5b-e2ed0155ff65",
   "metadata": {},
   "outputs": [],
   "source": []
  }
 ],
 "metadata": {
  "environment": {
   "kernel": "python3",
   "name": "tf2-gpu.2-8.m100",
   "type": "gcloud",
   "uri": "gcr.io/deeplearning-platform-release/tf2-gpu.2-8:m100"
  },
  "kernelspec": {
   "display_name": "Python 3",
   "language": "python",
   "name": "python3"
  },
  "language_info": {
   "codemirror_mode": {
    "name": "ipython",
    "version": 3
   },
   "file_extension": ".py",
   "mimetype": "text/x-python",
   "name": "python",
   "nbconvert_exporter": "python",
   "pygments_lexer": "ipython3",
   "version": "3.7.12"
  }
 },
 "nbformat": 4,
 "nbformat_minor": 5
}
