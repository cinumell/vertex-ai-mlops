{
 "cells": [
  {
   "cell_type": "markdown",
   "id": "787fb7b2-8986-4c87-ae09-76229907e7bd",
   "metadata": {},
   "source": [
    "![ga4](https://www.google-analytics.com/collect?v=2&tid=G-6VDTYWLKX6&cid=1&en=page_view&sid=1&dl=statmike%2Fvertex-ai-mlops%2FDev&dt=CPR+Endpoints+That+Train.ipynb)\n",
    "\n",
    "# Custom Prediction Routines for Endpoints That Train\n",
    "\n",
    "- https://cloud.google.com/vertex-ai/docs/predictions/custom-prediction-routines\n",
    "- https://cloud.google.com/python/docs/reference/aiplatform/latest/google.cloud.aiplatform.prediction.LocalModel\n",
    "- https://github.com/googleapis/python-aiplatform/blob/custom-prediction-routine/google/cloud/aiplatform/prediction/predictor.py\n",
    "- https://github.com/googleapis/python-aiplatform/blob/custom-prediction-routine/google/cloud/aiplatform/prediction/sklearn/predictor.py\n",
    "- https://codelabs.developers.google.com/vertex-cpr-sklearn#0\n",
    "- prediction request limit is 1.5MB: https://cloud.google.com/vertex-ai/docs/predictions/get-predictions#send_an_online_prediction_request\n",
    "\n",
    "**TODO**\n",
    "- [ ] Try using storage read for BigQuery\n",
    "    - https://cloud.google.com/bigquery/docs/reference/storage/libraries#client-libraries-usage-python"
   ]
  },
  {
   "cell_type": "code",
   "execution_count": 29,
   "id": "18571ae8-2301-4b07-bcfa-8abbb1bbc5b0",
   "metadata": {},
   "outputs": [
    {
     "data": {
      "text/plain": [
       "'statmike-mlops-349915'"
      ]
     },
     "execution_count": 29,
     "metadata": {},
     "output_type": "execute_result"
    }
   ],
   "source": [
    "project = !gcloud config get-value project\n",
    "PROJECT_ID = project[0]\n",
    "PROJECT_ID"
   ]
  },
  {
   "cell_type": "code",
   "execution_count": 30,
   "id": "704e2dcd-1d00-483a-be57-f7f6bdc4e738",
   "metadata": {},
   "outputs": [],
   "source": [
    "REGION = 'us-central1'\n",
    "EXPERIMENT = 'cpr_training'\n",
    "SERIES = '04'\n",
    "\n",
    "# source data\n",
    "BQ_PROJECT = PROJECT_ID\n",
    "BQ_DATASET = 'fraud'\n",
    "BQ_TABLE = 'fraud_prepped'\n",
    "\n",
    "# Resources\n",
    "DEPLOY_COMPUTE = 'n1-standard-4'\n",
    "\n",
    "# Model Training\n",
    "VAR_TARGET = 'Class'\n",
    "VAR_OMIT = 'transaction_id' # add more variables to the string with space delimiters"
   ]
  },
  {
   "cell_type": "code",
   "execution_count": 31,
   "id": "7a41430e-b913-4fff-be81-6b353a5ddce3",
   "metadata": {},
   "outputs": [],
   "source": [
    "from google.cloud import aiplatform\n",
    "from google.cloud import bigquery\n",
    "from google.cloud import service_usage_v1\n",
    "\n",
    "from datetime import datetime\n",
    "import json\n",
    "import os\n",
    "import numpy as np\n",
    "import pandas as pd\n",
    "import matplotlib.pyplot as plt\n",
    "from matplotlib import gridspec\n",
    "from sklearn import metrics\n",
    "\n",
    "from google.protobuf import json_format\n",
    "from google.protobuf.struct_pb2 import Value"
   ]
  },
  {
   "cell_type": "code",
   "execution_count": 32,
   "id": "402c9d3b-7911-4902-a5ab-a3e8227a80ac",
   "metadata": {},
   "outputs": [],
   "source": [
    "aiplatform.init(project=PROJECT_ID, location=REGION)\n",
    "bq = bigquery.Client(project = PROJECT_ID)"
   ]
  },
  {
   "cell_type": "code",
   "execution_count": 33,
   "id": "648a825b-39fb-48d4-acad-ff6451d0e6f0",
   "metadata": {},
   "outputs": [],
   "source": [
    "BUCKET = PROJECT_ID\n",
    "URI = f\"gs://{BUCKET}/{SERIES}/{EXPERIMENT}\"\n",
    "REPOSITORY = f\"{REGION}-docker.pkg.dev/{PROJECT_ID}/{PROJECT_ID}\"\n",
    "DIR = f\"temp/{EXPERIMENT}\""
   ]
  },
  {
   "cell_type": "code",
   "execution_count": 34,
   "id": "74d69b78-84dd-4d78-93f8-1768594cd641",
   "metadata": {},
   "outputs": [
    {
     "data": {
      "text/plain": [
       "'1026793852137-compute@developer.gserviceaccount.com'"
      ]
     },
     "execution_count": 34,
     "metadata": {},
     "output_type": "execute_result"
    }
   ],
   "source": [
    "SERVICE_ACCOUNT = !gcloud config list --format='value(core.account)' \n",
    "SERVICE_ACCOUNT = SERVICE_ACCOUNT[0]\n",
    "SERVICE_ACCOUNT"
   ]
  },
  {
   "cell_type": "code",
   "execution_count": 35,
   "id": "b2e4d24e-60d0-4b2e-8776-daf1441ab95d",
   "metadata": {},
   "outputs": [],
   "source": [
    "!rm -rf {DIR}\n",
    "!mkdir -p {DIR}"
   ]
  },
  {
   "cell_type": "markdown",
   "id": "fa3145cb-d91e-434b-b73f-6226740fd6ac",
   "metadata": {},
   "source": [
    "## Idea: Decision Tree on Samples\n",
    "\n",
    "- Input parameter is a sample size `n`\n",
    "- Retrieve a sample of size `n` from a BigQuery table to a Pandas dataframe\n",
    "- Use sklearn.tree.DecisionTreeClassifier to build a classifier\n",
    "- Retrieve the rules of the tree"
   ]
  },
  {
   "cell_type": "code",
   "execution_count": 36,
   "id": "5eb4a259-f204-4a12-aa5a-0aa94ea15f10",
   "metadata": {},
   "outputs": [],
   "source": [
    "n = 4000"
   ]
  },
  {
   "cell_type": "code",
   "execution_count": 37,
   "id": "ad465675-8a6a-4594-a30c-971eeaf7fc41",
   "metadata": {},
   "outputs": [],
   "source": [
    "train = bq.query(query = f\"\"\"\n",
    "        SELECT * EXCEPT(splits, transaction_id)\n",
    "            FROM `{BQ_PROJECT}.{BQ_DATASET}.{BQ_TABLE}`\n",
    "            WHERE splits = 'TRAIN' and RAND() < 0.1\n",
    "            LIMIT {n}\n",
    "        \"\"\").to_dataframe()\n",
    "y = train[VAR_TARGET]\n",
    "X = train.drop(VAR_TARGET, axis = 1)"
   ]
  },
  {
   "cell_type": "code",
   "execution_count": 38,
   "id": "376bf7a5-d1cc-4f81-ac52-5fb5dabedbac",
   "metadata": {},
   "outputs": [
    {
     "data": {
      "text/plain": [
       "DecisionTreeClassifier(max_leaf_nodes=3, random_state=0)"
      ]
     },
     "execution_count": 38,
     "metadata": {},
     "output_type": "execute_result"
    }
   ],
   "source": [
    "from sklearn.tree import DecisionTreeClassifier\n",
    "\n",
    "clf = DecisionTreeClassifier(max_leaf_nodes = 3, random_state = 0)\n",
    "clf.fit(X, y)"
   ]
  },
  {
   "cell_type": "code",
   "execution_count": 39,
   "id": "192f6492-b278-453f-b9aa-b57bb2d5e164",
   "metadata": {},
   "outputs": [
    {
     "data": {
      "text/plain": [
       "{2: 'V11 > 3.3807291984558105',\n",
       " 3: 'V11 <= 3.3807291984558105 and V16 <= -3.9015995264053345',\n",
       " 4: 'V11 <= 3.3807291984558105 and V16 > -3.9015995264053345'}"
      ]
     },
     "execution_count": 39,
     "metadata": {},
     "output_type": "execute_result"
    }
   ],
   "source": [
    "n_nodes = clf.tree_.node_count\n",
    "children_left = clf.tree_.children_left\n",
    "children_right = clf.tree_.children_right\n",
    "feature = clf.tree_.feature\n",
    "threshold = clf.tree_.threshold\n",
    "\n",
    "def path_builder(node_num, path, x):\n",
    "        path.append(node_num)\n",
    "        if node_num == x:\n",
    "            return True\n",
    "        left = False\n",
    "        right = False\n",
    "        if (children_left[node_num] !=-1):\n",
    "            left = path_builder(children_left[node_num], path, x)\n",
    "        if (children_right[node_num] !=-1):\n",
    "            right = path_builder(children_right[node_num], path, x)\n",
    "        if left or right :\n",
    "            return True\n",
    "        path.remove(node_num)\n",
    "        return False\n",
    "\n",
    "\n",
    "def rule_builder(path, column_names):\n",
    "    rule = ''\n",
    "    for index, node in enumerate(path):\n",
    "        if index != len(path)-1:\n",
    "            if len(rule) > 0: rule += ' and '\n",
    "            if (children_left[node] == path[index+1]):\n",
    "                rule += f\"{column_names[feature[node]]} <= {threshold[node]}\"\n",
    "            else:\n",
    "                rule += f\"{column_names[feature[node]]} > {threshold[node]}\"\n",
    "    return rule\n",
    "\n",
    "paths ={}\n",
    "for leaf in np.unique(clf.apply(X)):\n",
    "    path_leaf = []\n",
    "    path_builder(0, path_leaf, leaf)\n",
    "    paths[leaf] = np.unique(np.sort(path_leaf))\n",
    "\n",
    "rules = {}\n",
    "for key in paths:\n",
    "    rules[key] = rule_builder(paths[key], X.columns)\n",
    "\n",
    "rules"
   ]
  },
  {
   "cell_type": "markdown",
   "id": "7b72dc4e-caa9-40b8-add5-6cf1a5bb50be",
   "metadata": {},
   "source": [
    "---\n",
    "## Build Custom Prediction Routine\n",
    "\n",
    "A custom container built by the Vertex AI SDK that assist with pre/post processing code without the need to setup an HTTP server."
   ]
  },
  {
   "cell_type": "code",
   "execution_count": 13,
   "id": "1e6b719b-a96e-42c0-b802-703c0864d998",
   "metadata": {},
   "outputs": [],
   "source": [
    "!pip install google-cloud-aiplatform[prediction] -U -q"
   ]
  },
  {
   "cell_type": "code",
   "execution_count": 40,
   "id": "a125959a-8ec3-407c-b818-eb431f957441",
   "metadata": {},
   "outputs": [],
   "source": [
    "!mkdir -p {DIR}/SRC"
   ]
  },
  {
   "cell_type": "code",
   "execution_count": 15,
   "id": "c0b4cdb3-0849-4380-b39e-682fbb72e878",
   "metadata": {},
   "outputs": [
    {
     "name": "stdout",
     "output_type": "stream",
     "text": [
      "Writing temp/cpr_training/SRC/requirements.txt\n"
     ]
    }
   ],
   "source": [
    "%%writefile {DIR}/SRC/requirements.txt\n",
    "fastapi\n",
    "uvicorn==0.17.6\n",
    "#joblib~=1.0\n",
    "numpy~=1.20\n",
    "scikit-learn~=0.24\n",
    "pandas\n",
    "#google-cloud-storage>=1.26.0,<2.0.0dev\n",
    "google-cloud-aiplatform[prediction]>=1.16.0\n",
    "google-cloud-bigquery\n",
    "pyarrow"
   ]
  },
  {
   "cell_type": "code",
   "execution_count": 16,
   "id": "1a773c30-98d6-48c4-8a2a-a571c7c3e500",
   "metadata": {},
   "outputs": [
    {
     "name": "stdout",
     "output_type": "stream",
     "text": [
      "Writing temp/cpr_training/SRC/predictor.py\n"
     ]
    }
   ],
   "source": [
    "%%writefile {DIR}/SRC/predictor.py\n",
    "\n",
    "# packages\n",
    "import numpy as np\n",
    "import json\n",
    "from sklearn.tree import DecisionTreeClassifier\n",
    "from google.cloud.aiplatform.prediction.predictor import Predictor\n",
    "from google.cloud import bigquery\n",
    "\n",
    "##################################################################################################\n",
    "\n",
    "# clients\n",
    "bq = bigquery.Client(project = 'statmike-mlops-349915')\n",
    "\n",
    "# source data\n",
    "BQ_PROJECT = 'statmike-mlops-349915'\n",
    "BQ_DATASET = 'fraud'\n",
    "BQ_TABLE = 'fraud_prepped'\n",
    "\n",
    "# Model Training\n",
    "VAR_TARGET = 'Class'\n",
    "\n",
    "def ruler(n):\n",
    "    # helper function: \n",
    "    def path_builder(node_num, path, x):\n",
    "            path.append(node_num)\n",
    "            if node_num == x:\n",
    "                return True\n",
    "            left = False\n",
    "            right = False\n",
    "            if (children_left[node_num] !=-1):\n",
    "                left = path_builder(children_left[node_num], path, x)\n",
    "            if (children_right[node_num] !=-1):\n",
    "                right = path_builder(children_right[node_num], path, x)\n",
    "            if left or right :\n",
    "                return True\n",
    "            path.remove(node_num)\n",
    "            return False\n",
    "    # helper function:\n",
    "    def rule_builder(path, column_names):\n",
    "        rule = ''\n",
    "        for index, node in enumerate(path):\n",
    "            if index != len(path)-1:\n",
    "                if len(rule) > 0: rule += ' and '\n",
    "                if (children_left[node] == path[index+1]):\n",
    "                    rule += f\"{column_names[feature[node]]} <= {threshold[node]}\"\n",
    "                else:\n",
    "                    rule += f\"{column_names[feature[node]]} > {threshold[node]}\"\n",
    "        return rule\n",
    "    \n",
    "    # data\n",
    "    train = bq.query(query = f\"\"\"\n",
    "        SELECT * EXCEPT(splits, transaction_id)\n",
    "            FROM `{BQ_PROJECT}.{BQ_DATASET}.{BQ_TABLE}`\n",
    "            WHERE splits = 'TRAIN' and RAND() < 0.1\n",
    "            LIMIT {n}\n",
    "        \"\"\").to_dataframe()\n",
    "    y = train[VAR_TARGET]\n",
    "    X = train.drop(VAR_TARGET, axis = 1)\n",
    "    \n",
    "    # model\n",
    "    clf = DecisionTreeClassifier(max_leaf_nodes = 3, random_state = 0)\n",
    "    clf.fit(X, y)\n",
    "    \n",
    "    # outputs\n",
    "    n_nodes = clf.tree_.node_count\n",
    "    children_left = clf.tree_.children_left\n",
    "    children_right = clf.tree_.children_right\n",
    "    feature = clf.tree_.feature\n",
    "    threshold = clf.tree_.threshold\n",
    "    \n",
    "    # decision\n",
    "    paths ={}\n",
    "    for leaf in np.unique(clf.apply(X)):\n",
    "        path_leaf = []\n",
    "        path_builder(0, path_leaf, leaf)\n",
    "        paths[leaf] = np.unique(np.sort(path_leaf))\n",
    "    rules = {}\n",
    "    for key in paths:\n",
    "        rules[key] = rule_builder(paths[key], X.columns)\n",
    "\n",
    "    return rules\n",
    "\n",
    "##################################################################################################\n",
    "\n",
    "class CprPredictor(Predictor):\n",
    "    def __init__(self):\n",
    "        return\n",
    "\n",
    "    def load(self, artifacts_uri: str) -> None:\n",
    "        # no model to load here, this example trains a model and returns parameters\n",
    "        pass\n",
    "\n",
    "    def predict(self, instances):\n",
    "\n",
    "        instances = instances[\"instances\"]\n",
    "        results = [f\"{ruler(instance)}\" for instance in instances]\n",
    "        \n",
    "        return {\"predictions\": results}"
   ]
  },
  {
   "cell_type": "code",
   "execution_count": 17,
   "id": "808cfc13-fc4e-41fa-bebb-1ceb4e354b65",
   "metadata": {},
   "outputs": [],
   "source": [
    "from google.cloud.aiplatform.prediction import LocalModel\n",
    "# load the local predictor class:\n",
    "from temp.cpr_training.SRC.predictor import CprPredictor\n",
    "\n",
    "local_model = LocalModel.build_cpr_model(\n",
    "    src_dir = f\"{DIR}/SRC\",\n",
    "    output_image_uri = f\"{REPOSITORY}/{SERIES}_{EXPERIMENT}\",\n",
    "    predictor = CprPredictor,\n",
    "    requirements_path = os.path.join(f\"{DIR}/SRC\", \"requirements.txt\"),\n",
    ")"
   ]
  },
  {
   "cell_type": "code",
   "execution_count": 41,
   "id": "090489e3-b0d7-471b-935c-a89e816cad53",
   "metadata": {},
   "outputs": [],
   "source": [
    "with local_model.deploy_to_local_endpoint() as local_endpoint:\n",
    "    predict_response = local_endpoint.predict(\n",
    "        request = '{\"instances\": [100, 1000, 2000, 3000]}',\n",
    "        headers={\"Content-Type\": \"application/json\"}\n",
    "    )\n",
    "\n",
    "    health_check_response = local_endpoint.run_health_check()"
   ]
  },
  {
   "cell_type": "code",
   "execution_count": 42,
   "id": "38dfa846-49b9-467d-9e80-1f52233de3e3",
   "metadata": {},
   "outputs": [
    {
     "name": "stdout",
     "output_type": "stream",
     "text": [
      "{1: 'V11 <= 1.930665373802185', 2: 'V11 > 1.930665373802185'}\n",
      "\n",
      "{1: 'V3 <= -5.268670558929443', 2: 'V3 > -5.268670558929443'}\n",
      "\n",
      "{1: 'V10 <= -2.929439663887024', 3: 'V10 > -2.929439663887024 and V4 <= 5.794674873352051', 4: 'V10 > -2.929439663887024 and V4 > 5.794674873352051'}\n",
      "\n",
      "{1: 'V17 <= -3.3473413586616516', 2: 'V17 > -3.3473413586616516'}\n",
      "\n"
     ]
    },
    {
     "data": {
      "text/plain": [
       "[None, None, None, None]"
      ]
     },
     "execution_count": 42,
     "metadata": {},
     "output_type": "execute_result"
    }
   ],
   "source": [
    "[print(r+'\\n') for r in json.loads(predict_response.content)['predictions']]"
   ]
  },
  {
   "cell_type": "code",
   "execution_count": 20,
   "id": "20e01b5a-fdd7-405a-a173-53e153aef27c",
   "metadata": {},
   "outputs": [
    {
     "name": "stdout",
     "output_type": "stream",
     "text": [
      "\u001b[1;33mWARNING:\u001b[0m Your config file at [/home/jupyter/.docker/config.json] contains these credential helper entries:\n",
      "\n",
      "{\n",
      "  \"credHelpers\": {\n",
      "    \"gcr.io\": \"gcloud\",\n",
      "    \"us.gcr.io\": \"gcloud\",\n",
      "    \"eu.gcr.io\": \"gcloud\",\n",
      "    \"asia.gcr.io\": \"gcloud\",\n",
      "    \"staging-k8s.gcr.io\": \"gcloud\",\n",
      "    \"marketplace.gcr.io\": \"gcloud\",\n",
      "    \"us-central1-docker.pkg.dev\": \"gcloud\"\n",
      "  }\n",
      "}\n",
      "Adding credentials for: us-central1-docker.pkg.dev\n",
      "gcloud credential helpers already registered correctly.\n"
     ]
    }
   ],
   "source": [
    "!gcloud auth configure-docker {REGION}-docker.pkg.dev --quiet"
   ]
  },
  {
   "cell_type": "code",
   "execution_count": 21,
   "id": "1480545d-7fb5-4561-88df-ed77febd7080",
   "metadata": {},
   "outputs": [],
   "source": [
    "local_model.push_image()"
   ]
  },
  {
   "cell_type": "code",
   "execution_count": 22,
   "id": "29998a75-0f49-4758-9d0c-7e70441458f4",
   "metadata": {},
   "outputs": [
    {
     "name": "stdout",
     "output_type": "stream",
     "text": [
      "Creating Model\n",
      "Create Model backing LRO: projects/1026793852137/locations/us-central1/models/7595921104909107200/operations/3630419513234685952\n",
      "Model created. Resource name: projects/1026793852137/locations/us-central1/models/7595921104909107200@1\n",
      "To use this Model in another session:\n",
      "model = aiplatform.Model('projects/1026793852137/locations/us-central1/models/7595921104909107200@1')\n"
     ]
    }
   ],
   "source": [
    "model = aiplatform.Model.upload(\n",
    "    local_model = local_model,\n",
    "    display_name = f\"{SERIES}_{EXPERIMENT}\"\n",
    ")"
   ]
  },
  {
   "cell_type": "code",
   "execution_count": 23,
   "id": "a9daf4a3-7415-462d-8d40-911b2c43a6d1",
   "metadata": {},
   "outputs": [],
   "source": [
    "#model = aiplatform.Model('projects/1026793852137/locations/us-central1/models/6342900061709533184@1')"
   ]
  },
  {
   "cell_type": "code",
   "execution_count": 24,
   "id": "caf8af2d-85ba-4135-8e1f-2885c2815522",
   "metadata": {},
   "outputs": [
    {
     "name": "stdout",
     "output_type": "stream",
     "text": [
      "Creating Endpoint\n",
      "Create Endpoint backing LRO: projects/1026793852137/locations/us-central1/endpoints/5561404580081696768/operations/7667896579172335616\n",
      "Endpoint created. Resource name: projects/1026793852137/locations/us-central1/endpoints/5561404580081696768\n",
      "To use this Endpoint in another session:\n",
      "endpoint = aiplatform.Endpoint('projects/1026793852137/locations/us-central1/endpoints/5561404580081696768')\n",
      "Deploying model to Endpoint : projects/1026793852137/locations/us-central1/endpoints/5561404580081696768\n",
      "Deploy Endpoint model backing LRO: projects/1026793852137/locations/us-central1/endpoints/5561404580081696768/operations/685065356934381568\n",
      "Endpoint model deployed. Resource name: projects/1026793852137/locations/us-central1/endpoints/5561404580081696768\n"
     ]
    }
   ],
   "source": [
    "endpoint = model.deploy(\n",
    "    machine_type = DEPLOY_COMPUTE,\n",
    "    min_replica_count = 1,\n",
    "    max_replica_count = 5,\n",
    "    service_account = SERVICE_ACCOUNT\n",
    ")"
   ]
  },
  {
   "cell_type": "code",
   "execution_count": 25,
   "id": "39a4c384-daff-4db3-95d5-7411058e9c04",
   "metadata": {},
   "outputs": [],
   "source": [
    "#endpoint = aiplatform.Endpoint('projects/1026793852137/locations/us-central1/endpoints/4685331307255824384')"
   ]
  },
  {
   "cell_type": "code",
   "execution_count": 43,
   "id": "95edaa52-ca2c-40d5-927d-a523ff451288",
   "metadata": {},
   "outputs": [
    {
     "data": {
      "text/plain": [
       "Prediction(predictions=[\"{1: 'V17 <= -7.469338417053223', 3: 'V17 > -7.469338417053223 and V17 <= 1.427743911743164', 4: 'V17 > -7.469338417053223 and V17 > 1.427743911743164'}\", \"{1: 'V14 <= -5.702228307723999', 2: 'V14 > -5.702228307723999'}\", \"{1: 'V10 <= -2.821014881134033', 2: 'V10 > -2.821014881134033'}\"], deployed_model_id='4246379877168578560', model_version_id='1', model_resource_name='projects/1026793852137/locations/us-central1/models/7595921104909107200', explanations=None)"
      ]
     },
     "execution_count": 43,
     "metadata": {},
     "output_type": "execute_result"
    }
   ],
   "source": [
    "predictions = endpoint.predict(instances = [100, 1000, 2000])\n",
    "predictions"
   ]
  },
  {
   "cell_type": "code",
   "execution_count": 44,
   "id": "2537d65a-9650-4690-aeab-536482208bdc",
   "metadata": {},
   "outputs": [
    {
     "data": {
      "text/plain": [
       "3"
      ]
     },
     "execution_count": 44,
     "metadata": {},
     "output_type": "execute_result"
    }
   ],
   "source": [
    "len(predictions.predictions)"
   ]
  },
  {
   "cell_type": "code",
   "execution_count": 28,
   "id": "de0ed72a-bd0f-47e7-8886-f1f9553f1e48",
   "metadata": {},
   "outputs": [
    {
     "data": {
      "text/plain": [
       "'projects/1026793852137/locations/us-central1/endpoints/5561404580081696768'"
      ]
     },
     "execution_count": 28,
     "metadata": {},
     "output_type": "execute_result"
    }
   ],
   "source": [
    "endpoint.resource_name"
   ]
  },
  {
   "cell_type": "code",
   "execution_count": 45,
   "id": "09f5fbd0-4272-4f9b-a0fb-b3ee7acf0f7a",
   "metadata": {},
   "outputs": [],
   "source": [
    "# get the Async Client for the endpoint:\n",
    "from google.cloud import aiplatform_v1\n",
    "\n",
    "client_options = {\"api_endpoint\": f\"{REGION}-aiplatform.googleapis.com\"}\n",
    "parent = f\"projects/{PROJECT_ID}/locations/{REGION}\"\n",
    "\n",
    "client = aiplatform_v1.PredictionServiceAsyncClient(client_options = client_options)"
   ]
  },
  {
   "cell_type": "code",
   "execution_count": 46,
   "id": "8ec932c0-0c0a-4f69-b61e-05fa2c9610f5",
   "metadata": {},
   "outputs": [],
   "source": [
    "instance = [1000]"
   ]
  },
  {
   "cell_type": "code",
   "execution_count": 47,
   "id": "45d65e65-5e24-49fa-9994-f3b4dc04b18e",
   "metadata": {},
   "outputs": [],
   "source": [
    "import asyncio\n",
    "import time"
   ]
  },
  {
   "cell_type": "code",
   "execution_count": 48,
   "id": "9f928742-ef99-4618-be25-46af569f1b72",
   "metadata": {},
   "outputs": [
    {
     "data": {
      "text/plain": [
       "predictions {\n",
       "  string_value: \"{1: \\'V17 <= -5.97195303440094\\', 2: \\'V17 > -5.97195303440094\\'}\"\n",
       "}\n",
       "deployed_model_id: \"4246379877168578560\"\n",
       "model: \"projects/1026793852137/locations/us-central1/models/7595921104909107200\"\n",
       "model_display_name: \"04_cpr_training\"\n",
       "model_version_id: \"1\""
      ]
     },
     "execution_count": 48,
     "metadata": {},
     "output_type": "execute_result"
    }
   ],
   "source": [
    "predictions = await client.predict(endpoint = endpoint.resource_name, instances = instance)\n",
    "predictions"
   ]
  },
  {
   "cell_type": "code",
   "execution_count": 49,
   "id": "3d065d85-2b15-4fea-b7e1-92f38ddbe9e0",
   "metadata": {},
   "outputs": [
    {
     "data": {
      "text/plain": [
       "1"
      ]
     },
     "execution_count": 49,
     "metadata": {},
     "output_type": "execute_result"
    }
   ],
   "source": [
    "len(predictions.predictions)"
   ]
  },
  {
   "cell_type": "code",
   "execution_count": 50,
   "id": "96f6f425-e352-4a25-8e5a-6245d3b0ff30",
   "metadata": {},
   "outputs": [
    {
     "data": {
      "text/plain": [
       "[\"{1: 'V17 <= -5.97195303440094', 2: 'V17 > -5.97195303440094'}\"]"
      ]
     },
     "execution_count": 50,
     "metadata": {},
     "output_type": "execute_result"
    }
   ],
   "source": [
    "predictions.predictions"
   ]
  },
  {
   "cell_type": "code",
   "execution_count": null,
   "id": "d29d9af1-2c7b-4b61-83c2-e10b83e7ecae",
   "metadata": {},
   "outputs": [],
   "source": []
  },
  {
   "cell_type": "code",
   "execution_count": null,
   "id": "cff37f6d-28a3-41f1-ae7b-edf5163dbc42",
   "metadata": {},
   "outputs": [],
   "source": []
  },
  {
   "cell_type": "code",
   "execution_count": null,
   "id": "7c346ec4-72f6-43a1-91fa-ab38fb741435",
   "metadata": {},
   "outputs": [],
   "source": []
  },
  {
   "cell_type": "code",
   "execution_count": 55,
   "id": "534b1985-1807-47ec-92d4-8e32db21ad79",
   "metadata": {},
   "outputs": [],
   "source": [
    "async def asyncPredictions(batch_size = 1, concur_requests = 10, total_instances = 100):\n",
    "    limit = asyncio.Semaphore(concur_requests)\n",
    "    instance = [1000]\n",
    "    predictions = [None] * total_instances\n",
    "\n",
    "    async def predictor(p, batch_size):\n",
    "        async with limit:\n",
    "            if limit.locked():\n",
    "                await asyncio.sleep(.01)\n",
    "            prediction = await client.predict(\n",
    "                endpoint = endpoint.resource_name, \n",
    "                instances = instance * batch_size,\n",
    "                #retry = my_retry_policy,\n",
    "                timeout = 100000\n",
    "            )\n",
    "\n",
    "        predictions[p:p+batch_size] = prediction.predictions\n",
    "\n",
    "    async def runner(batch_size, total_instances):\n",
    "        tasks = []\n",
    "        for p in range(0, total_instances, batch_size):\n",
    "            task = asyncio.create_task(predictor(p, batch_size))\n",
    "            tasks.append(task)\n",
    "        results = await asyncio.gather(*tasks)\n",
    "\n",
    "    start = time.perf_counter()\n",
    "    await runner(batch_size, total_instances)\n",
    "    elapsed = time.perf_counter() - start\n",
    "    print(f'{elapsed:0.5f} seconds')\n",
    "    \n",
    "    return predictions"
   ]
  },
  {
   "cell_type": "code",
   "execution_count": 56,
   "id": "b6296348-e8e3-4f15-ac38-fb6456376a4f",
   "metadata": {},
   "outputs": [
    {
     "name": "stdout",
     "output_type": "stream",
     "text": [
      "9.92153 seconds\n"
     ]
    }
   ],
   "source": [
    "predictions = await asyncPredictions(1, 2, 10)"
   ]
  },
  {
   "cell_type": "code",
   "execution_count": 57,
   "id": "5a8a2fb7-0131-4ea8-9a97-15bed92008ca",
   "metadata": {},
   "outputs": [
    {
     "data": {
      "text/plain": [
       "10"
      ]
     },
     "execution_count": 57,
     "metadata": {},
     "output_type": "execute_result"
    }
   ],
   "source": [
    "len(predictions)"
   ]
  },
  {
   "cell_type": "code",
   "execution_count": 58,
   "id": "34b451f6-9ba0-431f-9549-0d30cfe6edb7",
   "metadata": {},
   "outputs": [
    {
     "data": {
      "text/plain": [
       "[\"{1: 'V11 <= 3.8927831649780273', 2: 'V11 > 3.8927831649780273'}\",\n",
       " \"{1: 'V3 <= -4.695509910583496', 2: 'V3 > -4.695509910583496'}\",\n",
       " \"{1: 'V11 <= 3.341222047805786', 2: 'V11 > 3.341222047805786'}\",\n",
       " \"{1: 'V3 <= -4.998672723770142', 3: 'V3 > -4.998672723770142 and V4 <= 6.29348349571228', 4: 'V3 > -4.998672723770142 and V4 > 6.29348349571228'}\",\n",
       " \"{1: 'V17 <= -6.767475247383118', 3: 'V17 > -6.767475247383118 and V11 <= 2.122326135635376', 4: 'V17 > -6.767475247383118 and V11 > 2.122326135635376'}\",\n",
       " \"{1: 'V11 <= 3.2266104221343994', 2: 'V11 > 3.2266104221343994'}\",\n",
       " \"{1: 'V3 <= -5.491417169570923', 2: 'V3 > -5.491417169570923'}\",\n",
       " \"{1: 'V14 <= -4.806050777435303', 2: 'V14 > -4.806050777435303'}\",\n",
       " \"{0: ''}\",\n",
       " \"{0: ''}\"]"
      ]
     },
     "execution_count": 58,
     "metadata": {},
     "output_type": "execute_result"
    }
   ],
   "source": [
    "predictions"
   ]
  },
  {
   "cell_type": "code",
   "execution_count": 59,
   "id": "0bef6743-7ef2-4f6e-b6d5-80b22c2aa181",
   "metadata": {},
   "outputs": [
    {
     "name": "stdout",
     "output_type": "stream",
     "text": [
      "9.67121 seconds\n"
     ]
    }
   ],
   "source": [
    "predictions = await asyncPredictions(1, 4, 20)"
   ]
  },
  {
   "cell_type": "code",
   "execution_count": 60,
   "id": "666e68eb-5016-4b12-a9bf-a09dd1f00ee9",
   "metadata": {},
   "outputs": [
    {
     "data": {
      "text/plain": [
       "20"
      ]
     },
     "execution_count": 60,
     "metadata": {},
     "output_type": "execute_result"
    }
   ],
   "source": [
    "len(predictions)"
   ]
  },
  {
   "cell_type": "code",
   "execution_count": 489,
   "id": "ee7a4fe1-aa34-4591-b46a-297a919d71a6",
   "metadata": {},
   "outputs": [
    {
     "name": "stdout",
     "output_type": "stream",
     "text": [
      "29.90747 seconds\n"
     ]
    }
   ],
   "source": [
    "predictions = await asyncPredictions(10, 4, 40)"
   ]
  },
  {
   "cell_type": "code",
   "execution_count": 490,
   "id": "3e0db730-0c5a-40f7-b1e5-415b6d1f5eba",
   "metadata": {},
   "outputs": [
    {
     "data": {
      "text/plain": [
       "40"
      ]
     },
     "execution_count": 490,
     "metadata": {},
     "output_type": "execute_result"
    }
   ],
   "source": [
    "len(predictions)"
   ]
  },
  {
   "cell_type": "code",
   "execution_count": 525,
   "id": "30e00af4-2be8-4bc6-9da4-38cc5bc2d310",
   "metadata": {},
   "outputs": [
    {
     "name": "stdout",
     "output_type": "stream",
     "text": [
      "65.90143 seconds\n"
     ]
    }
   ],
   "source": [
    "predictions = await asyncPredictions(10, 4, 100)"
   ]
  },
  {
   "cell_type": "code",
   "execution_count": 526,
   "id": "e22aab37-c6e2-482e-9a3b-a2e490b0249f",
   "metadata": {},
   "outputs": [
    {
     "data": {
      "text/plain": [
       "100"
      ]
     },
     "execution_count": 526,
     "metadata": {},
     "output_type": "execute_result"
    }
   ],
   "source": [
    "len(predictions)"
   ]
  },
  {
   "cell_type": "code",
   "execution_count": 527,
   "id": "6419cfe2-a96d-4b38-a0bd-377984aabeb6",
   "metadata": {},
   "outputs": [
    {
     "name": "stdout",
     "output_type": "stream",
     "text": [
      "62.64738 seconds\n"
     ]
    }
   ],
   "source": [
    "predictions = await asyncPredictions(10, 5, 100)"
   ]
  },
  {
   "cell_type": "code",
   "execution_count": 528,
   "id": "78bb8532-fd3a-4898-8334-94d462f5cadb",
   "metadata": {},
   "outputs": [
    {
     "data": {
      "text/plain": [
       "100"
      ]
     },
     "execution_count": 528,
     "metadata": {},
     "output_type": "execute_result"
    }
   ],
   "source": [
    "len(predictions)"
   ]
  },
  {
   "cell_type": "code",
   "execution_count": 495,
   "id": "ae932c83-3c6c-4316-911f-18e3a27cc90b",
   "metadata": {},
   "outputs": [
    {
     "name": "stdout",
     "output_type": "stream",
     "text": [
      "50.71739 seconds\n"
     ]
    }
   ],
   "source": [
    "predictions = await asyncPredictions(10, 6, 100)"
   ]
  },
  {
   "cell_type": "code",
   "execution_count": 496,
   "id": "22745d01-01e3-403b-b925-f287d281173a",
   "metadata": {},
   "outputs": [
    {
     "data": {
      "text/plain": [
       "100"
      ]
     },
     "execution_count": 496,
     "metadata": {},
     "output_type": "execute_result"
    }
   ],
   "source": [
    "len(predictions)"
   ]
  },
  {
   "cell_type": "code",
   "execution_count": 497,
   "id": "d9fff51d-8594-43de-adf0-7458d48565e2",
   "metadata": {},
   "outputs": [
    {
     "name": "stdout",
     "output_type": "stream",
     "text": [
      "60.53520 seconds\n"
     ]
    }
   ],
   "source": [
    "predictions = await asyncPredictions(10, 7, 100)"
   ]
  },
  {
   "cell_type": "code",
   "execution_count": 498,
   "id": "91a8a4ba-55a1-432f-a298-23be656c2edf",
   "metadata": {},
   "outputs": [
    {
     "data": {
      "text/plain": [
       "100"
      ]
     },
     "execution_count": 498,
     "metadata": {},
     "output_type": "execute_result"
    }
   ],
   "source": [
    "len(predictions)"
   ]
  },
  {
   "cell_type": "code",
   "execution_count": 506,
   "id": "14a8567d-d57d-483a-9f3c-2db0c5aca39a",
   "metadata": {},
   "outputs": [
    {
     "name": "stdout",
     "output_type": "stream",
     "text": [
      "60.52704 seconds\n"
     ]
    }
   ],
   "source": [
    "predictions = await asyncPredictions(10, 8, 100)"
   ]
  },
  {
   "cell_type": "code",
   "execution_count": 507,
   "id": "79abc6b2-db43-4233-94bb-9c8e729a1381",
   "metadata": {},
   "outputs": [
    {
     "data": {
      "text/plain": [
       "100"
      ]
     },
     "execution_count": 507,
     "metadata": {},
     "output_type": "execute_result"
    }
   ],
   "source": [
    "len(predictions)"
   ]
  },
  {
   "cell_type": "code",
   "execution_count": null,
   "id": "a06f22cb-126e-4367-b658-98c9351adb9c",
   "metadata": {},
   "outputs": [],
   "source": []
  },
  {
   "cell_type": "code",
   "execution_count": null,
   "id": "83002cb3-5645-4ac1-af0c-3dffac963467",
   "metadata": {},
   "outputs": [],
   "source": []
  },
  {
   "cell_type": "code",
   "execution_count": null,
   "id": "adea21d9-cb6a-4937-ae67-ca774e020c10",
   "metadata": {},
   "outputs": [],
   "source": []
  },
  {
   "cell_type": "code",
   "execution_count": null,
   "id": "fa96069d-2d1c-4954-a6a0-dc983e0e4ed2",
   "metadata": {},
   "outputs": [],
   "source": []
  },
  {
   "cell_type": "code",
   "execution_count": null,
   "id": "b2cb9c3e-cffd-4cc3-841b-605298c6a2c6",
   "metadata": {},
   "outputs": [],
   "source": []
  },
  {
   "cell_type": "code",
   "execution_count": 120,
   "id": "1b5e3ce3-7a72-4109-9166-653b7e4e54d8",
   "metadata": {},
   "outputs": [],
   "source": [
    "from google.api_core.retry import Retry\n",
    "from google.api_core import exceptions\n",
    "\n",
    "_RETRIABLE_TYPES = [\n",
    "    exceptions.InternalServerError,\n",
    "    exceptions.BadGateway,\n",
    "    exceptions.TooManyRequests,\n",
    "    exceptions.ServiceUnavailable,\n",
    "]\n",
    "\n",
    "def is_retryable(exc):\n",
    "    return isinstance(exc, _RETRIABLE_TYPES)\n",
    "\n",
    "my_retry_policy = Retry(predicate = is_retryable)"
   ]
  },
  {
   "cell_type": "code",
   "execution_count": 136,
   "id": "369abe0b-849e-48c8-8e64-3381443df7ae",
   "metadata": {},
   "outputs": [],
   "source": [
    "async def predictor(batch_size, n):\n",
    "    prediction = await client.predict(\n",
    "        endpoint = endpoint.resource_name, \n",
    "        instances = [n] * batch_size,\n",
    "        retry = Retry(deadline = 120),\n",
    "        timeout = 100000)\n",
    "    return prediction.predictions[0]\n",
    "\n",
    "async def runner(concur_requests, batch_size, n):\n",
    "    tasks = [predictor(batch_size, n) for _ in range(concur_requests)]\n",
    "    return await asyncio.gather(*tasks)"
   ]
  },
  {
   "cell_type": "code",
   "execution_count": 130,
   "id": "e374c6e1-27e4-49bd-bb97-617fb7aca642",
   "metadata": {},
   "outputs": [
    {
     "data": {
      "text/plain": [
       "10"
      ]
     },
     "execution_count": 130,
     "metadata": {},
     "output_type": "execute_result"
    }
   ],
   "source": [
    "results = await runner(10, 1, 1000)\n",
    "len(results)"
   ]
  },
  {
   "cell_type": "code",
   "execution_count": 131,
   "id": "03c9abd6-3a26-4022-b53f-6c1ca428ff9a",
   "metadata": {},
   "outputs": [
    {
     "data": {
      "text/plain": [
       "[\"{1: 'V3 <= -5.327307939529419', 3: 'V3 > -5.327307939529419 and V11 <= 2.131626844406128', 4: 'V3 > -5.327307939529419 and V11 > 2.131626844406128'}\",\n",
       " \"{0: ''}\",\n",
       " \"{1: 'V17 <= -2.4286970496177673', 3: 'V17 > -2.4286970496177673 and V13 <= -2.413966417312622', 4: 'V17 > -2.4286970496177673 and V13 > -2.413966417312622'}\",\n",
       " \"{1: 'V10 <= -2.696150541305542', 2: 'V10 > -2.696150541305542'}\",\n",
       " \"{1: 'V11 <= 3.3314086198806763', 2: 'V11 > 3.3314086198806763'}\",\n",
       " \"{1: 'V3 <= -4.791704416275024', 3: 'V3 > -4.791704416275024 and V4 <= 6.180951833724976', 4: 'V3 > -4.791704416275024 and V4 > 6.180951833724976'}\",\n",
       " \"{1: 'V17 <= -5.151315927505493', 3: 'V17 > -5.151315927505493 and V13 <= -2.407018303871155', 4: 'V17 > -5.151315927505493 and V13 > -2.407018303871155'}\",\n",
       " \"{0: ''}\",\n",
       " \"{1: 'V10 <= -2.6969146728515625', 2: 'V10 > -2.6969146728515625'}\",\n",
       " \"{2: 'V11 > 3.078174352645874', 3: 'V11 <= 3.078174352645874 and V7 <= 1.2924550771713257', 4: 'V11 <= 3.078174352645874 and V7 > 1.2924550771713257'}\"]"
      ]
     },
     "execution_count": 131,
     "metadata": {},
     "output_type": "execute_result"
    }
   ],
   "source": [
    "results"
   ]
  },
  {
   "cell_type": "code",
   "execution_count": 137,
   "id": "094cbf82-f6b1-4c12-9627-e2cc3fcca7cd",
   "metadata": {},
   "outputs": [
    {
     "data": {
      "text/plain": [
       "20"
      ]
     },
     "execution_count": 137,
     "metadata": {},
     "output_type": "execute_result"
    }
   ],
   "source": [
    "results = []\n",
    "for l in range(2):\n",
    "    results += await runner(10, 1, 1000)\n",
    "len(results)"
   ]
  },
  {
   "cell_type": "code",
   "execution_count": 138,
   "id": "c7be265e-7fb0-494e-b8b1-411b37fb1ddf",
   "metadata": {},
   "outputs": [
    {
     "data": {
      "text/plain": [
       "[\"{1: 'V10 <= -2.87595272064209', 2: 'V10 > -2.87595272064209'}\",\n",
       " \"{1: 'V4 <= 4.793796539306641', 3: 'V4 > 4.793796539306641 and V16 <= 1.2312788218259811', 4: 'V4 > 4.793796539306641 and V16 > 1.2312788218259811'}\",\n",
       " \"{1: 'V11 <= 3.702981114387512', 2: 'V11 > 3.702981114387512'}\",\n",
       " \"{1: 'V11 <= 2.8443214893341064', 2: 'V11 > 2.8443214893341064'}\",\n",
       " \"{1: 'V10 <= -2.585103750228882', 3: 'V10 > -2.585103750228882 and V7 <= 1.2888912558555603', 4: 'V10 > -2.585103750228882 and V7 > 1.2888912558555603'}\",\n",
       " \"{1: 'V17 <= -3.8000799417495728', 3: 'V17 > -3.8000799417495728 and V7 <= 1.2912284135818481', 4: 'V17 > -3.8000799417495728 and V7 > 1.2912284135818481'}\",\n",
       " \"{1: 'V14 <= -4.832205533981323', 3: 'V14 > -4.832205533981323 and V13 <= -2.4244229793548584', 4: 'V14 > -4.832205533981323 and V13 > -2.4244229793548584'}\",\n",
       " \"{0: ''}\",\n",
       " \"{1: 'V6 <= -3.1283116340637207', 2: 'V6 > -3.1283116340637207'}\",\n",
       " \"{1: 'V7 <= 1.2913868427276611', 3: 'V7 > 1.2913868427276611 and V7 <= 1.2960330247879028', 4: 'V7 > 1.2913868427276611 and V7 > 1.2960330247879028'}\",\n",
       " \"{1: 'V17 <= -3.3473413586616516', 2: 'V17 > -3.3473413586616516'}\",\n",
       " \"{1: 'V10 <= -3.2775261402130127', 2: 'V10 > -3.2775261402130127'}\",\n",
       " \"{1: 'V14 <= -4.205401062965393', 2: 'V14 > -4.205401062965393'}\",\n",
       " \"{2: 'V11 > 2.689974546432495', 3: 'V11 <= 2.689974546432495 and V5 <= 7.789342880249023', 4: 'V11 <= 2.689974546432495 and V5 > 7.789342880249023'}\",\n",
       " \"{1: 'V10 <= -2.830782413482666', 3: 'V10 > -2.830782413482666 and V5 <= 9.616713523864746', 4: 'V10 > -2.830782413482666 and V5 > 9.616713523864746'}\",\n",
       " \"{2: 'V11 > 3.498225212097168', 3: 'V11 <= 3.498225212097168 and V7 <= 1.2793235182762146', 4: 'V11 <= 3.498225212097168 and V7 > 1.2793235182762146'}\",\n",
       " \"{1: 'V3 <= -5.491417169570923', 2: 'V3 > -5.491417169570923'}\",\n",
       " \"{1: 'V10 <= -2.6976709365844727', 2: 'V10 > -2.6976709365844727'}\",\n",
       " \"{1: 'V11 <= 3.181897759437561', 2: 'V11 > 3.181897759437561'}\",\n",
       " \"{1: 'V17 <= -4.118129730224609', 2: 'V17 > -4.118129730224609'}\"]"
      ]
     },
     "execution_count": 138,
     "metadata": {},
     "output_type": "execute_result"
    }
   ],
   "source": [
    "results"
   ]
  },
  {
   "cell_type": "code",
   "execution_count": 139,
   "id": "f43fbf0a-7190-43d9-a24a-20795ed107d2",
   "metadata": {},
   "outputs": [
    {
     "data": {
      "text/plain": [
       "25"
      ]
     },
     "execution_count": 139,
     "metadata": {},
     "output_type": "execute_result"
    }
   ],
   "source": [
    "results = []\n",
    "for l in range(1):\n",
    "    results += await runner(25, 1, 4000)\n",
    "len(results)"
   ]
  },
  {
   "cell_type": "code",
   "execution_count": 142,
   "id": "5cf8df38-201f-46ba-8dec-361bfea69837",
   "metadata": {},
   "outputs": [
    {
     "ename": "ServiceUnavailable",
     "evalue": "503 502:Bad Gateway",
     "output_type": "error",
     "traceback": [
      "\u001b[0;31m---------------------------------------------------------------------------\u001b[0m",
      "\u001b[0;31mAioRpcError\u001b[0m                               Traceback (most recent call last)",
      "\u001b[0;32m/opt/conda/lib/python3.7/site-packages/google/api_core/grpc_helpers_async.py\u001b[0m in \u001b[0;36m__await__\u001b[0;34m(self)\u001b[0m\n\u001b[1;32m     83\u001b[0m         \u001b[0;32mtry\u001b[0m\u001b[0;34m:\u001b[0m\u001b[0;34m\u001b[0m\u001b[0;34m\u001b[0m\u001b[0m\n\u001b[0;32m---> 84\u001b[0;31m             \u001b[0mresponse\u001b[0m \u001b[0;34m=\u001b[0m \u001b[0;32myield\u001b[0m \u001b[0;32mfrom\u001b[0m \u001b[0mself\u001b[0m\u001b[0;34m.\u001b[0m\u001b[0m_call\u001b[0m\u001b[0;34m.\u001b[0m\u001b[0m__await__\u001b[0m\u001b[0;34m(\u001b[0m\u001b[0;34m)\u001b[0m\u001b[0;34m\u001b[0m\u001b[0;34m\u001b[0m\u001b[0m\n\u001b[0m\u001b[1;32m     85\u001b[0m             \u001b[0;32mreturn\u001b[0m \u001b[0mresponse\u001b[0m\u001b[0;34m\u001b[0m\u001b[0;34m\u001b[0m\u001b[0m\n",
      "\u001b[0;32m/opt/conda/lib/python3.7/site-packages/grpc/aio/_call.py\u001b[0m in \u001b[0;36m__await__\u001b[0;34m(self)\u001b[0m\n\u001b[1;32m    290\u001b[0m                 raise _create_rpc_error(self._cython_call._initial_metadata,\n\u001b[0;32m--> 291\u001b[0;31m                                         self._cython_call._status)\n\u001b[0m\u001b[1;32m    292\u001b[0m         \u001b[0;32melse\u001b[0m\u001b[0;34m:\u001b[0m\u001b[0;34m\u001b[0m\u001b[0;34m\u001b[0m\u001b[0m\n",
      "\u001b[0;31mAioRpcError\u001b[0m: <AioRpcError of RPC that terminated with:\n\tstatus = StatusCode.UNAVAILABLE\n\tdetails = \"502:Bad Gateway\"\n\tdebug_error_string = \"{\"created\":\"@1670591059.087416584\",\"description\":\"Error received from peer ipv4:172.217.214.95:443\",\"file\":\"/home/conda/feedstock_root/build_artifacts/grpc-split_1656146941531/work/src/core/lib/surface/call.cc\",\"file_line\":966,\"grpc_message\":\"502:Bad Gateway\",\"grpc_status\":14}\"\n>",
      "\nThe above exception was the direct cause of the following exception:\n",
      "\u001b[0;31mServiceUnavailable\u001b[0m                        Traceback (most recent call last)",
      "\u001b[0;32m/tmp/ipykernel_31775/2928332258.py\u001b[0m in \u001b[0;36masync-def-wrapper\u001b[0;34m()\u001b[0m\n\u001b[1;32m      4\u001b[0m \u001b[0mlen\u001b[0m\u001b[0;34m(\u001b[0m\u001b[0mresults\u001b[0m\u001b[0;34m)\u001b[0m\u001b[0;34m\u001b[0m\u001b[0;34m\u001b[0m\u001b[0m\n",
      "\u001b[0;32m/tmp/ipykernel_31775/3664850384.py\u001b[0m in \u001b[0;36mrunner\u001b[0;34m(concur_requests, batch_size, n)\u001b[0m\n\u001b[1;32m      9\u001b[0m \u001b[0;32masync\u001b[0m \u001b[0;32mdef\u001b[0m \u001b[0mrunner\u001b[0m\u001b[0;34m(\u001b[0m\u001b[0mconcur_requests\u001b[0m\u001b[0;34m,\u001b[0m \u001b[0mbatch_size\u001b[0m\u001b[0;34m,\u001b[0m \u001b[0mn\u001b[0m\u001b[0;34m)\u001b[0m\u001b[0;34m:\u001b[0m\u001b[0;34m\u001b[0m\u001b[0;34m\u001b[0m\u001b[0m\n\u001b[1;32m     10\u001b[0m     \u001b[0mtasks\u001b[0m \u001b[0;34m=\u001b[0m \u001b[0;34m[\u001b[0m\u001b[0mpredictor\u001b[0m\u001b[0;34m(\u001b[0m\u001b[0mbatch_size\u001b[0m\u001b[0;34m,\u001b[0m \u001b[0mn\u001b[0m\u001b[0;34m)\u001b[0m \u001b[0;32mfor\u001b[0m \u001b[0m_\u001b[0m \u001b[0;32min\u001b[0m \u001b[0mrange\u001b[0m\u001b[0;34m(\u001b[0m\u001b[0mconcur_requests\u001b[0m\u001b[0;34m)\u001b[0m\u001b[0;34m]\u001b[0m\u001b[0;34m\u001b[0m\u001b[0;34m\u001b[0m\u001b[0m\n\u001b[0;32m---> 11\u001b[0;31m     \u001b[0;32mreturn\u001b[0m \u001b[0;32mawait\u001b[0m \u001b[0masyncio\u001b[0m\u001b[0;34m.\u001b[0m\u001b[0mgather\u001b[0m\u001b[0;34m(\u001b[0m\u001b[0;34m*\u001b[0m\u001b[0mtasks\u001b[0m\u001b[0;34m)\u001b[0m\u001b[0;34m\u001b[0m\u001b[0;34m\u001b[0m\u001b[0m\n\u001b[0m",
      "\u001b[0;32m/tmp/ipykernel_31775/3664850384.py\u001b[0m in \u001b[0;36mpredictor\u001b[0;34m(batch_size, n)\u001b[0m\n\u001b[1;32m      4\u001b[0m         \u001b[0minstances\u001b[0m \u001b[0;34m=\u001b[0m \u001b[0;34m[\u001b[0m\u001b[0mn\u001b[0m\u001b[0;34m]\u001b[0m \u001b[0;34m*\u001b[0m \u001b[0mbatch_size\u001b[0m\u001b[0;34m,\u001b[0m\u001b[0;34m\u001b[0m\u001b[0;34m\u001b[0m\u001b[0m\n\u001b[1;32m      5\u001b[0m         \u001b[0mretry\u001b[0m \u001b[0;34m=\u001b[0m \u001b[0mRetry\u001b[0m\u001b[0;34m(\u001b[0m\u001b[0mdeadline\u001b[0m \u001b[0;34m=\u001b[0m \u001b[0;36m120\u001b[0m\u001b[0;34m)\u001b[0m\u001b[0;34m,\u001b[0m\u001b[0;34m\u001b[0m\u001b[0;34m\u001b[0m\u001b[0m\n\u001b[0;32m----> 6\u001b[0;31m         timeout = 100000)\n\u001b[0m\u001b[1;32m      7\u001b[0m     \u001b[0;32mreturn\u001b[0m \u001b[0mprediction\u001b[0m\u001b[0;34m.\u001b[0m\u001b[0mpredictions\u001b[0m\u001b[0;34m[\u001b[0m\u001b[0;36m0\u001b[0m\u001b[0;34m]\u001b[0m\u001b[0;34m\u001b[0m\u001b[0;34m\u001b[0m\u001b[0m\n\u001b[1;32m      8\u001b[0m \u001b[0;34m\u001b[0m\u001b[0m\n",
      "\u001b[0;32m/opt/conda/lib/python3.7/site-packages/google/cloud/aiplatform_v1/services/prediction_service/async_client.py\u001b[0m in \u001b[0;36mpredict\u001b[0;34m(self, request, endpoint, instances, parameters, retry, timeout, metadata)\u001b[0m\n\u001b[1;32m    346\u001b[0m             \u001b[0mretry\u001b[0m\u001b[0;34m=\u001b[0m\u001b[0mretry\u001b[0m\u001b[0;34m,\u001b[0m\u001b[0;34m\u001b[0m\u001b[0;34m\u001b[0m\u001b[0m\n\u001b[1;32m    347\u001b[0m             \u001b[0mtimeout\u001b[0m\u001b[0;34m=\u001b[0m\u001b[0mtimeout\u001b[0m\u001b[0;34m,\u001b[0m\u001b[0;34m\u001b[0m\u001b[0;34m\u001b[0m\u001b[0m\n\u001b[0;32m--> 348\u001b[0;31m             \u001b[0mmetadata\u001b[0m\u001b[0;34m=\u001b[0m\u001b[0mmetadata\u001b[0m\u001b[0;34m,\u001b[0m\u001b[0;34m\u001b[0m\u001b[0;34m\u001b[0m\u001b[0m\n\u001b[0m\u001b[1;32m    349\u001b[0m         )\n\u001b[1;32m    350\u001b[0m \u001b[0;34m\u001b[0m\u001b[0m\n",
      "\u001b[0;32m/opt/conda/lib/python3.7/site-packages/google/api_core/grpc_helpers_async.py\u001b[0m in \u001b[0;36m__await__\u001b[0;34m(self)\u001b[0m\n\u001b[1;32m     85\u001b[0m             \u001b[0;32mreturn\u001b[0m \u001b[0mresponse\u001b[0m\u001b[0;34m\u001b[0m\u001b[0;34m\u001b[0m\u001b[0m\n\u001b[1;32m     86\u001b[0m         \u001b[0;32mexcept\u001b[0m \u001b[0mgrpc\u001b[0m\u001b[0;34m.\u001b[0m\u001b[0mRpcError\u001b[0m \u001b[0;32mas\u001b[0m \u001b[0mrpc_error\u001b[0m\u001b[0;34m:\u001b[0m\u001b[0;34m\u001b[0m\u001b[0;34m\u001b[0m\u001b[0m\n\u001b[0;32m---> 87\u001b[0;31m             \u001b[0;32mraise\u001b[0m \u001b[0mexceptions\u001b[0m\u001b[0;34m.\u001b[0m\u001b[0mfrom_grpc_error\u001b[0m\u001b[0;34m(\u001b[0m\u001b[0mrpc_error\u001b[0m\u001b[0;34m)\u001b[0m \u001b[0;32mfrom\u001b[0m \u001b[0mrpc_error\u001b[0m\u001b[0;34m\u001b[0m\u001b[0;34m\u001b[0m\u001b[0m\n\u001b[0m\u001b[1;32m     88\u001b[0m \u001b[0;34m\u001b[0m\u001b[0m\n\u001b[1;32m     89\u001b[0m \u001b[0;34m\u001b[0m\u001b[0m\n",
      "\u001b[0;31mServiceUnavailable\u001b[0m: 503 502:Bad Gateway"
     ]
    }
   ],
   "source": [
    "results = []\n",
    "for l in range(1):\n",
    "    results += await runner(25, 1, 40000)\n",
    "len(results)"
   ]
  },
  {
   "cell_type": "code",
   "execution_count": null,
   "id": "94f7c75a-88f9-4d75-95e4-bef1bc8e53c1",
   "metadata": {},
   "outputs": [],
   "source": []
  },
  {
   "cell_type": "code",
   "execution_count": null,
   "id": "ccc9a2fe-0cff-4e77-a4c5-4806ba70135f",
   "metadata": {},
   "outputs": [],
   "source": []
  },
  {
   "cell_type": "code",
   "execution_count": null,
   "id": "53f650e6-b631-4b71-a471-dca2425a9945",
   "metadata": {},
   "outputs": [],
   "source": []
  },
  {
   "cell_type": "code",
   "execution_count": null,
   "id": "efb1d4ff-0283-4de7-a584-302a3dc17989",
   "metadata": {},
   "outputs": [],
   "source": []
  },
  {
   "cell_type": "code",
   "execution_count": null,
   "id": "82099f5e-f75a-445f-8b26-3d74a1de666a",
   "metadata": {},
   "outputs": [],
   "source": []
  },
  {
   "cell_type": "code",
   "execution_count": null,
   "id": "22a9bb64-055c-4a6b-a022-6c41cd157867",
   "metadata": {},
   "outputs": [],
   "source": []
  },
  {
   "cell_type": "code",
   "execution_count": null,
   "id": "28c00742-bc4c-45c6-b670-f13c0c06755b",
   "metadata": {},
   "outputs": [],
   "source": []
  },
  {
   "cell_type": "code",
   "execution_count": null,
   "id": "e5abf1cc-f381-413e-a266-08eb755e2c0a",
   "metadata": {},
   "outputs": [],
   "source": []
  },
  {
   "cell_type": "code",
   "execution_count": 61,
   "id": "607f48cd-a6f9-4f75-8269-7679fac93c5c",
   "metadata": {},
   "outputs": [
    {
     "name": "stdout",
     "output_type": "stream",
     "text": [
      "Undeploying Endpoint model: projects/1026793852137/locations/us-central1/endpoints/5561404580081696768\n",
      "Undeploy Endpoint model backing LRO: projects/1026793852137/locations/us-central1/endpoints/5561404580081696768/operations/626905589871542272\n",
      "Endpoint model undeployed. Resource name: projects/1026793852137/locations/us-central1/endpoints/5561404580081696768\n",
      "Deleting Endpoint : projects/1026793852137/locations/us-central1/endpoints/5561404580081696768\n",
      "Delete Endpoint  backing LRO: projects/1026793852137/locations/us-central1/operations/2364169146129711104\n",
      "Endpoint deleted. . Resource name: projects/1026793852137/locations/us-central1/endpoints/5561404580081696768\n"
     ]
    }
   ],
   "source": [
    "endpoint.delete(force = True)"
   ]
  },
  {
   "cell_type": "code",
   "execution_count": 62,
   "id": "eb0c8d49-ef5a-4c2b-bb48-06452866cc30",
   "metadata": {},
   "outputs": [
    {
     "name": "stdout",
     "output_type": "stream",
     "text": [
      "Deleting Model : projects/1026793852137/locations/us-central1/models/7595921104909107200\n",
      "Delete Model  backing LRO: projects/1026793852137/locations/us-central1/operations/999578459036450816\n",
      "Model deleted. . Resource name: projects/1026793852137/locations/us-central1/models/7595921104909107200\n"
     ]
    }
   ],
   "source": [
    "model.delete()"
   ]
  },
  {
   "cell_type": "code",
   "execution_count": null,
   "id": "a7ae1552-96ef-4e66-aefe-de5845a07ad4",
   "metadata": {},
   "outputs": [],
   "source": []
  }
 ],
 "metadata": {
  "environment": {
   "kernel": "python3",
   "name": "tf2-gpu.2-3.m94",
   "type": "gcloud",
   "uri": "gcr.io/deeplearning-platform-release/tf2-gpu.2-3:m94"
  },
  "kernelspec": {
   "display_name": "Python 3",
   "language": "python",
   "name": "python3"
  },
  "language_info": {
   "codemirror_mode": {
    "name": "ipython",
    "version": 3
   },
   "file_extension": ".py",
   "mimetype": "text/x-python",
   "name": "python",
   "nbconvert_exporter": "python",
   "pygments_lexer": "ipython3",
   "version": "3.7.12"
  }
 },
 "nbformat": 4,
 "nbformat_minor": 5
}
